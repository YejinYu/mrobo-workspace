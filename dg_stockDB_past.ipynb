{
 "cells": [
  {
   "cell_type": "code",
   "execution_count": 1,
   "metadata": {},
   "outputs": [],
   "source": [
    "import pandas as pd\n",
    "import requests\n",
    "from bs4 import BeautifulSoup\n",
    "import re\n",
    "import pymysql\n",
    "from datetime import datetime"
   ]
  },
  {
   "cell_type": "code",
   "execution_count": 2,
   "metadata": {},
   "outputs": [],
   "source": [
    "# MySQL Connection 연결 (DB 연결)\n",
    "def setting_db():\n",
    "    conn = pymysql.connect(host=\"localhost\", \n",
    "                       port=3306, user=\"root\", \n",
    "                       passwd=\"qlqtmajrwk\",\n",
    "                       db=\"dg\",\n",
    "                       charset=\"utf8\")\n",
    "    cursor = conn.cursor(pymysql.cursors.DictCursor) # 리스트로 받기(tuple은 conn.cursor())\n",
    "    \n",
    "    return conn, cursor"
   ]
  },
  {
   "cell_type": "code",
   "execution_count": 3,
   "metadata": {},
   "outputs": [],
   "source": [
    "# stockDB 만들기\n",
    "conn, cursor = setting_db()\n",
    "sql = '''CREATE TABLE stockDB (datecd varchar(45) NOT NULL,\n",
    "                             crp_cd varchar(8), \n",
    "                             date date,\n",
    "                             open float,\n",
    "                             high float,\n",
    "                             low float,\n",
    "                             close float,\n",
    "                             diff float,\n",
    "                             volume float,\n",
    "                             PRIMARY KEY (datecd)\n",
    "                            );\n",
    "                            '''\n",
    "cursor.execute(sql)\n",
    "conn.close()"
   ]
  },
  {
   "cell_type": "code",
   "execution_count": 4,
   "metadata": {},
   "outputs": [],
   "source": [
    "code_df = pd.read_html('http://kind.krx.co.kr/corpgeneral/corpList.do?method=download&searchType=13', header=0)[0]\n",
    "code_df.종목코드 = code_df.종목코드.map('{:06d}'.format)\n",
    "code_df = code_df[['회사명', '종목코드']] \n",
    "code_df = code_df.rename(columns={'회사명': 'name', '종목코드': 'code'})\n",
    "code = code_df.values.tolist()\n",
    "\n",
    "newcode = [i[1] for i in code]"
   ]
  },
  {
   "cell_type": "code",
   "execution_count": 5,
   "metadata": {},
   "outputs": [],
   "source": [
    "conn, cursor = setting_db()\n",
    "sql = \"select crp_cd from stockDB\"\n",
    "cursor.execute(sql)\n",
    "crp_cd = cursor.fetchall()\n",
    "conn.close()\n",
    "\n",
    "oldcode = [i['crp_cd'] for i in crp_cd]"
   ]
  },
  {
   "cell_type": "code",
   "execution_count": 6,
   "metadata": {},
   "outputs": [],
   "source": [
    "changecode = set(newcode) - set(oldcode)\n",
    "changecode = list(changecode)"
   ]
  },
  {
   "cell_type": "code",
   "execution_count": 7,
   "metadata": {},
   "outputs": [],
   "source": [
    "urllist = []\n",
    "for i in range(0, len(changecode)):\n",
    "    url = 'http://finance.naver.com/item/sise_day.nhn?code=' + changecode[i]\n",
    "    urllist.append(url)"
   ]
  },
  {
   "cell_type": "code",
   "execution_count": 8,
   "metadata": {},
   "outputs": [],
   "source": [
    "lastpage = []\n",
    "for i in range(0,len(urllist)):\n",
    "    req = requests.get(urllist[i])\n",
    "    html = req.text\n",
    "    soup = BeautifulSoup(html, 'lxml')\n",
    "    soupa = str(soup.findAll('a')[-1])\n",
    "    comp = re.compile('page=.*\"')\n",
    "    lp = comp.findall(soupa)\n",
    "    lastpage.append(lp[0][5:-1])"
   ]
  },
  {
   "cell_type": "code",
   "execution_count": null,
   "metadata": {},
   "outputs": [
    {
     "name": "stdout",
     "output_type": "stream",
     "text": [
      "0\n"
     ]
    }
   ],
   "source": [
    "for i in range(0, len(urllist)):\n",
    "    stockdata = pd.DataFrame()\n",
    "    for j in range(0, int(lastpage[i])): \n",
    "        page = j + 1\n",
    "        urlpage = urllist[i] + '&page=' + '{page}'.format(page=page) \n",
    "        stockdata = stockdata.append(pd.read_html(urlpage, header=0)[0], ignore_index=True)\n",
    "    stockdata = stockdata.dropna()\n",
    "    stockdata[\"crp_cd\"] = changecode[i]\n",
    "    stockdata['날짜'] = pd.to_datetime(stockdata['날짜']).apply(lambda x: x.strftime('%Y-%m-%d'))\n",
    "    stockdata['datecd'] = pd.to_datetime(stockdata['날짜']).apply(lambda x: x.strftime('%Y%m%d')) + changecode[i]\n",
    "    stocksql = stockdata.values.tolist()\n",
    "    \n",
    "    conn, cursor = setting_db()\n",
    "    sql = \"insert into stockDB(date, close, diff, open, high, low, volume, crp_cd, datecd) values (%s, %s, %s, %s, %s, %s, %s, %s, %s)\"\n",
    "    cursor.executemany(sql, stocksql)\n",
    "    conn.commit()\n",
    "    conn.close()\n",
    "    print(i)"
   ]
  }
 ],
 "metadata": {
  "kernelspec": {
   "display_name": "Python 3",
   "language": "python",
   "name": "python3"
  },
  "language_info": {
   "codemirror_mode": {
    "name": "ipython",
    "version": 3
   },
   "file_extension": ".py",
   "mimetype": "text/x-python",
   "name": "python",
   "nbconvert_exporter": "python",
   "pygments_lexer": "ipython3",
   "version": "3.5.2"
  }
 },
 "nbformat": 4,
 "nbformat_minor": 2
}
