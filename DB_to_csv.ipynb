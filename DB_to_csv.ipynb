{
 "cells": [
  {
   "cell_type": "code",
   "execution_count": 6,
   "metadata": {},
   "outputs": [],
   "source": [
    "import numpy as np\n",
    "import matplotlib as plt\n",
    "from sklearn import linear_model, datasets\n",
    "import pymysql\n",
    "from datetime import datetime, timedelta\n",
    "from sklearn.model_selection import train_test_split\n",
    "from sshtunnel import SSHTunnelForwarder\n",
    "import random\n",
    "import functools\n",
    "import pandas as pd"
   ]
  },
  {
   "cell_type": "code",
   "execution_count": 30,
   "metadata": {},
   "outputs": [],
   "source": [
    "with SSHTunnelForwarder(\n",
    "         ('1.212.234.245', 486),\n",
    "         ssh_password=\"vips\",\n",
    "         ssh_username=\"vips\",\n",
    "         remote_bind_address=('127.0.0.1', 3306)) as server:\n",
    "\n",
    "    conn = pymysql.connect(host='localhost',\n",
    "                           port=server.local_bind_port,\n",
    "                           user='root',\n",
    "                           passwd='qlqtmajrwk',\n",
    "                           db='dg',\n",
    "                           charset='utf8')\n",
    "\n",
    "    curs = conn.cursor(pymysql.cursors.DictCursor)\n",
    "    \n",
    "    sql = \"select * from dg.searchDB where (crp_cls = 'K' or crp_cls = 'Y')\"\n",
    "    curs.execute(sql)\n",
    "    rcp_table = curs.fetchall()\n",
    "    \n",
    "    sql2 = \"select * from dg.stockDB\"\n",
    "    curs.execute(sql2)\n",
    "    stock_table = curs.fetchall()\n",
    "    conn.commit()\n",
    "    conn.close()\n",
    "    \n",
    "    \n",
    "server.stop()"
   ]
  },
  {
   "cell_type": "code",
   "execution_count": 29,
   "metadata": {},
   "outputs": [
    {
     "data": {
      "text/plain": [
       "1295919"
      ]
     },
     "execution_count": 29,
     "metadata": {},
     "output_type": "execute_result"
    }
   ],
   "source": [
    "len(rcp_table) #2018-07-23 오전 update 기준"
   ]
  },
  {
   "cell_type": "code",
   "execution_count": 31,
   "metadata": {},
   "outputs": [
    {
     "data": {
      "text/plain": [
       "1295926"
      ]
     },
     "execution_count": 31,
     "metadata": {},
     "output_type": "execute_result"
    }
   ],
   "source": [
    "len(rcp_table)"
   ]
  },
  {
   "cell_type": "markdown",
   "metadata": {},
   "source": [
    "# Rcp Table"
   ]
  },
  {
   "cell_type": "code",
   "execution_count": 238,
   "metadata": {},
   "outputs": [],
   "source": [
    "rcp_pd = pd.DataFrame.from_dict(rcp_table)"
   ]
  },
  {
   "cell_type": "code",
   "execution_count": 239,
   "metadata": {
    "scrolled": true
   },
   "outputs": [
    {
     "data": {
      "text/html": [
       "<div>\n",
       "<style scoped>\n",
       "    .dataframe tbody tr th:only-of-type {\n",
       "        vertical-align: middle;\n",
       "    }\n",
       "\n",
       "    .dataframe tbody tr th {\n",
       "        vertical-align: top;\n",
       "    }\n",
       "\n",
       "    .dataframe thead th {\n",
       "        text-align: right;\n",
       "    }\n",
       "</style>\n",
       "<table border=\"1\" class=\"dataframe\">\n",
       "  <thead>\n",
       "    <tr style=\"text-align: right;\">\n",
       "      <th></th>\n",
       "      <th>crp_cd</th>\n",
       "      <th>crp_cls</th>\n",
       "      <th>crp_nm</th>\n",
       "      <th>flr_nm</th>\n",
       "      <th>rcp_dt</th>\n",
       "      <th>rcp_no</th>\n",
       "      <th>rcp_rt</th>\n",
       "      <th>rmk</th>\n",
       "      <th>rpt_cat</th>\n",
       "      <th>rpt_nm</th>\n",
       "    </tr>\n",
       "  </thead>\n",
       "  <tbody>\n",
       "    <tr>\n",
       "      <th>0</th>\n",
       "      <td>023150</td>\n",
       "      <td>Y</td>\n",
       "      <td>MH에탄올</td>\n",
       "      <td>MH에탄올</td>\n",
       "      <td>1999-03-25</td>\n",
       "      <td>19990325000001</td>\n",
       "      <td>None</td>\n",
       "      <td>정</td>\n",
       "      <td>E_1</td>\n",
       "      <td>사업보고서 (1998.12)</td>\n",
       "    </tr>\n",
       "    <tr>\n",
       "      <th>1</th>\n",
       "      <td>001140</td>\n",
       "      <td>Y</td>\n",
       "      <td>국보</td>\n",
       "      <td>국보</td>\n",
       "      <td>1999-03-25</td>\n",
       "      <td>19990325000003</td>\n",
       "      <td>None</td>\n",
       "      <td>정</td>\n",
       "      <td>E_1</td>\n",
       "      <td>사업보고서 (1998.12)</td>\n",
       "    </tr>\n",
       "    <tr>\n",
       "      <th>2</th>\n",
       "      <td>014160</td>\n",
       "      <td>Y</td>\n",
       "      <td>대영포장</td>\n",
       "      <td>대영포장</td>\n",
       "      <td>1999-03-25</td>\n",
       "      <td>19990325000008</td>\n",
       "      <td>None</td>\n",
       "      <td>정연</td>\n",
       "      <td>E_1</td>\n",
       "      <td>사업보고서 (1998.12)</td>\n",
       "    </tr>\n",
       "    <tr>\n",
       "      <th>3</th>\n",
       "      <td>002310</td>\n",
       "      <td>Y</td>\n",
       "      <td>아세아제지</td>\n",
       "      <td>아세아제지</td>\n",
       "      <td>1999-03-25</td>\n",
       "      <td>19990325000015</td>\n",
       "      <td>None</td>\n",
       "      <td>정</td>\n",
       "      <td>E_1</td>\n",
       "      <td>사업보고서 (1998.12)</td>\n",
       "    </tr>\n",
       "    <tr>\n",
       "      <th>4</th>\n",
       "      <td>015360</td>\n",
       "      <td>Y</td>\n",
       "      <td>예스코</td>\n",
       "      <td>예스코</td>\n",
       "      <td>1999-03-25</td>\n",
       "      <td>19990325000016</td>\n",
       "      <td>None</td>\n",
       "      <td>정</td>\n",
       "      <td>E_1</td>\n",
       "      <td>사업보고서 (1998.12)</td>\n",
       "    </tr>\n",
       "  </tbody>\n",
       "</table>\n",
       "</div>"
      ],
      "text/plain": [
       "   crp_cd crp_cls crp_nm flr_nm      rcp_dt          rcp_no rcp_rt rmk  \\\n",
       "0  023150       Y  MH에탄올  MH에탄올  1999-03-25  19990325000001   None   정   \n",
       "1  001140       Y     국보     국보  1999-03-25  19990325000003   None   정   \n",
       "2  014160       Y   대영포장   대영포장  1999-03-25  19990325000008   None  정연   \n",
       "3  002310       Y  아세아제지  아세아제지  1999-03-25  19990325000015   None   정   \n",
       "4  015360       Y    예스코    예스코  1999-03-25  19990325000016   None   정   \n",
       "\n",
       "  rpt_cat           rpt_nm  \n",
       "0     E_1  사업보고서 (1998.12)  \n",
       "1     E_1  사업보고서 (1998.12)  \n",
       "2     E_1  사업보고서 (1998.12)  \n",
       "3     E_1  사업보고서 (1998.12)  \n",
       "4     E_1  사업보고서 (1998.12)  "
      ]
     },
     "execution_count": 239,
     "metadata": {},
     "output_type": "execute_result"
    }
   ],
   "source": [
    "rcp_pd.head()"
   ]
  },
  {
   "cell_type": "code",
   "execution_count": 27,
   "metadata": {},
   "outputs": [
    {
     "data": {
      "text/plain": [
       "pandas.core.series.Series"
      ]
     },
     "execution_count": 27,
     "metadata": {},
     "output_type": "execute_result"
    }
   ],
   "source": [
    "rcp_pd.groupby(['crp_cd','crp_nm']).size()"
   ]
  },
  {
   "cell_type": "code",
   "execution_count": 73,
   "metadata": {},
   "outputs": [],
   "source": [
    "def convertToKorean(x) :\n",
    "    if x == 'Y': return '유가증권'\n",
    "    elif x == 'K' : return '코스닥'\n",
    "    else: return '코넥스'"
   ]
  },
  {
   "cell_type": "code",
   "execution_count": 74,
   "metadata": {},
   "outputs": [],
   "source": [
    "rcp_pd['crp_cls'] = rcp_pd['crp_cls'].map(convertToKorean)"
   ]
  },
  {
   "cell_type": "code",
   "execution_count": 240,
   "metadata": {},
   "outputs": [],
   "source": [
    "rcp_pd.groupby(['crp_cd','crp_cls','crp_nm']).size().to_frame().to_csv('기업별공시count.csv')"
   ]
  },
  {
   "cell_type": "code",
   "execution_count": 23,
   "metadata": {
    "scrolled": true
   },
   "outputs": [
    {
     "data": {
      "text/plain": [
       "crp_cd  crp_nm    \n",
       "000020  동화약품           792\n",
       "000030  우리은행          1948\n",
       "000040  KR모터스          770\n",
       "000050  경방             684\n",
       "000060  메리츠화재         1456\n",
       "000070  삼양홀딩스          950\n",
       "000080  하이트진로          874\n",
       "000100  유한양행          1412\n",
       "000120  CJ대한통운        1011\n",
       "000140  하이트진로홀딩스      1091\n",
       "000150  두산            2160\n",
       "000180  성창기업지주         585\n",
       "000210  대림산업          1909\n",
       "000220  유유제약          1121\n",
       "000230  일동홀딩스          872\n",
       "000240  한국타이어월드와이드     967\n",
       "000250  삼천당제약          382\n",
       "000270  기아자동차         2638\n",
       "000300  대유플러스          946\n",
       "000320  노루홀딩스         1494\n",
       "000370  한화손해보험        1409\n",
       "000390  삼화페인트공업       1097\n",
       "000400  롯데손해보험         912\n",
       "000430  대원강업          1104\n",
       "000440  중앙에너비스         438\n",
       "000480  조선내화           585\n",
       "000490  대동공업           526\n",
       "000500  가온전선           567\n",
       "000520  삼일제약           521\n",
       "000540  흥국화재           962\n",
       "                      ... \n",
       "289080  SV인베스트먼트        20\n",
       "291210  한국제7호스팩          5\n",
       "294870  HDC현대산업개발       24\n",
       "298000  효성화학             9\n",
       "298020  효성티앤씨           12\n",
       "298040  효성중공업            9\n",
       "298050  효성첨단소재          10\n",
       "900040  차이나그레이트        255\n",
       "900070  글로벌에스엠         293\n",
       "900080  에스앤씨엔진그룹       344\n",
       "900090  차이나하오란         507\n",
       "900100  뉴프라이드          506\n",
       "900110  이스트아시아홀딩스      336\n",
       "900120  씨케이에이치         309\n",
       "900140  엘브이엠씨            4\n",
       "        코라오홀딩스         361\n",
       "900180  완리             303\n",
       "900250  크리스탈신소재        112\n",
       "900260  로스웰             56\n",
       "900270  헝셩그룹            65\n",
       "900280  골든센츄리          146\n",
       "900290  GRT             78\n",
       "900300  오가닉티코스메틱        56\n",
       "900310  컬러레이            69\n",
       "950110  SBI핀테크솔루션즈     168\n",
       "950130  엑세스바이오         285\n",
       "950140  잉글우드랩          106\n",
       "950160  코오롱티슈진           5\n",
       "        티슈진             21\n",
       "950170  JTC             30\n",
       "Length: 2130, dtype: int64"
      ]
     },
     "execution_count": 23,
     "metadata": {},
     "output_type": "execute_result"
    }
   ],
   "source": [
    "size"
   ]
  },
  {
   "cell_type": "code",
   "execution_count": 99,
   "metadata": {},
   "outputs": [
    {
     "data": {
      "text/plain": [
       "'99-03'"
      ]
     },
     "execution_count": 99,
     "metadata": {},
     "output_type": "execute_result"
    }
   ],
   "source": [
    "rcp_pd['rcp_dt'][0].strftime(\"%y-%m\")"
   ]
  },
  {
   "cell_type": "code",
   "execution_count": 89,
   "metadata": {
    "scrolled": true
   },
   "outputs": [
    {
     "data": {
      "text/html": [
       "<div>\n",
       "<style scoped>\n",
       "    .dataframe tbody tr th:only-of-type {\n",
       "        vertical-align: middle;\n",
       "    }\n",
       "\n",
       "    .dataframe tbody tr th {\n",
       "        vertical-align: top;\n",
       "    }\n",
       "\n",
       "    .dataframe thead th {\n",
       "        text-align: right;\n",
       "    }\n",
       "</style>\n",
       "<table border=\"1\" class=\"dataframe\">\n",
       "  <thead>\n",
       "    <tr style=\"text-align: right;\">\n",
       "      <th></th>\n",
       "      <th>crp_cd</th>\n",
       "      <th>crp_cls</th>\n",
       "      <th>crp_nm</th>\n",
       "      <th>flr_nm</th>\n",
       "      <th>rcp_dt</th>\n",
       "      <th>rcp_no</th>\n",
       "      <th>rcp_rt</th>\n",
       "      <th>rmk</th>\n",
       "      <th>rpt_cat</th>\n",
       "      <th>rpt_nm</th>\n",
       "    </tr>\n",
       "  </thead>\n",
       "  <tbody>\n",
       "    <tr>\n",
       "      <th>0</th>\n",
       "      <td>023150</td>\n",
       "      <td>Y</td>\n",
       "      <td>MH에탄올</td>\n",
       "      <td>MH에탄올</td>\n",
       "      <td>1999-03-25</td>\n",
       "      <td>19990325000001</td>\n",
       "      <td>None</td>\n",
       "      <td>정</td>\n",
       "      <td>E_1</td>\n",
       "      <td>사업보고서 (1998.12)</td>\n",
       "    </tr>\n",
       "    <tr>\n",
       "      <th>1</th>\n",
       "      <td>001140</td>\n",
       "      <td>Y</td>\n",
       "      <td>국보</td>\n",
       "      <td>국보</td>\n",
       "      <td>1999-03-25</td>\n",
       "      <td>19990325000003</td>\n",
       "      <td>None</td>\n",
       "      <td>정</td>\n",
       "      <td>E_1</td>\n",
       "      <td>사업보고서 (1998.12)</td>\n",
       "    </tr>\n",
       "    <tr>\n",
       "      <th>2</th>\n",
       "      <td>014160</td>\n",
       "      <td>Y</td>\n",
       "      <td>대영포장</td>\n",
       "      <td>대영포장</td>\n",
       "      <td>1999-03-25</td>\n",
       "      <td>19990325000008</td>\n",
       "      <td>None</td>\n",
       "      <td>정연</td>\n",
       "      <td>E_1</td>\n",
       "      <td>사업보고서 (1998.12)</td>\n",
       "    </tr>\n",
       "    <tr>\n",
       "      <th>3</th>\n",
       "      <td>002310</td>\n",
       "      <td>Y</td>\n",
       "      <td>아세아제지</td>\n",
       "      <td>아세아제지</td>\n",
       "      <td>1999-03-25</td>\n",
       "      <td>19990325000015</td>\n",
       "      <td>None</td>\n",
       "      <td>정</td>\n",
       "      <td>E_1</td>\n",
       "      <td>사업보고서 (1998.12)</td>\n",
       "    </tr>\n",
       "    <tr>\n",
       "      <th>4</th>\n",
       "      <td>015360</td>\n",
       "      <td>Y</td>\n",
       "      <td>예스코</td>\n",
       "      <td>예스코</td>\n",
       "      <td>1999-03-25</td>\n",
       "      <td>19990325000016</td>\n",
       "      <td>None</td>\n",
       "      <td>정</td>\n",
       "      <td>E_1</td>\n",
       "      <td>사업보고서 (1998.12)</td>\n",
       "    </tr>\n",
       "  </tbody>\n",
       "</table>\n",
       "</div>"
      ],
      "text/plain": [
       "   crp_cd crp_cls crp_nm flr_nm      rcp_dt          rcp_no rcp_rt rmk  \\\n",
       "0  023150       Y  MH에탄올  MH에탄올  1999-03-25  19990325000001   None   정   \n",
       "1  001140       Y     국보     국보  1999-03-25  19990325000003   None   정   \n",
       "2  014160       Y   대영포장   대영포장  1999-03-25  19990325000008   None  정연   \n",
       "3  002310       Y  아세아제지  아세아제지  1999-03-25  19990325000015   None   정   \n",
       "4  015360       Y    예스코    예스코  1999-03-25  19990325000016   None   정   \n",
       "\n",
       "  rpt_cat           rpt_nm  \n",
       "0     E_1  사업보고서 (1998.12)  \n",
       "1     E_1  사업보고서 (1998.12)  \n",
       "2     E_1  사업보고서 (1998.12)  \n",
       "3     E_1  사업보고서 (1998.12)  \n",
       "4     E_1  사업보고서 (1998.12)  "
      ]
     },
     "execution_count": 89,
     "metadata": {},
     "output_type": "execute_result"
    }
   ],
   "source": [
    "rcp_pd.head()"
   ]
  },
  {
   "cell_type": "code",
   "execution_count": 100,
   "metadata": {},
   "outputs": [],
   "source": [
    "def toMonth(x):\n",
    "    x.strftime(\"%y-%m\")"
   ]
  },
  {
   "cell_type": "code",
   "execution_count": 126,
   "metadata": {},
   "outputs": [],
   "source": [
    "#rcp_pd[rcp_dt]의 타입 변환 df.datetime으로\n",
    "rcp_pd['rcp_dt'] = rcp_pd['rcp_dt'].apply(lambda df : datetime(year=df.year, month=df.month, day=df.day))"
   ]
  },
  {
   "cell_type": "code",
   "execution_count": null,
   "metadata": {},
   "outputs": [],
   "source": [
    "date_index_pd = "
   ]
  },
  {
   "cell_type": "code",
   "execution_count": 230,
   "metadata": {},
   "outputs": [],
   "source": [
    "dt = pd.DatetimeIndex(rcp_pd.date)\n",
    "rcp_pd['year'] = dt.year\n",
    "rcp_pd['month'] = dt.month\n",
    "rcp_pd['day'] = dt.day\n",
    "rcp_pd['datecd'] = rcp_pd['year'].map(str)+rcp_pd['month'].map(str)+rcp_pd['day'].map(str)+rcp_pd['crp_cd']"
   ]
  },
  {
   "cell_type": "code",
   "execution_count": 193,
   "metadata": {
    "scrolled": false
   },
   "outputs": [
    {
     "data": {
      "text/html": [
       "<div>\n",
       "<style scoped>\n",
       "    .dataframe tbody tr th:only-of-type {\n",
       "        vertical-align: middle;\n",
       "    }\n",
       "\n",
       "    .dataframe tbody tr th {\n",
       "        vertical-align: top;\n",
       "    }\n",
       "\n",
       "    .dataframe thead th {\n",
       "        text-align: right;\n",
       "    }\n",
       "</style>\n",
       "<table border=\"1\" class=\"dataframe\">\n",
       "  <thead>\n",
       "    <tr style=\"text-align: right;\">\n",
       "      <th></th>\n",
       "      <th>crp_cd</th>\n",
       "      <th>crp_cls</th>\n",
       "      <th>crp_nm</th>\n",
       "      <th>flr_nm</th>\n",
       "      <th>date</th>\n",
       "      <th>rcp_no</th>\n",
       "      <th>rcp_rt</th>\n",
       "      <th>rmk</th>\n",
       "      <th>rpt_cat</th>\n",
       "      <th>rpt_nm</th>\n",
       "      <th>datecd</th>\n",
       "      <th>year</th>\n",
       "      <th>month</th>\n",
       "      <th>day</th>\n",
       "    </tr>\n",
       "  </thead>\n",
       "  <tbody>\n",
       "    <tr>\n",
       "      <th>0</th>\n",
       "      <td>023150</td>\n",
       "      <td>Y</td>\n",
       "      <td>MH에탄올</td>\n",
       "      <td>MH에탄올</td>\n",
       "      <td>1999-03-25</td>\n",
       "      <td>19990325000001</td>\n",
       "      <td>None</td>\n",
       "      <td>정</td>\n",
       "      <td>E_1</td>\n",
       "      <td>사업보고서 (1998.12)</td>\n",
       "      <td>19990          3\\n1          3\\n2          3\\n...</td>\n",
       "      <td>1999</td>\n",
       "      <td>3</td>\n",
       "      <td>25</td>\n",
       "    </tr>\n",
       "    <tr>\n",
       "      <th>1</th>\n",
       "      <td>001140</td>\n",
       "      <td>Y</td>\n",
       "      <td>국보</td>\n",
       "      <td>국보</td>\n",
       "      <td>1999-03-25</td>\n",
       "      <td>19990325000003</td>\n",
       "      <td>None</td>\n",
       "      <td>정</td>\n",
       "      <td>E_1</td>\n",
       "      <td>사업보고서 (1998.12)</td>\n",
       "      <td>19990          3\\n1          3\\n2          3\\n...</td>\n",
       "      <td>1999</td>\n",
       "      <td>3</td>\n",
       "      <td>25</td>\n",
       "    </tr>\n",
       "    <tr>\n",
       "      <th>2</th>\n",
       "      <td>014160</td>\n",
       "      <td>Y</td>\n",
       "      <td>대영포장</td>\n",
       "      <td>대영포장</td>\n",
       "      <td>1999-03-25</td>\n",
       "      <td>19990325000008</td>\n",
       "      <td>None</td>\n",
       "      <td>정연</td>\n",
       "      <td>E_1</td>\n",
       "      <td>사업보고서 (1998.12)</td>\n",
       "      <td>19990          3\\n1          3\\n2          3\\n...</td>\n",
       "      <td>1999</td>\n",
       "      <td>3</td>\n",
       "      <td>25</td>\n",
       "    </tr>\n",
       "    <tr>\n",
       "      <th>3</th>\n",
       "      <td>002310</td>\n",
       "      <td>Y</td>\n",
       "      <td>아세아제지</td>\n",
       "      <td>아세아제지</td>\n",
       "      <td>1999-03-25</td>\n",
       "      <td>19990325000015</td>\n",
       "      <td>None</td>\n",
       "      <td>정</td>\n",
       "      <td>E_1</td>\n",
       "      <td>사업보고서 (1998.12)</td>\n",
       "      <td>19990          3\\n1          3\\n2          3\\n...</td>\n",
       "      <td>1999</td>\n",
       "      <td>3</td>\n",
       "      <td>25</td>\n",
       "    </tr>\n",
       "    <tr>\n",
       "      <th>4</th>\n",
       "      <td>015360</td>\n",
       "      <td>Y</td>\n",
       "      <td>예스코</td>\n",
       "      <td>예스코</td>\n",
       "      <td>1999-03-25</td>\n",
       "      <td>19990325000016</td>\n",
       "      <td>None</td>\n",
       "      <td>정</td>\n",
       "      <td>E_1</td>\n",
       "      <td>사업보고서 (1998.12)</td>\n",
       "      <td>19990          3\\n1          3\\n2          3\\n...</td>\n",
       "      <td>1999</td>\n",
       "      <td>3</td>\n",
       "      <td>25</td>\n",
       "    </tr>\n",
       "  </tbody>\n",
       "</table>\n",
       "</div>"
      ],
      "text/plain": [
       "   crp_cd crp_cls crp_nm flr_nm       date          rcp_no rcp_rt rmk rpt_cat  \\\n",
       "0  023150       Y  MH에탄올  MH에탄올 1999-03-25  19990325000001   None   정     E_1   \n",
       "1  001140       Y     국보     국보 1999-03-25  19990325000003   None   정     E_1   \n",
       "2  014160       Y   대영포장   대영포장 1999-03-25  19990325000008   None  정연     E_1   \n",
       "3  002310       Y  아세아제지  아세아제지 1999-03-25  19990325000015   None   정     E_1   \n",
       "4  015360       Y    예스코    예스코 1999-03-25  19990325000016   None   정     E_1   \n",
       "\n",
       "            rpt_nm                                             datecd  year  \\\n",
       "0  사업보고서 (1998.12)  19990          3\\n1          3\\n2          3\\n...  1999   \n",
       "1  사업보고서 (1998.12)  19990          3\\n1          3\\n2          3\\n...  1999   \n",
       "2  사업보고서 (1998.12)  19990          3\\n1          3\\n2          3\\n...  1999   \n",
       "3  사업보고서 (1998.12)  19990          3\\n1          3\\n2          3\\n...  1999   \n",
       "4  사업보고서 (1998.12)  19990          3\\n1          3\\n2          3\\n...  1999   \n",
       "\n",
       "   month  day  \n",
       "0      3   25  \n",
       "1      3   25  \n",
       "2      3   25  \n",
       "3      3   25  \n",
       "4      3   25  "
      ]
     },
     "execution_count": 193,
     "metadata": {},
     "output_type": "execute_result"
    }
   ],
   "source": [
    "rcp_pd.head()"
   ]
  },
  {
   "cell_type": "code",
   "execution_count": 195,
   "metadata": {},
   "outputs": [
    {
     "data": {
      "text/plain": [
       "month\n",
       "1      81082\n",
       "2     127259\n",
       "3     238189\n",
       "4     107718\n",
       "5     114876\n",
       "6      83927\n",
       "7      82189\n",
       "8     101554\n",
       "9      68596\n",
       "10     76255\n",
       "11    108573\n",
       "12    105708\n",
       "dtype: int64"
      ]
     },
     "execution_count": 195,
     "metadata": {},
     "output_type": "execute_result"
    }
   ],
   "source": [
    "rcp_pd.groupby('month').size()"
   ]
  },
  {
   "cell_type": "code",
   "execution_count": 196,
   "metadata": {},
   "outputs": [
    {
     "data": {
      "text/plain": [
       "year\n",
       "1999      1102\n",
       "2000     20387\n",
       "2001     32075\n",
       "2002     45489\n",
       "2003     61364\n",
       "2004     63287\n",
       "2005     64288\n",
       "2006     61674\n",
       "2007     68520\n",
       "2008     70355\n",
       "2009     79657\n",
       "2010     74374\n",
       "2011     77785\n",
       "2012     75321\n",
       "2013     80175\n",
       "2014     84694\n",
       "2015     91806\n",
       "2016     92725\n",
       "2017    100678\n",
       "2018     50170\n",
       "dtype: int64"
      ]
     },
     "execution_count": 196,
     "metadata": {},
     "output_type": "execute_result"
    }
   ],
   "source": [
    "rcp_pd.groupby('year').size()"
   ]
  },
  {
   "cell_type": "code",
   "execution_count": 229,
   "metadata": {},
   "outputs": [],
   "source": [
    "rcp_pd = rcp_pd.rename(columns = {'rcp_dt' : 'date'})"
   ]
  },
  {
   "cell_type": "code",
   "execution_count": 231,
   "metadata": {},
   "outputs": [
    {
     "data": {
      "text/html": [
       "<div>\n",
       "<style scoped>\n",
       "    .dataframe tbody tr th:only-of-type {\n",
       "        vertical-align: middle;\n",
       "    }\n",
       "\n",
       "    .dataframe tbody tr th {\n",
       "        vertical-align: top;\n",
       "    }\n",
       "\n",
       "    .dataframe thead th {\n",
       "        text-align: right;\n",
       "    }\n",
       "</style>\n",
       "<table border=\"1\" class=\"dataframe\">\n",
       "  <thead>\n",
       "    <tr style=\"text-align: right;\">\n",
       "      <th></th>\n",
       "      <th>crp_cd</th>\n",
       "      <th>now_diff</th>\n",
       "      <th>now_st</th>\n",
       "      <th>now_trd</th>\n",
       "      <th>now_volume</th>\n",
       "      <th>date</th>\n",
       "      <th>rcp_no</th>\n",
       "      <th>rmk</th>\n",
       "      <th>rpt_cat</th>\n",
       "      <th>rpt_link</th>\n",
       "      <th>rpt_nm</th>\n",
       "      <th>year</th>\n",
       "      <th>month</th>\n",
       "      <th>day</th>\n",
       "      <th>datecd</th>\n",
       "    </tr>\n",
       "  </thead>\n",
       "  <tbody>\n",
       "    <tr>\n",
       "      <th>0</th>\n",
       "      <td>036420</td>\n",
       "      <td>140</td>\n",
       "      <td>7240</td>\n",
       "      <td>13969051000</td>\n",
       "      <td>1929063</td>\n",
       "      <td>2018-07-16 07:00:03</td>\n",
       "      <td>20180629100079</td>\n",
       "      <td></td>\n",
       "      <td>None</td>\n",
       "      <td>http://dart.fss.or.kr/dsaf001/main.do?rcpNo=20...</td>\n",
       "      <td>효력발생안내( 2018.6.29. 제출 증권신고서(지분증권) )</td>\n",
       "      <td>2018</td>\n",
       "      <td>7</td>\n",
       "      <td>16</td>\n",
       "      <td>2018716036420</td>\n",
       "    </tr>\n",
       "    <tr>\n",
       "      <th>1</th>\n",
       "      <td>066110</td>\n",
       "      <td>-200</td>\n",
       "      <td>1900</td>\n",
       "      <td>2245463000</td>\n",
       "      <td>1178412</td>\n",
       "      <td>2018-07-18 07:00:02</td>\n",
       "      <td>20180703100010</td>\n",
       "      <td></td>\n",
       "      <td>None</td>\n",
       "      <td>http://dart.fss.or.kr/dsaf001/main.do?rcpNo=20...</td>\n",
       "      <td>효력발생안내( 2018.7.3. 제출 증권신고서(지분증권) )</td>\n",
       "      <td>2018</td>\n",
       "      <td>7</td>\n",
       "      <td>18</td>\n",
       "      <td>2018718066110</td>\n",
       "    </tr>\n",
       "    <tr>\n",
       "      <th>2</th>\n",
       "      <td>008490</td>\n",
       "      <td>600</td>\n",
       "      <td>30750</td>\n",
       "      <td>407000000</td>\n",
       "      <td>13372</td>\n",
       "      <td>2018-07-16 07:00:03</td>\n",
       "      <td>20180704100007</td>\n",
       "      <td></td>\n",
       "      <td>None</td>\n",
       "      <td>http://dart.fss.or.kr/dsaf001/main.do?rcpNo=20...</td>\n",
       "      <td>효력발생안내( 2018.7.4. 제출 증권신고서(채무증권) )</td>\n",
       "      <td>2018</td>\n",
       "      <td>7</td>\n",
       "      <td>16</td>\n",
       "      <td>2018716008490</td>\n",
       "    </tr>\n",
       "    <tr>\n",
       "      <th>3</th>\n",
       "      <td>065500</td>\n",
       "      <td>-3</td>\n",
       "      <td>625</td>\n",
       "      <td>258603000</td>\n",
       "      <td>416988</td>\n",
       "      <td>2018-07-19 07:00:05</td>\n",
       "      <td>20180704100008</td>\n",
       "      <td></td>\n",
       "      <td>None</td>\n",
       "      <td>http://dart.fss.or.kr/dsaf001/main.do?rcpNo=20...</td>\n",
       "      <td>효력발생안내( 2018.7.4. 제출 증권신고서(지분증권) )</td>\n",
       "      <td>2018</td>\n",
       "      <td>7</td>\n",
       "      <td>19</td>\n",
       "      <td>2018719065500</td>\n",
       "    </tr>\n",
       "    <tr>\n",
       "      <th>4</th>\n",
       "      <td>043100</td>\n",
       "      <td>4</td>\n",
       "      <td>561</td>\n",
       "      <td>5695810000</td>\n",
       "      <td>9810253</td>\n",
       "      <td>2018-07-20 07:00:05</td>\n",
       "      <td>20180705100003</td>\n",
       "      <td></td>\n",
       "      <td>None</td>\n",
       "      <td>http://dart.fss.or.kr/dsaf001/main.do?rcpNo=20...</td>\n",
       "      <td>효력발생안내( 2018.7.5. 제출 증권신고서(지분증권) )</td>\n",
       "      <td>2018</td>\n",
       "      <td>7</td>\n",
       "      <td>20</td>\n",
       "      <td>2018720043100</td>\n",
       "    </tr>\n",
       "  </tbody>\n",
       "</table>\n",
       "</div>"
      ],
      "text/plain": [
       "   crp_cd  now_diff  now_st      now_trd  now_volume                date  \\\n",
       "0  036420       140    7240  13969051000     1929063 2018-07-16 07:00:03   \n",
       "1  066110      -200    1900   2245463000     1178412 2018-07-18 07:00:02   \n",
       "2  008490       600   30750    407000000       13372 2018-07-16 07:00:03   \n",
       "3  065500        -3     625    258603000      416988 2018-07-19 07:00:05   \n",
       "4  043100         4     561   5695810000     9810253 2018-07-20 07:00:05   \n",
       "\n",
       "           rcp_no rmk rpt_cat  \\\n",
       "0  20180629100079        None   \n",
       "1  20180703100010        None   \n",
       "2  20180704100007        None   \n",
       "3  20180704100008        None   \n",
       "4  20180705100003        None   \n",
       "\n",
       "                                            rpt_link  \\\n",
       "0  http://dart.fss.or.kr/dsaf001/main.do?rcpNo=20...   \n",
       "1  http://dart.fss.or.kr/dsaf001/main.do?rcpNo=20...   \n",
       "2  http://dart.fss.or.kr/dsaf001/main.do?rcpNo=20...   \n",
       "3  http://dart.fss.or.kr/dsaf001/main.do?rcpNo=20...   \n",
       "4  http://dart.fss.or.kr/dsaf001/main.do?rcpNo=20...   \n",
       "\n",
       "                                rpt_nm  year  month  day         datecd  \n",
       "0  효력발생안내( 2018.6.29. 제출 증권신고서(지분증권) )  2018      7   16  2018716036420  \n",
       "1   효력발생안내( 2018.7.3. 제출 증권신고서(지분증권) )  2018      7   18  2018718066110  \n",
       "2   효력발생안내( 2018.7.4. 제출 증권신고서(채무증권) )  2018      7   16  2018716008490  \n",
       "3   효력발생안내( 2018.7.4. 제출 증권신고서(지분증권) )  2018      7   19  2018719065500  \n",
       "4   효력발생안내( 2018.7.5. 제출 증권신고서(지분증권) )  2018      7   20  2018720043100  "
      ]
     },
     "execution_count": 231,
     "metadata": {},
     "output_type": "execute_result"
    }
   ],
   "source": [
    "rcp_pd.head()"
   ]
  },
  {
   "cell_type": "code",
   "execution_count": 173,
   "metadata": {},
   "outputs": [
    {
     "data": {
      "text/plain": [
       "Timestamp('1999-03-25 00:00:00')"
      ]
     },
     "execution_count": 173,
     "metadata": {},
     "output_type": "execute_result"
    }
   ],
   "source": [
    "rcp_pd['date'][0]"
   ]
  },
  {
   "cell_type": "markdown",
   "metadata": {},
   "source": [
    "# Close Table"
   ]
  },
  {
   "cell_type": "code",
   "execution_count": null,
   "metadata": {},
   "outputs": [],
   "source": []
  },
  {
   "cell_type": "code",
   "execution_count": 77,
   "metadata": {},
   "outputs": [],
   "source": [
    "close_pd = pd.DataFrame.from_dict(stock_table)"
   ]
  },
  {
   "cell_type": "code",
   "execution_count": 162,
   "metadata": {},
   "outputs": [
    {
     "data": {
      "text/html": [
       "<div>\n",
       "<style scoped>\n",
       "    .dataframe tbody tr th:only-of-type {\n",
       "        vertical-align: middle;\n",
       "    }\n",
       "\n",
       "    .dataframe tbody tr th {\n",
       "        vertical-align: top;\n",
       "    }\n",
       "\n",
       "    .dataframe thead th {\n",
       "        text-align: right;\n",
       "    }\n",
       "</style>\n",
       "<table border=\"1\" class=\"dataframe\">\n",
       "  <thead>\n",
       "    <tr style=\"text-align: right;\">\n",
       "      <th></th>\n",
       "      <th>close</th>\n",
       "      <th>crp_cd</th>\n",
       "      <th>date</th>\n",
       "      <th>datecd</th>\n",
       "      <th>diff</th>\n",
       "      <th>high</th>\n",
       "      <th>low</th>\n",
       "      <th>open</th>\n",
       "      <th>volume</th>\n",
       "    </tr>\n",
       "  </thead>\n",
       "  <tbody>\n",
       "    <tr>\n",
       "      <th>0</th>\n",
       "      <td>36000.0</td>\n",
       "      <td>000020</td>\n",
       "      <td>1996-06-25</td>\n",
       "      <td>19960625000020</td>\n",
       "      <td>0.0</td>\n",
       "      <td>38400.0</td>\n",
       "      <td>36000.0</td>\n",
       "      <td>37700.0</td>\n",
       "      <td>102200.0</td>\n",
       "    </tr>\n",
       "    <tr>\n",
       "      <th>1</th>\n",
       "      <td>9300.0</td>\n",
       "      <td>000040</td>\n",
       "      <td>1996-06-25</td>\n",
       "      <td>19960625000040</td>\n",
       "      <td>0.0</td>\n",
       "      <td>9390.0</td>\n",
       "      <td>9290.0</td>\n",
       "      <td>9390.0</td>\n",
       "      <td>1600.0</td>\n",
       "    </tr>\n",
       "    <tr>\n",
       "      <th>2</th>\n",
       "      <td>42000.0</td>\n",
       "      <td>000050</td>\n",
       "      <td>1996-06-25</td>\n",
       "      <td>19960625000050</td>\n",
       "      <td>0.0</td>\n",
       "      <td>42000.0</td>\n",
       "      <td>42000.0</td>\n",
       "      <td>42000.0</td>\n",
       "      <td>0.0</td>\n",
       "    </tr>\n",
       "    <tr>\n",
       "      <th>3</th>\n",
       "      <td>30500.0</td>\n",
       "      <td>000060</td>\n",
       "      <td>1996-06-25</td>\n",
       "      <td>19960625000060</td>\n",
       "      <td>0.0</td>\n",
       "      <td>31000.0</td>\n",
       "      <td>29700.0</td>\n",
       "      <td>30100.0</td>\n",
       "      <td>68220.0</td>\n",
       "    </tr>\n",
       "    <tr>\n",
       "      <th>4</th>\n",
       "      <td>24700.0</td>\n",
       "      <td>000070</td>\n",
       "      <td>1996-06-25</td>\n",
       "      <td>19960625000070</td>\n",
       "      <td>0.0</td>\n",
       "      <td>25600.0</td>\n",
       "      <td>24700.0</td>\n",
       "      <td>25500.0</td>\n",
       "      <td>16960.0</td>\n",
       "    </tr>\n",
       "  </tbody>\n",
       "</table>\n",
       "</div>"
      ],
      "text/plain": [
       "     close  crp_cd        date          datecd  diff     high      low  \\\n",
       "0  36000.0  000020  1996-06-25  19960625000020   0.0  38400.0  36000.0   \n",
       "1   9300.0  000040  1996-06-25  19960625000040   0.0   9390.0   9290.0   \n",
       "2  42000.0  000050  1996-06-25  19960625000050   0.0  42000.0  42000.0   \n",
       "3  30500.0  000060  1996-06-25  19960625000060   0.0  31000.0  29700.0   \n",
       "4  24700.0  000070  1996-06-25  19960625000070   0.0  25600.0  24700.0   \n",
       "\n",
       "      open    volume  \n",
       "0  37700.0  102200.0  \n",
       "1   9390.0    1600.0  \n",
       "2  42000.0       0.0  \n",
       "3  30100.0   68220.0  \n",
       "4  25500.0   16960.0  "
      ]
     },
     "execution_count": 162,
     "metadata": {},
     "output_type": "execute_result"
    }
   ],
   "source": [
    "close_pd.head()"
   ]
  },
  {
   "cell_type": "code",
   "execution_count": 236,
   "metadata": {},
   "outputs": [],
   "source": [
    "dt = pd.DatetimeIndex(close_pd.date)\n",
    "close_pd['year'] = dt.year\n",
    "close_pd['month'] = dt.month\n",
    "close_pd['day'] = dt.day\n",
    "close_pd['datecd'] = close_pd['year'].map(str)+close_pd['month'].map(str)+close_pd['day'].map(str)+close_pd['crp_cd']"
   ]
  },
  {
   "cell_type": "code",
   "execution_count": 198,
   "metadata": {},
   "outputs": [
    {
     "data": {
      "text/html": [
       "<div>\n",
       "<style scoped>\n",
       "    .dataframe tbody tr th:only-of-type {\n",
       "        vertical-align: middle;\n",
       "    }\n",
       "\n",
       "    .dataframe tbody tr th {\n",
       "        vertical-align: top;\n",
       "    }\n",
       "\n",
       "    .dataframe thead th {\n",
       "        text-align: right;\n",
       "    }\n",
       "</style>\n",
       "<table border=\"1\" class=\"dataframe\">\n",
       "  <thead>\n",
       "    <tr style=\"text-align: right;\">\n",
       "      <th></th>\n",
       "      <th>close</th>\n",
       "      <th>crp_cd</th>\n",
       "      <th>date</th>\n",
       "      <th>datecd</th>\n",
       "      <th>diff</th>\n",
       "      <th>high</th>\n",
       "      <th>low</th>\n",
       "      <th>open</th>\n",
       "      <th>volume</th>\n",
       "      <th>year</th>\n",
       "      <th>month</th>\n",
       "      <th>day</th>\n",
       "    </tr>\n",
       "  </thead>\n",
       "  <tbody>\n",
       "    <tr>\n",
       "      <th>0</th>\n",
       "      <td>36000.0</td>\n",
       "      <td>000020</td>\n",
       "      <td>1996-06-25</td>\n",
       "      <td>1996625000020</td>\n",
       "      <td>0.0</td>\n",
       "      <td>38400.0</td>\n",
       "      <td>36000.0</td>\n",
       "      <td>37700.0</td>\n",
       "      <td>102200.0</td>\n",
       "      <td>1996</td>\n",
       "      <td>6</td>\n",
       "      <td>25</td>\n",
       "    </tr>\n",
       "    <tr>\n",
       "      <th>1</th>\n",
       "      <td>9300.0</td>\n",
       "      <td>000040</td>\n",
       "      <td>1996-06-25</td>\n",
       "      <td>1996625000040</td>\n",
       "      <td>0.0</td>\n",
       "      <td>9390.0</td>\n",
       "      <td>9290.0</td>\n",
       "      <td>9390.0</td>\n",
       "      <td>1600.0</td>\n",
       "      <td>1996</td>\n",
       "      <td>6</td>\n",
       "      <td>25</td>\n",
       "    </tr>\n",
       "    <tr>\n",
       "      <th>2</th>\n",
       "      <td>42000.0</td>\n",
       "      <td>000050</td>\n",
       "      <td>1996-06-25</td>\n",
       "      <td>1996625000050</td>\n",
       "      <td>0.0</td>\n",
       "      <td>42000.0</td>\n",
       "      <td>42000.0</td>\n",
       "      <td>42000.0</td>\n",
       "      <td>0.0</td>\n",
       "      <td>1996</td>\n",
       "      <td>6</td>\n",
       "      <td>25</td>\n",
       "    </tr>\n",
       "    <tr>\n",
       "      <th>3</th>\n",
       "      <td>30500.0</td>\n",
       "      <td>000060</td>\n",
       "      <td>1996-06-25</td>\n",
       "      <td>1996625000060</td>\n",
       "      <td>0.0</td>\n",
       "      <td>31000.0</td>\n",
       "      <td>29700.0</td>\n",
       "      <td>30100.0</td>\n",
       "      <td>68220.0</td>\n",
       "      <td>1996</td>\n",
       "      <td>6</td>\n",
       "      <td>25</td>\n",
       "    </tr>\n",
       "    <tr>\n",
       "      <th>4</th>\n",
       "      <td>24700.0</td>\n",
       "      <td>000070</td>\n",
       "      <td>1996-06-25</td>\n",
       "      <td>1996625000070</td>\n",
       "      <td>0.0</td>\n",
       "      <td>25600.0</td>\n",
       "      <td>24700.0</td>\n",
       "      <td>25500.0</td>\n",
       "      <td>16960.0</td>\n",
       "      <td>1996</td>\n",
       "      <td>6</td>\n",
       "      <td>25</td>\n",
       "    </tr>\n",
       "  </tbody>\n",
       "</table>\n",
       "</div>"
      ],
      "text/plain": [
       "     close  crp_cd        date         datecd  diff     high      low  \\\n",
       "0  36000.0  000020  1996-06-25  1996625000020   0.0  38400.0  36000.0   \n",
       "1   9300.0  000040  1996-06-25  1996625000040   0.0   9390.0   9290.0   \n",
       "2  42000.0  000050  1996-06-25  1996625000050   0.0  42000.0  42000.0   \n",
       "3  30500.0  000060  1996-06-25  1996625000060   0.0  31000.0  29700.0   \n",
       "4  24700.0  000070  1996-06-25  1996625000070   0.0  25600.0  24700.0   \n",
       "\n",
       "      open    volume  year  month  day  \n",
       "0  37700.0  102200.0  1996      6   25  \n",
       "1   9390.0    1600.0  1996      6   25  \n",
       "2  42000.0       0.0  1996      6   25  \n",
       "3  30100.0   68220.0  1996      6   25  \n",
       "4  25500.0   16960.0  1996      6   25  "
      ]
     },
     "execution_count": 198,
     "metadata": {},
     "output_type": "execute_result"
    }
   ],
   "source": [
    "close_pd.head()"
   ]
  },
  {
   "cell_type": "code",
   "execution_count": 232,
   "metadata": {},
   "outputs": [],
   "source": [
    "#datecd 기반으로 merge\n",
    "merged_pd = close_pd.merge(rcp_pd, how = 'inner', on='datecd')"
   ]
  },
  {
   "cell_type": "markdown",
   "metadata": {},
   "source": [
    "# to_csv"
   ]
  },
  {
   "cell_type": "code",
   "execution_count": 202,
   "metadata": {
    "collapsed": true
   },
   "outputs": [
    {
     "ename": "ProgrammingError",
     "evalue": "(1146, \"Table 'yejinyDB.Rcp' doesn't exist\")",
     "output_type": "error",
     "traceback": [
      "\u001b[0;31m---------------------------------------------------------------------------\u001b[0m",
      "\u001b[0;31mProgrammingError\u001b[0m                          Traceback (most recent call last)",
      "\u001b[0;32m<ipython-input-202-6e6da4a845dd>\u001b[0m in \u001b[0;36m<module>\u001b[0;34m()\u001b[0m\n\u001b[1;32m     15\u001b[0m \u001b[0;34m\u001b[0m\u001b[0m\n\u001b[1;32m     16\u001b[0m     \u001b[0msql\u001b[0m \u001b[0;34m=\u001b[0m \u001b[0;34m\"SELECT * FROM yejinyDB.Rcp where now_st != -1;\"\u001b[0m\u001b[0;34m\u001b[0m\u001b[0m\n\u001b[0;32m---> 17\u001b[0;31m     \u001b[0mcurs\u001b[0m\u001b[0;34m.\u001b[0m\u001b[0mexecute\u001b[0m\u001b[0;34m(\u001b[0m\u001b[0msql\u001b[0m\u001b[0;34m)\u001b[0m\u001b[0;34m\u001b[0m\u001b[0m\n\u001b[0m\u001b[1;32m     18\u001b[0m     \u001b[0mzziny_rcp_table\u001b[0m \u001b[0;34m=\u001b[0m \u001b[0mcurs\u001b[0m\u001b[0;34m.\u001b[0m\u001b[0mfetchall\u001b[0m\u001b[0;34m(\u001b[0m\u001b[0;34m)\u001b[0m\u001b[0;34m\u001b[0m\u001b[0m\n\u001b[1;32m     19\u001b[0m \u001b[0;34m\u001b[0m\u001b[0m\n",
      "\u001b[0;32m~/.local/lib/python3.5/site-packages/pymysql/cursors.py\u001b[0m in \u001b[0;36mexecute\u001b[0;34m(self, query, args)\u001b[0m\n\u001b[1;32m    163\u001b[0m         \u001b[0mquery\u001b[0m \u001b[0;34m=\u001b[0m \u001b[0mself\u001b[0m\u001b[0;34m.\u001b[0m\u001b[0mmogrify\u001b[0m\u001b[0;34m(\u001b[0m\u001b[0mquery\u001b[0m\u001b[0;34m,\u001b[0m \u001b[0margs\u001b[0m\u001b[0;34m)\u001b[0m\u001b[0;34m\u001b[0m\u001b[0m\n\u001b[1;32m    164\u001b[0m \u001b[0;34m\u001b[0m\u001b[0m\n\u001b[0;32m--> 165\u001b[0;31m         \u001b[0mresult\u001b[0m \u001b[0;34m=\u001b[0m \u001b[0mself\u001b[0m\u001b[0;34m.\u001b[0m\u001b[0m_query\u001b[0m\u001b[0;34m(\u001b[0m\u001b[0mquery\u001b[0m\u001b[0;34m)\u001b[0m\u001b[0;34m\u001b[0m\u001b[0m\n\u001b[0m\u001b[1;32m    166\u001b[0m         \u001b[0mself\u001b[0m\u001b[0;34m.\u001b[0m\u001b[0m_executed\u001b[0m \u001b[0;34m=\u001b[0m \u001b[0mquery\u001b[0m\u001b[0;34m\u001b[0m\u001b[0m\n\u001b[1;32m    167\u001b[0m         \u001b[0;32mreturn\u001b[0m \u001b[0mresult\u001b[0m\u001b[0;34m\u001b[0m\u001b[0m\n",
      "\u001b[0;32m~/.local/lib/python3.5/site-packages/pymysql/cursors.py\u001b[0m in \u001b[0;36m_query\u001b[0;34m(self, q)\u001b[0m\n\u001b[1;32m    319\u001b[0m         \u001b[0mconn\u001b[0m \u001b[0;34m=\u001b[0m \u001b[0mself\u001b[0m\u001b[0;34m.\u001b[0m\u001b[0m_get_db\u001b[0m\u001b[0;34m(\u001b[0m\u001b[0;34m)\u001b[0m\u001b[0;34m\u001b[0m\u001b[0m\n\u001b[1;32m    320\u001b[0m         \u001b[0mself\u001b[0m\u001b[0;34m.\u001b[0m\u001b[0m_last_executed\u001b[0m \u001b[0;34m=\u001b[0m \u001b[0mq\u001b[0m\u001b[0;34m\u001b[0m\u001b[0m\n\u001b[0;32m--> 321\u001b[0;31m         \u001b[0mconn\u001b[0m\u001b[0;34m.\u001b[0m\u001b[0mquery\u001b[0m\u001b[0;34m(\u001b[0m\u001b[0mq\u001b[0m\u001b[0;34m)\u001b[0m\u001b[0;34m\u001b[0m\u001b[0m\n\u001b[0m\u001b[1;32m    322\u001b[0m         \u001b[0mself\u001b[0m\u001b[0;34m.\u001b[0m\u001b[0m_do_get_result\u001b[0m\u001b[0;34m(\u001b[0m\u001b[0;34m)\u001b[0m\u001b[0;34m\u001b[0m\u001b[0m\n\u001b[1;32m    323\u001b[0m         \u001b[0;32mreturn\u001b[0m \u001b[0mself\u001b[0m\u001b[0;34m.\u001b[0m\u001b[0mrowcount\u001b[0m\u001b[0;34m\u001b[0m\u001b[0m\n",
      "\u001b[0;32m~/.local/lib/python3.5/site-packages/pymysql/connections.py\u001b[0m in \u001b[0;36mquery\u001b[0;34m(self, sql, unbuffered)\u001b[0m\n\u001b[1;32m    858\u001b[0m                 \u001b[0msql\u001b[0m \u001b[0;34m=\u001b[0m \u001b[0msql\u001b[0m\u001b[0;34m.\u001b[0m\u001b[0mencode\u001b[0m\u001b[0;34m(\u001b[0m\u001b[0mself\u001b[0m\u001b[0;34m.\u001b[0m\u001b[0mencoding\u001b[0m\u001b[0;34m,\u001b[0m \u001b[0;34m'surrogateescape'\u001b[0m\u001b[0;34m)\u001b[0m\u001b[0;34m\u001b[0m\u001b[0m\n\u001b[1;32m    859\u001b[0m         \u001b[0mself\u001b[0m\u001b[0;34m.\u001b[0m\u001b[0m_execute_command\u001b[0m\u001b[0;34m(\u001b[0m\u001b[0mCOMMAND\u001b[0m\u001b[0;34m.\u001b[0m\u001b[0mCOM_QUERY\u001b[0m\u001b[0;34m,\u001b[0m \u001b[0msql\u001b[0m\u001b[0;34m)\u001b[0m\u001b[0;34m\u001b[0m\u001b[0m\n\u001b[0;32m--> 860\u001b[0;31m         \u001b[0mself\u001b[0m\u001b[0;34m.\u001b[0m\u001b[0m_affected_rows\u001b[0m \u001b[0;34m=\u001b[0m \u001b[0mself\u001b[0m\u001b[0;34m.\u001b[0m\u001b[0m_read_query_result\u001b[0m\u001b[0;34m(\u001b[0m\u001b[0munbuffered\u001b[0m\u001b[0;34m=\u001b[0m\u001b[0munbuffered\u001b[0m\u001b[0;34m)\u001b[0m\u001b[0;34m\u001b[0m\u001b[0m\n\u001b[0m\u001b[1;32m    861\u001b[0m         \u001b[0;32mreturn\u001b[0m \u001b[0mself\u001b[0m\u001b[0;34m.\u001b[0m\u001b[0m_affected_rows\u001b[0m\u001b[0;34m\u001b[0m\u001b[0m\n\u001b[1;32m    862\u001b[0m \u001b[0;34m\u001b[0m\u001b[0m\n",
      "\u001b[0;32m~/.local/lib/python3.5/site-packages/pymysql/connections.py\u001b[0m in \u001b[0;36m_read_query_result\u001b[0;34m(self, unbuffered)\u001b[0m\n\u001b[1;32m   1059\u001b[0m         \u001b[0;32melse\u001b[0m\u001b[0;34m:\u001b[0m\u001b[0;34m\u001b[0m\u001b[0m\n\u001b[1;32m   1060\u001b[0m             \u001b[0mresult\u001b[0m \u001b[0;34m=\u001b[0m \u001b[0mMySQLResult\u001b[0m\u001b[0;34m(\u001b[0m\u001b[0mself\u001b[0m\u001b[0;34m)\u001b[0m\u001b[0;34m\u001b[0m\u001b[0m\n\u001b[0;32m-> 1061\u001b[0;31m             \u001b[0mresult\u001b[0m\u001b[0;34m.\u001b[0m\u001b[0mread\u001b[0m\u001b[0;34m(\u001b[0m\u001b[0;34m)\u001b[0m\u001b[0;34m\u001b[0m\u001b[0m\n\u001b[0m\u001b[1;32m   1062\u001b[0m         \u001b[0mself\u001b[0m\u001b[0;34m.\u001b[0m\u001b[0m_result\u001b[0m \u001b[0;34m=\u001b[0m \u001b[0mresult\u001b[0m\u001b[0;34m\u001b[0m\u001b[0m\n\u001b[1;32m   1063\u001b[0m         \u001b[0;32mif\u001b[0m \u001b[0mresult\u001b[0m\u001b[0;34m.\u001b[0m\u001b[0mserver_status\u001b[0m \u001b[0;32mis\u001b[0m \u001b[0;32mnot\u001b[0m \u001b[0;32mNone\u001b[0m\u001b[0;34m:\u001b[0m\u001b[0;34m\u001b[0m\u001b[0m\n",
      "\u001b[0;32m~/.local/lib/python3.5/site-packages/pymysql/connections.py\u001b[0m in \u001b[0;36mread\u001b[0;34m(self)\u001b[0m\n\u001b[1;32m   1347\u001b[0m     \u001b[0;32mdef\u001b[0m \u001b[0mread\u001b[0m\u001b[0;34m(\u001b[0m\u001b[0mself\u001b[0m\u001b[0;34m)\u001b[0m\u001b[0;34m:\u001b[0m\u001b[0;34m\u001b[0m\u001b[0m\n\u001b[1;32m   1348\u001b[0m         \u001b[0;32mtry\u001b[0m\u001b[0;34m:\u001b[0m\u001b[0;34m\u001b[0m\u001b[0m\n\u001b[0;32m-> 1349\u001b[0;31m             \u001b[0mfirst_packet\u001b[0m \u001b[0;34m=\u001b[0m \u001b[0mself\u001b[0m\u001b[0;34m.\u001b[0m\u001b[0mconnection\u001b[0m\u001b[0;34m.\u001b[0m\u001b[0m_read_packet\u001b[0m\u001b[0;34m(\u001b[0m\u001b[0;34m)\u001b[0m\u001b[0;34m\u001b[0m\u001b[0m\n\u001b[0m\u001b[1;32m   1350\u001b[0m \u001b[0;34m\u001b[0m\u001b[0m\n\u001b[1;32m   1351\u001b[0m             \u001b[0;32mif\u001b[0m \u001b[0mfirst_packet\u001b[0m\u001b[0;34m.\u001b[0m\u001b[0mis_ok_packet\u001b[0m\u001b[0;34m(\u001b[0m\u001b[0;34m)\u001b[0m\u001b[0;34m:\u001b[0m\u001b[0;34m\u001b[0m\u001b[0m\n",
      "\u001b[0;32m~/.local/lib/python3.5/site-packages/pymysql/connections.py\u001b[0m in \u001b[0;36m_read_packet\u001b[0;34m(self, packet_type)\u001b[0m\n\u001b[1;32m   1016\u001b[0m \u001b[0;34m\u001b[0m\u001b[0m\n\u001b[1;32m   1017\u001b[0m         \u001b[0mpacket\u001b[0m \u001b[0;34m=\u001b[0m \u001b[0mpacket_type\u001b[0m\u001b[0;34m(\u001b[0m\u001b[0mbuff\u001b[0m\u001b[0;34m,\u001b[0m \u001b[0mself\u001b[0m\u001b[0;34m.\u001b[0m\u001b[0mencoding\u001b[0m\u001b[0;34m)\u001b[0m\u001b[0;34m\u001b[0m\u001b[0m\n\u001b[0;32m-> 1018\u001b[0;31m         \u001b[0mpacket\u001b[0m\u001b[0;34m.\u001b[0m\u001b[0mcheck_error\u001b[0m\u001b[0;34m(\u001b[0m\u001b[0;34m)\u001b[0m\u001b[0;34m\u001b[0m\u001b[0m\n\u001b[0m\u001b[1;32m   1019\u001b[0m         \u001b[0;32mreturn\u001b[0m \u001b[0mpacket\u001b[0m\u001b[0;34m\u001b[0m\u001b[0m\n\u001b[1;32m   1020\u001b[0m \u001b[0;34m\u001b[0m\u001b[0m\n",
      "\u001b[0;32m~/.local/lib/python3.5/site-packages/pymysql/connections.py\u001b[0m in \u001b[0;36mcheck_error\u001b[0;34m(self)\u001b[0m\n\u001b[1;32m    382\u001b[0m             \u001b[0merrno\u001b[0m \u001b[0;34m=\u001b[0m \u001b[0mself\u001b[0m\u001b[0;34m.\u001b[0m\u001b[0mread_uint16\u001b[0m\u001b[0;34m(\u001b[0m\u001b[0;34m)\u001b[0m\u001b[0;34m\u001b[0m\u001b[0m\n\u001b[1;32m    383\u001b[0m             \u001b[0;32mif\u001b[0m \u001b[0mDEBUG\u001b[0m\u001b[0;34m:\u001b[0m \u001b[0mprint\u001b[0m\u001b[0;34m(\u001b[0m\u001b[0;34m\"errno =\"\u001b[0m\u001b[0;34m,\u001b[0m \u001b[0merrno\u001b[0m\u001b[0;34m)\u001b[0m\u001b[0;34m\u001b[0m\u001b[0m\n\u001b[0;32m--> 384\u001b[0;31m             \u001b[0merr\u001b[0m\u001b[0;34m.\u001b[0m\u001b[0mraise_mysql_exception\u001b[0m\u001b[0;34m(\u001b[0m\u001b[0mself\u001b[0m\u001b[0;34m.\u001b[0m\u001b[0m_data\u001b[0m\u001b[0;34m)\u001b[0m\u001b[0;34m\u001b[0m\u001b[0m\n\u001b[0m\u001b[1;32m    385\u001b[0m \u001b[0;34m\u001b[0m\u001b[0m\n\u001b[1;32m    386\u001b[0m     \u001b[0;32mdef\u001b[0m \u001b[0mdump\u001b[0m\u001b[0;34m(\u001b[0m\u001b[0mself\u001b[0m\u001b[0;34m)\u001b[0m\u001b[0;34m:\u001b[0m\u001b[0;34m\u001b[0m\u001b[0m\n",
      "\u001b[0;32m~/.local/lib/python3.5/site-packages/pymysql/err.py\u001b[0m in \u001b[0;36mraise_mysql_exception\u001b[0;34m(data)\u001b[0m\n\u001b[1;32m    105\u001b[0m         \u001b[0merrval\u001b[0m \u001b[0;34m=\u001b[0m \u001b[0mdata\u001b[0m\u001b[0;34m[\u001b[0m\u001b[0;36m3\u001b[0m\u001b[0;34m:\u001b[0m\u001b[0;34m]\u001b[0m\u001b[0;34m.\u001b[0m\u001b[0mdecode\u001b[0m\u001b[0;34m(\u001b[0m\u001b[0;34m'utf-8'\u001b[0m\u001b[0;34m,\u001b[0m \u001b[0;34m'replace'\u001b[0m\u001b[0;34m)\u001b[0m\u001b[0;34m\u001b[0m\u001b[0m\n\u001b[1;32m    106\u001b[0m     \u001b[0merrorclass\u001b[0m \u001b[0;34m=\u001b[0m \u001b[0merror_map\u001b[0m\u001b[0;34m.\u001b[0m\u001b[0mget\u001b[0m\u001b[0;34m(\u001b[0m\u001b[0merrno\u001b[0m\u001b[0;34m,\u001b[0m \u001b[0mInternalError\u001b[0m\u001b[0;34m)\u001b[0m\u001b[0;34m\u001b[0m\u001b[0m\n\u001b[0;32m--> 107\u001b[0;31m     \u001b[0;32mraise\u001b[0m \u001b[0merrorclass\u001b[0m\u001b[0;34m(\u001b[0m\u001b[0merrno\u001b[0m\u001b[0;34m,\u001b[0m \u001b[0merrval\u001b[0m\u001b[0;34m)\u001b[0m\u001b[0;34m\u001b[0m\u001b[0m\n\u001b[0m",
      "\u001b[0;31mProgrammingError\u001b[0m: (1146, \"Table 'yejinyDB.Rcp' doesn't exist\")"
     ]
    }
   ],
   "source": [
    "with SSHTunnelForwarder(\n",
    "         ('1.212.234.245', 486),\n",
    "         ssh_password=\"vips\",\n",
    "         ssh_username=\"vips\",\n",
    "         remote_bind_address=('127.0.0.1', 3306)) as server:\n",
    "\n",
    "    conn = pymysql.connect(host='localhost',\n",
    "                           port=server.local_bind_port,\n",
    "                           user='root',\n",
    "                           passwd='qlqtmajrwk',\n",
    "                           db='yejinyDB',\n",
    "                           charset='utf8')\n",
    "\n",
    "    curs = conn.cursor(pymysql.cursors.DictCursor)\n",
    "    \n",
    "    sql = \"SELECT * FROM yejinyDB.Rcp where now_st != -1;\"\n",
    "    curs.execute(sql)\n",
    "    zziny_rcp_table = curs.fetchall()\n",
    "    \n",
    "    conn.commit()\n",
    "    conn.close()\n",
    "    \n",
    "    \n",
    "server.stop()"
   ]
  },
  {
   "cell_type": "code",
   "execution_count": 205,
   "metadata": {},
   "outputs": [],
   "source": [
    "conn = pymysql.connect(host='localhost', user='root', password='qlqtmajrwk',\n",
    "                       db='yejinyDB', charset='utf8')\n",
    " \n",
    "# Connection 으로부터 Dictoionary Cursor 생성\n",
    "curs = conn.cursor(pymysql.cursors.DictCursor)"
   ]
  },
  {
   "cell_type": "code",
   "execution_count": 209,
   "metadata": {
    "collapsed": true
   },
   "outputs": [
    {
     "ename": "InterfaceError",
     "evalue": "(0, '')",
     "output_type": "error",
     "traceback": [
      "\u001b[0;31m---------------------------------------------------------------------------\u001b[0m",
      "\u001b[0;31mInterfaceError\u001b[0m                            Traceback (most recent call last)",
      "\u001b[0;32m<ipython-input-209-ca51a5a06275>\u001b[0m in \u001b[0;36m<module>\u001b[0;34m()\u001b[0m\n\u001b[1;32m      1\u001b[0m \u001b[0msql\u001b[0m \u001b[0;34m=\u001b[0m \u001b[0;34m\"SELECT * FROM yejinyDB.Rcp where now_st != -1;\"\u001b[0m\u001b[0;34m\u001b[0m\u001b[0m\n\u001b[0;32m----> 2\u001b[0;31m \u001b[0mcurs\u001b[0m\u001b[0;34m.\u001b[0m\u001b[0mexecute\u001b[0m\u001b[0;34m(\u001b[0m\u001b[0msql\u001b[0m\u001b[0;34m)\u001b[0m\u001b[0;34m\u001b[0m\u001b[0m\n\u001b[0m\u001b[1;32m      3\u001b[0m \u001b[0mzziny_rcp_table\u001b[0m \u001b[0;34m=\u001b[0m \u001b[0mcurs\u001b[0m\u001b[0;34m.\u001b[0m\u001b[0mfetchall\u001b[0m\u001b[0;34m(\u001b[0m\u001b[0;34m)\u001b[0m\u001b[0;34m\u001b[0m\u001b[0m\n\u001b[1;32m      4\u001b[0m \u001b[0;34m\u001b[0m\u001b[0m\n\u001b[1;32m      5\u001b[0m \u001b[0mconn\u001b[0m\u001b[0;34m.\u001b[0m\u001b[0mcommit\u001b[0m\u001b[0;34m(\u001b[0m\u001b[0;34m)\u001b[0m\u001b[0;34m\u001b[0m\u001b[0m\n",
      "\u001b[0;32m~/.local/lib/python3.5/site-packages/pymysql/cursors.py\u001b[0m in \u001b[0;36mexecute\u001b[0;34m(self, query, args)\u001b[0m\n\u001b[1;32m    163\u001b[0m         \u001b[0mquery\u001b[0m \u001b[0;34m=\u001b[0m \u001b[0mself\u001b[0m\u001b[0;34m.\u001b[0m\u001b[0mmogrify\u001b[0m\u001b[0;34m(\u001b[0m\u001b[0mquery\u001b[0m\u001b[0;34m,\u001b[0m \u001b[0margs\u001b[0m\u001b[0;34m)\u001b[0m\u001b[0;34m\u001b[0m\u001b[0m\n\u001b[1;32m    164\u001b[0m \u001b[0;34m\u001b[0m\u001b[0m\n\u001b[0;32m--> 165\u001b[0;31m         \u001b[0mresult\u001b[0m \u001b[0;34m=\u001b[0m \u001b[0mself\u001b[0m\u001b[0;34m.\u001b[0m\u001b[0m_query\u001b[0m\u001b[0;34m(\u001b[0m\u001b[0mquery\u001b[0m\u001b[0;34m)\u001b[0m\u001b[0;34m\u001b[0m\u001b[0m\n\u001b[0m\u001b[1;32m    166\u001b[0m         \u001b[0mself\u001b[0m\u001b[0;34m.\u001b[0m\u001b[0m_executed\u001b[0m \u001b[0;34m=\u001b[0m \u001b[0mquery\u001b[0m\u001b[0;34m\u001b[0m\u001b[0m\n\u001b[1;32m    167\u001b[0m         \u001b[0;32mreturn\u001b[0m \u001b[0mresult\u001b[0m\u001b[0;34m\u001b[0m\u001b[0m\n",
      "\u001b[0;32m~/.local/lib/python3.5/site-packages/pymysql/cursors.py\u001b[0m in \u001b[0;36m_query\u001b[0;34m(self, q)\u001b[0m\n\u001b[1;32m    319\u001b[0m         \u001b[0mconn\u001b[0m \u001b[0;34m=\u001b[0m \u001b[0mself\u001b[0m\u001b[0;34m.\u001b[0m\u001b[0m_get_db\u001b[0m\u001b[0;34m(\u001b[0m\u001b[0;34m)\u001b[0m\u001b[0;34m\u001b[0m\u001b[0m\n\u001b[1;32m    320\u001b[0m         \u001b[0mself\u001b[0m\u001b[0;34m.\u001b[0m\u001b[0m_last_executed\u001b[0m \u001b[0;34m=\u001b[0m \u001b[0mq\u001b[0m\u001b[0;34m\u001b[0m\u001b[0m\n\u001b[0;32m--> 321\u001b[0;31m         \u001b[0mconn\u001b[0m\u001b[0;34m.\u001b[0m\u001b[0mquery\u001b[0m\u001b[0;34m(\u001b[0m\u001b[0mq\u001b[0m\u001b[0;34m)\u001b[0m\u001b[0;34m\u001b[0m\u001b[0m\n\u001b[0m\u001b[1;32m    322\u001b[0m         \u001b[0mself\u001b[0m\u001b[0;34m.\u001b[0m\u001b[0m_do_get_result\u001b[0m\u001b[0;34m(\u001b[0m\u001b[0;34m)\u001b[0m\u001b[0;34m\u001b[0m\u001b[0m\n\u001b[1;32m    323\u001b[0m         \u001b[0;32mreturn\u001b[0m \u001b[0mself\u001b[0m\u001b[0;34m.\u001b[0m\u001b[0mrowcount\u001b[0m\u001b[0;34m\u001b[0m\u001b[0m\n",
      "\u001b[0;32m~/.local/lib/python3.5/site-packages/pymysql/connections.py\u001b[0m in \u001b[0;36mquery\u001b[0;34m(self, sql, unbuffered)\u001b[0m\n\u001b[1;32m    857\u001b[0m             \u001b[0;32melse\u001b[0m\u001b[0;34m:\u001b[0m\u001b[0;34m\u001b[0m\u001b[0m\n\u001b[1;32m    858\u001b[0m                 \u001b[0msql\u001b[0m \u001b[0;34m=\u001b[0m \u001b[0msql\u001b[0m\u001b[0;34m.\u001b[0m\u001b[0mencode\u001b[0m\u001b[0;34m(\u001b[0m\u001b[0mself\u001b[0m\u001b[0;34m.\u001b[0m\u001b[0mencoding\u001b[0m\u001b[0;34m,\u001b[0m \u001b[0;34m'surrogateescape'\u001b[0m\u001b[0;34m)\u001b[0m\u001b[0;34m\u001b[0m\u001b[0m\n\u001b[0;32m--> 859\u001b[0;31m         \u001b[0mself\u001b[0m\u001b[0;34m.\u001b[0m\u001b[0m_execute_command\u001b[0m\u001b[0;34m(\u001b[0m\u001b[0mCOMMAND\u001b[0m\u001b[0;34m.\u001b[0m\u001b[0mCOM_QUERY\u001b[0m\u001b[0;34m,\u001b[0m \u001b[0msql\u001b[0m\u001b[0;34m)\u001b[0m\u001b[0;34m\u001b[0m\u001b[0m\n\u001b[0m\u001b[1;32m    860\u001b[0m         \u001b[0mself\u001b[0m\u001b[0;34m.\u001b[0m\u001b[0m_affected_rows\u001b[0m \u001b[0;34m=\u001b[0m \u001b[0mself\u001b[0m\u001b[0;34m.\u001b[0m\u001b[0m_read_query_result\u001b[0m\u001b[0;34m(\u001b[0m\u001b[0munbuffered\u001b[0m\u001b[0;34m=\u001b[0m\u001b[0munbuffered\u001b[0m\u001b[0;34m)\u001b[0m\u001b[0;34m\u001b[0m\u001b[0m\n\u001b[1;32m    861\u001b[0m         \u001b[0;32mreturn\u001b[0m \u001b[0mself\u001b[0m\u001b[0;34m.\u001b[0m\u001b[0m_affected_rows\u001b[0m\u001b[0;34m\u001b[0m\u001b[0m\n",
      "\u001b[0;32m~/.local/lib/python3.5/site-packages/pymysql/connections.py\u001b[0m in \u001b[0;36m_execute_command\u001b[0;34m(self, command, sql)\u001b[0m\n\u001b[1;32m   1073\u001b[0m     \u001b[0;32mdef\u001b[0m \u001b[0m_execute_command\u001b[0m\u001b[0;34m(\u001b[0m\u001b[0mself\u001b[0m\u001b[0;34m,\u001b[0m \u001b[0mcommand\u001b[0m\u001b[0;34m,\u001b[0m \u001b[0msql\u001b[0m\u001b[0;34m)\u001b[0m\u001b[0;34m:\u001b[0m\u001b[0;34m\u001b[0m\u001b[0m\n\u001b[1;32m   1074\u001b[0m         \u001b[0;32mif\u001b[0m \u001b[0;32mnot\u001b[0m \u001b[0mself\u001b[0m\u001b[0;34m.\u001b[0m\u001b[0m_sock\u001b[0m\u001b[0;34m:\u001b[0m\u001b[0;34m\u001b[0m\u001b[0m\n\u001b[0;32m-> 1075\u001b[0;31m             \u001b[0;32mraise\u001b[0m \u001b[0merr\u001b[0m\u001b[0;34m.\u001b[0m\u001b[0mInterfaceError\u001b[0m\u001b[0;34m(\u001b[0m\u001b[0;34m\"(0, '')\"\u001b[0m\u001b[0;34m)\u001b[0m\u001b[0;34m\u001b[0m\u001b[0m\n\u001b[0m\u001b[1;32m   1076\u001b[0m \u001b[0;34m\u001b[0m\u001b[0m\n\u001b[1;32m   1077\u001b[0m         \u001b[0;31m# If the last query was unbuffered, make sure it finishes before\u001b[0m\u001b[0;34m\u001b[0m\u001b[0;34m\u001b[0m\u001b[0m\n",
      "\u001b[0;31mInterfaceError\u001b[0m: (0, '')"
     ]
    }
   ],
   "source": [
    "sql = \"SELECT * FROM yejinyDB.Rcp where now_st != -1;\"\n",
    "curs.execute(sql)\n",
    "zziny_rcp_table = curs.fetchall()\n",
    "\n",
    "conn.commit()\n",
    "conn.close()\n",
    "    \n",
    "server.stop()"
   ]
  },
  {
   "cell_type": "code",
   "execution_count": 218,
   "metadata": {},
   "outputs": [],
   "source": [
    "zziny_rcp = pd.DataFrame.from_dict(zziny_rcp_table)"
   ]
  },
  {
   "cell_type": "code",
   "execution_count": 224,
   "metadata": {},
   "outputs": [],
   "source": [
    "zziny_rcp.to_csv('실시간공시실시간주가.csv', encoding='utf-8')"
   ]
  },
  {
   "cell_type": "code",
   "execution_count": 235,
   "metadata": {},
   "outputs": [
    {
     "data": {
      "text/html": [
       "<div>\n",
       "<style scoped>\n",
       "    .dataframe tbody tr th:only-of-type {\n",
       "        vertical-align: middle;\n",
       "    }\n",
       "\n",
       "    .dataframe tbody tr th {\n",
       "        vertical-align: top;\n",
       "    }\n",
       "\n",
       "    .dataframe thead th {\n",
       "        text-align: right;\n",
       "    }\n",
       "</style>\n",
       "<table border=\"1\" class=\"dataframe\">\n",
       "  <thead>\n",
       "    <tr style=\"text-align: right;\">\n",
       "      <th></th>\n",
       "      <th>close</th>\n",
       "      <th>crp_cd_x</th>\n",
       "      <th>date_x</th>\n",
       "      <th>datecd</th>\n",
       "      <th>diff</th>\n",
       "      <th>high</th>\n",
       "      <th>low</th>\n",
       "      <th>open</th>\n",
       "      <th>volume</th>\n",
       "      <th>year_x</th>\n",
       "      <th>...</th>\n",
       "      <th>now_volume</th>\n",
       "      <th>date_y</th>\n",
       "      <th>rcp_no</th>\n",
       "      <th>rmk</th>\n",
       "      <th>rpt_cat</th>\n",
       "      <th>rpt_link</th>\n",
       "      <th>rpt_nm</th>\n",
       "      <th>year_y</th>\n",
       "      <th>month_y</th>\n",
       "      <th>day_y</th>\n",
       "    </tr>\n",
       "  </thead>\n",
       "  <tbody>\n",
       "  </tbody>\n",
       "</table>\n",
       "<p>0 rows × 26 columns</p>\n",
       "</div>"
      ],
      "text/plain": [
       "Empty DataFrame\n",
       "Columns: [close, crp_cd_x, date_x, datecd, diff, high, low, open, volume, year_x, month_x, day_x, crp_cd_y, now_diff, now_st, now_trd, now_volume, date_y, rcp_no, rmk, rpt_cat, rpt_link, rpt_nm, year_y, month_y, day_y]\n",
       "Index: []\n",
       "\n",
       "[0 rows x 26 columns]"
      ]
     },
     "execution_count": 235,
     "metadata": {},
     "output_type": "execute_result"
    }
   ],
   "source": [
    "merged_pd"
   ]
  },
  {
   "cell_type": "code",
   "execution_count": 234,
   "metadata": {},
   "outputs": [],
   "source": [
    "merged_pd.to_csv('공시와회사merge.csv', encoding='utf-8')"
   ]
  },
  {
   "cell_type": "code",
   "execution_count": 241,
   "metadata": {},
   "outputs": [
    {
     "ename": "SyntaxError",
     "evalue": "invalid syntax (<ipython-input-241-b6b09a37e8ee>, line 1)",
     "output_type": "error",
     "traceback": [
      "\u001b[0;36m  File \u001b[0;32m\"<ipython-input-241-b6b09a37e8ee>\"\u001b[0;36m, line \u001b[0;32m1\u001b[0m\n\u001b[0;31m    close_pd = close_pd['year'=2017]\u001b[0m\n\u001b[0m                              ^\u001b[0m\n\u001b[0;31mSyntaxError\u001b[0m\u001b[0;31m:\u001b[0m invalid syntax\n"
     ]
    }
   ],
   "source": [
    "close_pd = close_pd['year'=2017]"
   ]
  },
  {
   "cell_type": "code",
   "execution_count": null,
   "metadata": {},
   "outputs": [],
   "source": []
  }
 ],
 "metadata": {
  "kernelspec": {
   "display_name": "Python 3",
   "language": "python",
   "name": "python3"
  },
  "language_info": {
   "codemirror_mode": {
    "name": "ipython",
    "version": 3
   },
   "file_extension": ".py",
   "mimetype": "text/x-python",
   "name": "python",
   "nbconvert_exporter": "python",
   "pygments_lexer": "ipython3",
   "version": "3.5.2"
  }
 },
 "nbformat": 4,
 "nbformat_minor": 2
}
