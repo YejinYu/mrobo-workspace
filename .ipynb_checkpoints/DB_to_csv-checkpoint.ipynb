{
 "cells": [
  {
   "cell_type": "code",
   "execution_count": 6,
   "metadata": {},
   "outputs": [],
   "source": [
    "import numpy as np\n",
    "import matplotlib as plt\n",
    "from sklearn import linear_model, datasets\n",
    "import pymysql\n",
    "from datetime import datetime, timedelta\n",
    "from sklearn.model_selection import train_test_split\n",
    "from sshtunnel import SSHTunnelForwarder\n",
    "import random\n",
    "import functools\n",
    "import pandas as pd"
   ]
  },
  {
   "cell_type": "code",
   "execution_count": 30,
   "metadata": {},
   "outputs": [],
   "source": [
    "with SSHTunnelForwarder(\n",
    "         ('1.212.234.245', 486),\n",
    "         ssh_password=\"vips\",\n",
    "         ssh_username=\"vips\",\n",
    "         remote_bind_address=('127.0.0.1', 3306)) as server:\n",
    "\n",
    "    conn = pymysql.connect(host='localhost',\n",
    "                           port=server.local_bind_port,\n",
    "                           user='root',\n",
    "                           passwd='qlqtmajrwk',\n",
    "                           db='dg',\n",
    "                           charset='utf8')\n",
    "\n",
    "    curs = conn.cursor(pymysql.cursors.DictCursor)\n",
    "    \n",
    "    sql = \"select * from dg.searchDB where (crp_cls = 'K' or crp_cls = 'Y')\"\n",
    "    curs.execute(sql)\n",
    "    rcp_table = curs.fetchall()\n",
    "    \n",
    "    sql2 = \"select * from dg.stockDB\"\n",
    "    curs.execute(sql2)\n",
    "    stock_table = curs.fetchall()\n",
    "    conn.commit()\n",
    "    conn.close()\n",
    "    \n",
    "    \n",
    "server.stop()"
   ]
  },
  {
   "cell_type": "code",
   "execution_count": 29,
   "metadata": {},
   "outputs": [
    {
     "data": {
      "text/plain": [
       "1295919"
      ]
     },
     "execution_count": 29,
     "metadata": {},
     "output_type": "execute_result"
    }
   ],
   "source": [
    "len(rcp_table) #2018-07-23 오전 update 기준"
   ]
  },
  {
   "cell_type": "code",
   "execution_count": 31,
   "metadata": {},
   "outputs": [
    {
     "data": {
      "text/plain": [
       "1295926"
      ]
     },
     "execution_count": 31,
     "metadata": {},
     "output_type": "execute_result"
    }
   ],
   "source": [
    "len(rcp_table)"
   ]
  },
  {
   "cell_type": "code",
   "execution_count": 32,
   "metadata": {},
   "outputs": [],
   "source": [
    "rcp_pd = pd.DataFrame.from_dict(rcp_table)"
   ]
  },
  {
   "cell_type": "code",
   "execution_count": 33,
   "metadata": {},
   "outputs": [
    {
     "data": {
      "text/html": [
       "<div>\n",
       "<style scoped>\n",
       "    .dataframe tbody tr th:only-of-type {\n",
       "        vertical-align: middle;\n",
       "    }\n",
       "\n",
       "    .dataframe tbody tr th {\n",
       "        vertical-align: top;\n",
       "    }\n",
       "\n",
       "    .dataframe thead th {\n",
       "        text-align: right;\n",
       "    }\n",
       "</style>\n",
       "<table border=\"1\" class=\"dataframe\">\n",
       "  <thead>\n",
       "    <tr style=\"text-align: right;\">\n",
       "      <th></th>\n",
       "      <th>crp_cd</th>\n",
       "      <th>crp_cls</th>\n",
       "      <th>crp_nm</th>\n",
       "      <th>flr_nm</th>\n",
       "      <th>rcp_dt</th>\n",
       "      <th>rcp_no</th>\n",
       "      <th>rcp_rt</th>\n",
       "      <th>rmk</th>\n",
       "      <th>rpt_cat</th>\n",
       "      <th>rpt_nm</th>\n",
       "    </tr>\n",
       "  </thead>\n",
       "  <tbody>\n",
       "    <tr>\n",
       "      <th>0</th>\n",
       "      <td>023150</td>\n",
       "      <td>Y</td>\n",
       "      <td>MH에탄올</td>\n",
       "      <td>MH에탄올</td>\n",
       "      <td>1999-03-25</td>\n",
       "      <td>19990325000001</td>\n",
       "      <td>None</td>\n",
       "      <td>정</td>\n",
       "      <td>E_1</td>\n",
       "      <td>사업보고서 (1998.12)</td>\n",
       "    </tr>\n",
       "    <tr>\n",
       "      <th>1</th>\n",
       "      <td>001140</td>\n",
       "      <td>Y</td>\n",
       "      <td>국보</td>\n",
       "      <td>국보</td>\n",
       "      <td>1999-03-25</td>\n",
       "      <td>19990325000003</td>\n",
       "      <td>None</td>\n",
       "      <td>정</td>\n",
       "      <td>E_1</td>\n",
       "      <td>사업보고서 (1998.12)</td>\n",
       "    </tr>\n",
       "    <tr>\n",
       "      <th>2</th>\n",
       "      <td>014160</td>\n",
       "      <td>Y</td>\n",
       "      <td>대영포장</td>\n",
       "      <td>대영포장</td>\n",
       "      <td>1999-03-25</td>\n",
       "      <td>19990325000008</td>\n",
       "      <td>None</td>\n",
       "      <td>정연</td>\n",
       "      <td>E_1</td>\n",
       "      <td>사업보고서 (1998.12)</td>\n",
       "    </tr>\n",
       "    <tr>\n",
       "      <th>3</th>\n",
       "      <td>002310</td>\n",
       "      <td>Y</td>\n",
       "      <td>아세아제지</td>\n",
       "      <td>아세아제지</td>\n",
       "      <td>1999-03-25</td>\n",
       "      <td>19990325000015</td>\n",
       "      <td>None</td>\n",
       "      <td>정</td>\n",
       "      <td>E_1</td>\n",
       "      <td>사업보고서 (1998.12)</td>\n",
       "    </tr>\n",
       "    <tr>\n",
       "      <th>4</th>\n",
       "      <td>015360</td>\n",
       "      <td>Y</td>\n",
       "      <td>예스코</td>\n",
       "      <td>예스코</td>\n",
       "      <td>1999-03-25</td>\n",
       "      <td>19990325000016</td>\n",
       "      <td>None</td>\n",
       "      <td>정</td>\n",
       "      <td>E_1</td>\n",
       "      <td>사업보고서 (1998.12)</td>\n",
       "    </tr>\n",
       "  </tbody>\n",
       "</table>\n",
       "</div>"
      ],
      "text/plain": [
       "   crp_cd crp_cls crp_nm flr_nm      rcp_dt          rcp_no rcp_rt rmk  \\\n",
       "0  023150       Y  MH에탄올  MH에탄올  1999-03-25  19990325000001   None   정   \n",
       "1  001140       Y     국보     국보  1999-03-25  19990325000003   None   정   \n",
       "2  014160       Y   대영포장   대영포장  1999-03-25  19990325000008   None  정연   \n",
       "3  002310       Y  아세아제지  아세아제지  1999-03-25  19990325000015   None   정   \n",
       "4  015360       Y    예스코    예스코  1999-03-25  19990325000016   None   정   \n",
       "\n",
       "  rpt_cat           rpt_nm  \n",
       "0     E_1  사업보고서 (1998.12)  \n",
       "1     E_1  사업보고서 (1998.12)  \n",
       "2     E_1  사업보고서 (1998.12)  \n",
       "3     E_1  사업보고서 (1998.12)  \n",
       "4     E_1  사업보고서 (1998.12)  "
      ]
     },
     "execution_count": 33,
     "metadata": {},
     "output_type": "execute_result"
    }
   ],
   "source": [
    "rcp_pd.head()"
   ]
  },
  {
   "cell_type": "code",
   "execution_count": 27,
   "metadata": {},
   "outputs": [
    {
     "data": {
      "text/plain": [
       "pandas.core.series.Series"
      ]
     },
     "execution_count": 27,
     "metadata": {},
     "output_type": "execute_result"
    }
   ],
   "source": [
    "rcp_pd.groupby(['crp_cd','crp_nm']).size()"
   ]
  },
  {
   "cell_type": "code",
   "execution_count": 70,
   "metadata": {},
   "outputs": [
    {
     "ename": "SyntaxError",
     "evalue": "invalid syntax (<ipython-input-70-eb8daca5c48f>, line 3)",
     "output_type": "error",
     "traceback": [
      "\u001b[0;36m  File \u001b[0;32m\"<ipython-input-70-eb8daca5c48f>\"\u001b[0;36m, line \u001b[0;32m3\u001b[0m\n\u001b[0;31m    elif x == 'K' : rethrn '코스닥'\u001b[0m\n\u001b[0m                               ^\u001b[0m\n\u001b[0;31mSyntaxError\u001b[0m\u001b[0;31m:\u001b[0m invalid syntax\n"
     ]
    }
   ],
   "source": [
    "def converToKorean(x) :\n",
    "    if x == 'Y': return '유가증권'\n",
    "    elif x == 'K' : return '코스닥'\n",
    "    else: return '코넥스'"
   ]
  },
  {
   "cell_type": "code",
   "execution_count": 69,
   "metadata": {},
   "outputs": [],
   "source": [
    "rcp_pd.groupby(['crp_cd','crp_cls','crp_nm']).size().to_frame().to_csv('기업별공시count.csv')"
   ]
  },
  {
   "cell_type": "code",
   "execution_count": 23,
   "metadata": {},
   "outputs": [
    {
     "data": {
      "text/plain": [
       "crp_cd  crp_nm    \n",
       "000020  동화약품           792\n",
       "000030  우리은행          1948\n",
       "000040  KR모터스          770\n",
       "000050  경방             684\n",
       "000060  메리츠화재         1456\n",
       "000070  삼양홀딩스          950\n",
       "000080  하이트진로          874\n",
       "000100  유한양행          1412\n",
       "000120  CJ대한통운        1011\n",
       "000140  하이트진로홀딩스      1091\n",
       "000150  두산            2160\n",
       "000180  성창기업지주         585\n",
       "000210  대림산업          1909\n",
       "000220  유유제약          1121\n",
       "000230  일동홀딩스          872\n",
       "000240  한국타이어월드와이드     967\n",
       "000250  삼천당제약          382\n",
       "000270  기아자동차         2638\n",
       "000300  대유플러스          946\n",
       "000320  노루홀딩스         1494\n",
       "000370  한화손해보험        1409\n",
       "000390  삼화페인트공업       1097\n",
       "000400  롯데손해보험         912\n",
       "000430  대원강업          1104\n",
       "000440  중앙에너비스         438\n",
       "000480  조선내화           585\n",
       "000490  대동공업           526\n",
       "000500  가온전선           567\n",
       "000520  삼일제약           521\n",
       "000540  흥국화재           962\n",
       "                      ... \n",
       "289080  SV인베스트먼트        20\n",
       "291210  한국제7호스팩          5\n",
       "294870  HDC현대산업개발       24\n",
       "298000  효성화학             9\n",
       "298020  효성티앤씨           12\n",
       "298040  효성중공업            9\n",
       "298050  효성첨단소재          10\n",
       "900040  차이나그레이트        255\n",
       "900070  글로벌에스엠         293\n",
       "900080  에스앤씨엔진그룹       344\n",
       "900090  차이나하오란         507\n",
       "900100  뉴프라이드          506\n",
       "900110  이스트아시아홀딩스      336\n",
       "900120  씨케이에이치         309\n",
       "900140  엘브이엠씨            4\n",
       "        코라오홀딩스         361\n",
       "900180  완리             303\n",
       "900250  크리스탈신소재        112\n",
       "900260  로스웰             56\n",
       "900270  헝셩그룹            65\n",
       "900280  골든센츄리          146\n",
       "900290  GRT             78\n",
       "900300  오가닉티코스메틱        56\n",
       "900310  컬러레이            69\n",
       "950110  SBI핀테크솔루션즈     168\n",
       "950130  엑세스바이오         285\n",
       "950140  잉글우드랩          106\n",
       "950160  코오롱티슈진           5\n",
       "        티슈진             21\n",
       "950170  JTC             30\n",
       "Length: 2130, dtype: int64"
      ]
     },
     "execution_count": 23,
     "metadata": {},
     "output_type": "execute_result"
    }
   ],
   "source": [
    "size"
   ]
  },
  {
   "cell_type": "code",
   "execution_count": 68,
   "metadata": {},
   "outputs": [
    {
     "ename": "AttributeError",
     "evalue": "'Series' object has no attribute 'applymap'",
     "output_type": "error",
     "traceback": [
      "\u001b[0;31m---------------------------------------------------------------------------\u001b[0m",
      "\u001b[0;31mAttributeError\u001b[0m                            Traceback (most recent call last)",
      "\u001b[0;32m<ipython-input-68-e0b7cc887f92>\u001b[0m in \u001b[0;36m<module>\u001b[0;34m()\u001b[0m\n\u001b[1;32m      1\u001b[0m \u001b[0mdatetime_index\u001b[0m \u001b[0;34m=\u001b[0m \u001b[0mrcp_pd\u001b[0m\u001b[0;34m.\u001b[0m\u001b[0mindex\u001b[0m \u001b[0;34m=\u001b[0m \u001b[0mrcp_pd\u001b[0m\u001b[0;34m[\u001b[0m\u001b[0;34m'rcp_dt'\u001b[0m\u001b[0;34m]\u001b[0m\u001b[0;34m\u001b[0m\u001b[0m\n\u001b[0;32m----> 2\u001b[0;31m \u001b[0mdatetime_index\u001b[0m \u001b[0;34m=\u001b[0m \u001b[0mdatetime_index\u001b[0m\u001b[0;34m.\u001b[0m\u001b[0mapplymap\u001b[0m\u001b[0;34m(\u001b[0m\u001b[0;32mlambda\u001b[0m \u001b[0mx\u001b[0m\u001b[0;34m:\u001b[0m\u001b[0mx\u001b[0m\u001b[0;34m.\u001b[0m\u001b[0myear\u001b[0m\u001b[0;34m)\u001b[0m\u001b[0;34m\u001b[0m\u001b[0m\n\u001b[0m",
      "\u001b[0;32m/usr/local/lib/python3.5/dist-packages/pandas/core/generic.py\u001b[0m in \u001b[0;36m__getattr__\u001b[0;34m(self, name)\u001b[0m\n\u001b[1;32m   3612\u001b[0m             \u001b[0;32mif\u001b[0m \u001b[0mname\u001b[0m \u001b[0;32min\u001b[0m \u001b[0mself\u001b[0m\u001b[0;34m.\u001b[0m\u001b[0m_info_axis\u001b[0m\u001b[0;34m:\u001b[0m\u001b[0;34m\u001b[0m\u001b[0m\n\u001b[1;32m   3613\u001b[0m                 \u001b[0;32mreturn\u001b[0m \u001b[0mself\u001b[0m\u001b[0;34m[\u001b[0m\u001b[0mname\u001b[0m\u001b[0;34m]\u001b[0m\u001b[0;34m\u001b[0m\u001b[0m\n\u001b[0;32m-> 3614\u001b[0;31m             \u001b[0;32mreturn\u001b[0m \u001b[0mobject\u001b[0m\u001b[0;34m.\u001b[0m\u001b[0m__getattribute__\u001b[0m\u001b[0;34m(\u001b[0m\u001b[0mself\u001b[0m\u001b[0;34m,\u001b[0m \u001b[0mname\u001b[0m\u001b[0;34m)\u001b[0m\u001b[0;34m\u001b[0m\u001b[0m\n\u001b[0m\u001b[1;32m   3615\u001b[0m \u001b[0;34m\u001b[0m\u001b[0m\n\u001b[1;32m   3616\u001b[0m     \u001b[0;32mdef\u001b[0m \u001b[0m__setattr__\u001b[0m\u001b[0;34m(\u001b[0m\u001b[0mself\u001b[0m\u001b[0;34m,\u001b[0m \u001b[0mname\u001b[0m\u001b[0;34m,\u001b[0m \u001b[0mvalue\u001b[0m\u001b[0;34m)\u001b[0m\u001b[0;34m:\u001b[0m\u001b[0;34m\u001b[0m\u001b[0m\n",
      "\u001b[0;31mAttributeError\u001b[0m: 'Series' object has no attribute 'applymap'"
     ]
    }
   ],
   "source": [
    "datetime_index = rcp_pd.index = rcp_pd['rcp_dt']\n",
    "datetime_index = datetime_index.applymap(lambda x:x.year)"
   ]
  },
  {
   "cell_type": "code",
   "execution_count": 61,
   "metadata": {},
   "outputs": [
    {
     "data": {
      "text/plain": [
       "1999"
      ]
     },
     "execution_count": 61,
     "metadata": {},
     "output_type": "execute_result"
    }
   ],
   "source": [
    "datetime_index[0].year"
   ]
  },
  {
   "cell_type": "code",
   "execution_count": 62,
   "metadata": {},
   "outputs": [
    {
     "ename": "AttributeError",
     "evalue": "'Series' object has no attribute 'year'",
     "output_type": "error",
     "traceback": [
      "\u001b[0;31m---------------------------------------------------------------------------\u001b[0m",
      "\u001b[0;31mAttributeError\u001b[0m                            Traceback (most recent call last)",
      "\u001b[0;32m<ipython-input-62-abc7f060b6a4>\u001b[0m in \u001b[0;36m<module>\u001b[0;34m()\u001b[0m\n\u001b[0;32m----> 1\u001b[0;31m \u001b[0mrcp_pd\u001b[0m\u001b[0;34m.\u001b[0m\u001b[0mindex\u001b[0m \u001b[0;34m=\u001b[0m \u001b[0mrcp_pd\u001b[0m\u001b[0;34m[\u001b[0m\u001b[0;34m'rcp_dt'\u001b[0m\u001b[0;34m]\u001b[0m\u001b[0;34m.\u001b[0m\u001b[0myear\u001b[0m\u001b[0;34m\u001b[0m\u001b[0m\n\u001b[0m",
      "\u001b[0;32m/usr/local/lib/python3.5/dist-packages/pandas/core/generic.py\u001b[0m in \u001b[0;36m__getattr__\u001b[0;34m(self, name)\u001b[0m\n\u001b[1;32m   3612\u001b[0m             \u001b[0;32mif\u001b[0m \u001b[0mname\u001b[0m \u001b[0;32min\u001b[0m \u001b[0mself\u001b[0m\u001b[0;34m.\u001b[0m\u001b[0m_info_axis\u001b[0m\u001b[0;34m:\u001b[0m\u001b[0;34m\u001b[0m\u001b[0m\n\u001b[1;32m   3613\u001b[0m                 \u001b[0;32mreturn\u001b[0m \u001b[0mself\u001b[0m\u001b[0;34m[\u001b[0m\u001b[0mname\u001b[0m\u001b[0;34m]\u001b[0m\u001b[0;34m\u001b[0m\u001b[0m\n\u001b[0;32m-> 3614\u001b[0;31m             \u001b[0;32mreturn\u001b[0m \u001b[0mobject\u001b[0m\u001b[0;34m.\u001b[0m\u001b[0m__getattribute__\u001b[0m\u001b[0;34m(\u001b[0m\u001b[0mself\u001b[0m\u001b[0;34m,\u001b[0m \u001b[0mname\u001b[0m\u001b[0;34m)\u001b[0m\u001b[0;34m\u001b[0m\u001b[0m\n\u001b[0m\u001b[1;32m   3615\u001b[0m \u001b[0;34m\u001b[0m\u001b[0m\n\u001b[1;32m   3616\u001b[0m     \u001b[0;32mdef\u001b[0m \u001b[0m__setattr__\u001b[0m\u001b[0;34m(\u001b[0m\u001b[0mself\u001b[0m\u001b[0;34m,\u001b[0m \u001b[0mname\u001b[0m\u001b[0;34m,\u001b[0m \u001b[0mvalue\u001b[0m\u001b[0;34m)\u001b[0m\u001b[0;34m:\u001b[0m\u001b[0;34m\u001b[0m\u001b[0m\n",
      "\u001b[0;31mAttributeError\u001b[0m: 'Series' object has no attribute 'year'"
     ]
    }
   ],
   "source": []
  }
 ],
 "metadata": {
  "kernelspec": {
   "display_name": "Python 3",
   "language": "python",
   "name": "python3"
  },
  "language_info": {
   "codemirror_mode": {
    "name": "ipython",
    "version": 3
   },
   "file_extension": ".py",
   "mimetype": "text/x-python",
   "name": "python",
   "nbconvert_exporter": "python",
   "pygments_lexer": "ipython3",
   "version": "3.5.2"
  }
 },
 "nbformat": 4,
 "nbformat_minor": 2
}
