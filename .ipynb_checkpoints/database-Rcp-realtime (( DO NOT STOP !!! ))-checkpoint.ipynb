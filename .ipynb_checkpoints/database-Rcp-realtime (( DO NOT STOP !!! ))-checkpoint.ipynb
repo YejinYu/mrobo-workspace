{
 "cells": [
  {
   "cell_type": "raw",
   "metadata": {},
   "source": [
    "start at July, 6th end at\n",
    "- rcp_no\n",
    "- crp_cd\n",
    "- rpt_nm\n",
    "- rpt_link\n",
    "- rcp_dt\n",
    "- now_st\n",
    "- rmk"
   ]
  },
  {
   "cell_type": "code",
   "execution_count": null,
   "metadata": {},
   "outputs": [],
   "source": [
    "import pymysql\n",
    "import requests\n",
    "import json\n",
    "import pandas as pd\n",
    "from datetime import datetime\n",
    "from time import sleep\n",
    "import sys"
   ]
  },
  {
   "cell_type": "code",
   "execution_count": 3,
   "metadata": {},
   "outputs": [],
   "source": [
    "# MySQL Connection 연결 (DB 연결)\n",
    "def setting_db():\n",
    "    conn = pymysql.connect(host=\"localhost\", \n",
    "                       port=3306, user=\"root\", \n",
    "                       passwd=\"qlqtmajrwk\",\n",
    "                       db=\"yejinyDB\",\n",
    "                       charset=\"utf8\")\n",
    "    cursor = conn.cursor(pymysql.cursors.DictCursor) # 리스트로 받기(tuple은 conn.cursor())\n",
    "    return conn, cursor"
   ]
  },
  {
   "cell_type": "code",
   "execution_count": 80,
   "metadata": {},
   "outputs": [],
   "source": [
    "# Rcp table 만들기\n",
    "conn, cursor = setting_db()\n",
    "# 공시접수번호 rcp_no 종목코드 crp_cd 공시접수일자시각 rcp_dt\n",
    "# 현재주가 now_st 현재전일비 now_diff 현재거래량 volume 현재거래대금 now_trd\n",
    "# 공시카테고리 rpt_cat 공시내용 rpt_nm 공시링크 rpt_link 참고사항 rmk\n",
    "sql = '''CREATE TABLE Rcp (rcp_no nvarchar(45) NOT NULL,\n",
    "                            crp_cd nvarchar(45) NOT NULL,\n",
    "                            rcp_dt datetime NOT NULL,\n",
    "                            now_st bigint,\n",
    "                            now_diff bigint,\n",
    "                            now_volume bigint,\n",
    "                            now_trd bigint,\n",
    "                            rpt_cat nvarchar(45),\n",
    "                            rpt_nm text NOT NULL,\n",
    "                            rpt_link nvarchar(100) NOT NULL,\n",
    "                            rmk nvarchar(45),                            \n",
    "                            PRIMARY KEY(rcp_no)\n",
    "                            );\n",
    "                            '''\n",
    "cursor.execute(sql)\n",
    "conn.commit()\n",
    "conn.close()"
   ]
  },
  {
   "cell_type": "code",
   "execution_count": 157,
   "metadata": {},
   "outputs": [],
   "source": [
    "def get(crp_cd):\n",
    "    URL = 'http://polling.finance.naver.com/api/realtime.nhn?query=SERVICE_ITEM:'+crp_cd\n",
    "    data = {'outer': {'inner': 'value'}}\n",
    "    res = requests.post(URL, data=json.dumps(data))\n",
    "    tmp = res.json()['result']['areas'][0]['datas'][0]\n",
    "    return tmp"
   ]
  },
  {
   "cell_type": "code",
   "execution_count": 159,
   "metadata": {
    "collapsed": true
   },
   "outputs": [
    {
     "data": {
      "text/plain": [
       "{'aa': 25540031200,\n",
       " 'aq': 470789,\n",
       " 'bps': 58029.41091,\n",
       " 'cd': '000720',\n",
       " 'cnsEps': 4629,\n",
       " 'cr': 0.0,\n",
       " 'cv': 0,\n",
       " 'dv': 500.0,\n",
       " 'eps': 1810,\n",
       " 'hv': 54900,\n",
       " 'keps': 1810,\n",
       " 'll': 38100,\n",
       " 'lv': 53500,\n",
       " 'ms': 'OPEN',\n",
       " 'mt': '1',\n",
       " 'nav': None,\n",
       " 'nm': '현대건설',\n",
       " 'nv': 54300,\n",
       " 'ov': 54600,\n",
       " 'pcv': 54300,\n",
       " 'rf': '3',\n",
       " 'sv': 54300,\n",
       " 'tyn': 'N',\n",
       " 'ul': 70500}"
      ]
     },
     "execution_count": 159,
     "metadata": {},
     "output_type": "execute_result"
    }
   ],
   "source": [
    "get('000720')"
   ]
  },
  {
   "cell_type": "code",
   "execution_count": null,
   "metadata": {},
   "outputs": [],
   "source": [
    "def get_now(crp_cd):\n",
    "    URL = 'http://polling.finance.naver.com/api/realtime.nhn?query=SERVICE_ITEM:'+crp_cd\n",
    "    data = {'outer': {'inner': 'value'}}\n",
    "    res = requests.post(URL, data=json.dumps(data))\n",
    "    tmp = res.json()['result']['areas'][0]['datas'][0]\n",
    "    result = {'now_st':tmp['nv'], 'now_diff':tmp['nv']-tmp['sv'], 'now_volume':tmp['aq'], 'now_trd':tmp['aa']}\n",
    "    return result"
   ]
  },
  {
   "cell_type": "code",
   "execution_count": null,
   "metadata": {},
   "outputs": [],
   "source": [
    "get_now('005380')"
   ]
  },
  {
   "cell_type": "code",
   "execution_count": 6,
   "metadata": {},
   "outputs": [],
   "source": [
    "log_list = []"
   ]
  },
  {
   "cell_type": "code",
   "execution_count": null,
   "metadata": {
    "scrolled": true
   },
   "outputs": [
    {
     "name": "stdout",
     "output_type": "stream",
     "text": [
      "detect\n",
      "detect\n",
      "nothing changed 13:05:25.153547\n",
      "detect\n",
      "nothing changed 13:05:55.369930\n",
      "detect\n",
      "nothing changed 13:10:26.369205\n",
      "nothing changed 13:10:56.467470\n",
      "detect\n",
      "nothing changed 13:15:27.301523\n",
      "nothing changed 13:15:57.385621\n",
      "detect\n",
      "nothing changed 13:20:28.203880\n",
      "nothing changed 13:20:58.287239\n",
      "detect\n",
      "detect\n",
      "detect\n",
      "detect\n",
      "nothing changed 13:25:29.530888\n",
      "nothing changed 13:25:59.612268\n",
      "detect\n",
      "detect\n",
      "nothing changed 13:30:00.575945\n",
      "detect\n",
      "nothing changed 13:30:30.764918\n",
      "detect\n",
      "detect\n",
      "nothing changed 13:35:01.812449\n",
      "detect\n",
      "nothing changed 13:35:32.026547\n",
      "detect\n",
      "detect\n",
      "detect\n",
      "detect\n",
      "nothing changed 13:40:03.464730\n",
      "nothing changed 13:40:33.545090\n",
      "detect\n",
      "nothing changed 13:45:04.355479\n",
      "nothing changed 13:45:34.416112\n",
      "detect\n",
      "detect\n",
      "detect\n",
      "nothing changed 13:50:05.578586\n",
      "detect\n",
      "nothing changed 13:50:35.763797\n",
      "detect\n",
      "nothing changed 13:55:06.587276\n",
      "nothing changed 13:55:36.667269\n",
      "detect\n",
      "nothing changed 14:00:07.565243\n",
      "nothing changed 14:00:37.662348\n",
      "detect\n",
      "detect\n",
      "nothing changed 14:05:08.625318\n",
      "detect\n",
      "nothing changed 14:05:38.827345\n",
      "detect\n"
     ]
    }
   ],
   "source": [
    "while True:\n",
    "    try:\n",
    "        today = datetime.today().strftime('%Y-%m-%d')\n",
    "        conn, cursor = setting_db()\n",
    "        sql = \"select rcp_no from Rcp where date(rcp_dt) = '\"+today+\"'\"\n",
    "        cursor.execute(sql)\n",
    "        old = cursor.fetchall()\n",
    "        conn.commit()\n",
    "        conn.close()\n",
    "\n",
    "        old_no = []\n",
    "        for i in old[0:(len(old))]:\n",
    "            rcp_no = i['rcp_no']\n",
    "            old_no.append(rcp_no)        \n",
    "\n",
    "        url_dart_list='http://dart.fss.or.kr/api/search.json?auth=92613a8cac3325e99a4b684b864aee1fd24eb775' #yejin's\n",
    "        new = requests.get(url_dart_list).json()['list']\n",
    "\n",
    "        new_no = []\n",
    "        for i in new[0:(len(new))]:\n",
    "            rcp_no = i['rcp_no']\n",
    "            new_no.append(rcp_no)        \n",
    "\n",
    "        change_no = set(new_no).difference(old_no)\n",
    "        if change_no:\n",
    "            print('detect')\n",
    "            change = []\n",
    "            for i in change_no:\n",
    "                for li in new:\n",
    "                    if li['rcp_no'] == i:\n",
    "                        now_dt = datetime.now().strftime('%Y-%m-%d %H:%M:%S')\n",
    "                        if len(li['crp_cd']) == 6: # Y, K, N\n",
    "                            now_tmp = get_now(li['crp_cd'])\n",
    "                            change.append((li['rcp_no'], li['crp_cd'], now_dt, now_tmp['now_st'], now_tmp['now_diff'], now_tmp['now_volume'], now_tmp['now_trd'], li['rpt_nm'], 'http://dart.fss.or.kr/dsaf001/main.do?rcpNo='+li['rcp_no'], li['rmk']))\n",
    "                        else:\n",
    "                            change.append((li['rcp_no'], li['crp_cd'], now_dt, -1, 0, 0, 0, li['rpt_nm'], 'http://dart.fss.or.kr/dsaf001/main.do?rcpNo='+li['rcp_no'], li['rmk']))\n",
    "\n",
    "            conn, cursor = setting_db()\n",
    "            sql = '''insert into Rcp(\n",
    "                    rcp_no, crp_cd, rcp_dt, now_st, now_diff, now_volume, now_trd, rpt_nm, rpt_link, rmk)\n",
    "                    values (%s, %s, %s, %s, %s, %s, %s, %s, %s, %s)'''\n",
    "            cursor.executemany(sql, change)\n",
    "            conn.commit()  \n",
    "            conn.close()\n",
    "\n",
    "        else:\n",
    "            now = datetime.today().time()\n",
    "            if now.minute % 5 == 0:\n",
    "                print('nothing changed', now)\n",
    "            sleep(30)\n",
    "\n",
    "    except:\n",
    "        e = sys.exc_info()\n",
    "        nowtime = datetime.now()\n",
    "        nowtime = nowtime.strftime('%Y-%m-%d %H:%M:%S')\n",
    "        log_list.append({'time' : nowtime, 'error' : e})\n",
    "        log_time = open('logfile/Rcp_log_time.txt', 'w')\n",
    "        print(log_list, file = log_time)\n",
    "        log_time.close()\n",
    "        sleep(60)\n",
    "        pass"
   ]
  },
  {
   "cell_type": "code",
   "execution_count": 43,
   "metadata": {
    "scrolled": true
   },
   "outputs": [
    {
     "name": "stdout",
     "output_type": "stream",
     "text": [
      "[('20180712000131', '01262829', '2018-07-12 12:56:52', -1, 0, 0, 0, '감사보고서 (2018.03)', 'http://dart.fss.or.kr/dsaf001/main.do?rcpNo=20180712000131', ''), ('20180712000130', '01262810', '2018-07-12 12:56:52', -1, 0, 0, 0, '감사보고서 (2018.03)', 'http://dart.fss.or.kr/dsaf001/main.do?rcpNo=20180712000130', ''), ('20180712000129', '176750', '2018-07-12 12:56:52', 9950, -50, 41, 407950, '주식등의대량보유상황보고서(약식)', 'http://dart.fss.or.kr/dsaf001/main.do?rcpNo=20180712000129', ''), ('20180712000128', '176750', '2018-07-12 12:56:52', 9950, -50, 41, 407950, '임원ㆍ주요주주특정증권등소유상황보고서', 'http://dart.fss.or.kr/dsaf001/main.do?rcpNo=20180712000128', ''), ('20180712000127', '00109019', '2018-07-12 12:56:52', -1, 0, 0, 0, '투자설명서', 'http://dart.fss.or.kr/dsaf001/main.do?rcpNo=20180712000127', ''), ('20180712000124', '016610', '2018-07-12 12:56:52', 3920, -10, 10800, 42137815, '투자설명서(일괄신고)', 'http://dart.fss.or.kr/dsaf001/main.do?rcpNo=20180712000124', ''), ('20180712000120', '00160144', '2018-07-12 12:56:52', -1, 0, 0, 0, '일괄신고추가서류(기타파생결합증권)', 'http://dart.fss.or.kr/dsaf001/main.do?rcpNo=20180712000120', ''), ('20180712000119', '01083569', '2018-07-12 12:56:52', -1, 0, 0, 0, '감사보고서 (2018.03)', 'http://dart.fss.or.kr/dsaf001/main.do?rcpNo=20180712000119', ''), ('20180712000117', '00593476', '2018-07-12 12:56:52', -1, 0, 0, 0, '계열금융회사의약관에의한금융거래-[예ㆍ적금]', 'http://dart.fss.or.kr/dsaf001/main.do?rcpNo=20180712000117', '공'), ('20180712000121', '016610', '2018-07-12 12:56:52', 3920, -10, 10800, 42137815, '일괄신고추가서류(파생결합증권-주가연계증권)', 'http://dart.fss.or.kr/dsaf001/main.do?rcpNo=20180712000121', '')]\n"
     ]
    }
   ],
   "source": [
    "change = []\n",
    "for i in new_no:\n",
    "    for li in new:\n",
    "        if li['rcp_no'] == i:\n",
    "            now_dt = datetime.now().strftime('%Y-%m-%d %H:%M:%S')\n",
    "            if len(li['crp_cd']) == 6: # Y, K, N\n",
    "                now_tmp = get_now(li['crp_cd'])\n",
    "                change.append((li['rcp_no'], li['crp_cd'], now_dt, now_tmp['now_st'], now_tmp['now_diff'], now_tmp['now_volume'], now_tmp['now_trd'], li['rpt_nm'], 'http://dart.fss.or.kr/dsaf001/main.do?rcpNo='+li['rcp_no'], li['rmk']))\n",
    "            else:\n",
    "                change.append((li['rcp_no'], li['crp_cd'], now_dt, -1, 0, 0, 0, li['rpt_nm'], 'http://dart.fss.or.kr/dsaf001/main.do?rcpNo='+li['rcp_no'], li['rmk']))\n",
    "\n",
    "print(change)"
   ]
  },
  {
   "cell_type": "code",
   "execution_count": 44,
   "metadata": {},
   "outputs": [
    {
     "name": "stdout",
     "output_type": "stream",
     "text": [
      "here\n"
     ]
    }
   ],
   "source": [
    "conn, cursor = setting_db()\n",
    "sql = '''insert into Rcp(\n",
    "        rcp_no, crp_cd, rcp_dt, now_st, now_diff, now_volume, now_trd, rpt_nm, rpt_link, rmk)\n",
    "        values (%s, %s, %s, %s, %s, %s, %s, %s, %s, %s)'''\n",
    "cursor.executemany(sql, change)\n",
    "print('here')\n",
    "#conn.commit()"
   ]
  },
  {
   "cell_type": "code",
   "execution_count": 45,
   "metadata": {},
   "outputs": [],
   "source": [
    "conn.commit()"
   ]
  },
  {
   "cell_type": "code",
   "execution_count": null,
   "metadata": {},
   "outputs": [],
   "source": [
    "today = datetime.today().strftime('%Y-%m-%d')\n",
    "conn, cursor = setting_db()\n",
    "sql = \"select rcp_no from Rcp where date(rcp_dt) = '\"+today+\"'\"\n",
    "cursor.execute(sql)\n",
    "old = cursor.fetchall()\n",
    "conn.commit()\n",
    "conn.close()\n",
    "\n",
    "old_no = []\n",
    "for i in old[0:(len(old))]:\n",
    "    rcp_no = i['rcp_no']\n",
    "    old_no.append(rcp_no)        \n",
    "\n",
    "url_dart_list='http://dart.fss.or.kr/api/search.json?auth=92613a8cac3325e99a4b684b864aee1fd24eb775' #yejin's\n",
    "new = requests.get(url_dart_list).json()['list']\n",
    "\n",
    "new_no = []\n",
    "for i in new[0:(len(new))]:\n",
    "    rcp_no = i['rcp_no']\n",
    "    new_no.append(rcp_no)        \n",
    "\n",
    "change_no = set(new_no).difference(old_no)\n",
    "if change_no:\n",
    "    print('detect')\n",
    "    change = []\n",
    "    for i in change_no:\n",
    "        for li in new:\n",
    "            if li['rcp_no'] == i:\n",
    "                now_dt = datetime.today()\n",
    "                if len(li['crp_cd']) == 6: # Y, K, N\n",
    "                    print('등록')\n",
    "                    now_tmp = get_now(li['crp_cd'])\n",
    "                    change.extend([[li['rcp_no'], li['crp_cd'], now_dt, now_tmp['now_st'], now_tmp['now_diff'], now_tmp['now_volume'], now_tmp['now_trd'], '', li['rpt_nm'], 'http://dart.fss.or.kr/dsaf001/main.do?rcpNo='+li['rcp_no'], li['rmk']]])\n",
    "                else:\n",
    "                    print('미등록')\n",
    "                    change.extend([[li['rcp_no'], li['crp_cd'], now_dt, -1, 0, 0, 0, li['rpt_nm'], 'http://dart.fss.or.kr/dsaf001/main.do?rcpNo='+li['rcp_no'], li['rmk']]])\n",
    "    conn, cursor = setting_db()\n",
    "    sql = '''insert into Rcp(rcp_no, crp_cd, rcp_dt, now_st, now_diff, now_volume, now_trd, rpt_nm, rpt_link, rmk)\n",
    "            values (%s, %s, %s, %s, %s, %s, %s, %s, %s, %s)'''\n",
    "    print(change)\n",
    "    cursor.executemany(sql, change)\n",
    "    conn.commit()  \n",
    "    conn.close()\n",
    "\n",
    "else:\n",
    "    now = datetime.today().time()\n",
    "    if now.minute % 5 == 0:\n",
    "        print('nothing changed', now)\n",
    "    sleep(30)\n"
   ]
  },
  {
   "cell_type": "code",
   "execution_count": null,
   "metadata": {},
   "outputs": [],
   "source": []
  }
 ],
 "metadata": {
  "kernelspec": {
   "display_name": "Python 3",
   "language": "python",
   "name": "python3"
  }
 },
 "nbformat": 4,
 "nbformat_minor": 2
}
