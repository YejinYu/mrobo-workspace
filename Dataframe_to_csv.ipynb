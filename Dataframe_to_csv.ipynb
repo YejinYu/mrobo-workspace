{
 "cells": [
  {
   "cell_type": "code",
   "execution_count": 1,
   "metadata": {},
   "outputs": [
    {
     "name": "stderr",
     "output_type": "stream",
     "text": [
      "/usr/lib/python3.5/importlib/_bootstrap.py:222: RuntimeWarning: numpy.dtype size changed, may indicate binary incompatibility. Expected 96, got 88\n",
      "  return f(*args, **kwds)\n",
      "/usr/lib/python3.5/importlib/_bootstrap.py:222: RuntimeWarning: numpy.dtype size changed, may indicate binary incompatibility. Expected 96, got 88\n",
      "  return f(*args, **kwds)\n",
      "/usr/lib/python3.5/importlib/_bootstrap.py:222: RuntimeWarning: numpy.dtype size changed, may indicate binary incompatibility. Expected 96, got 88\n",
      "  return f(*args, **kwds)\n",
      "/usr/lib/python3.5/importlib/_bootstrap.py:222: RuntimeWarning: numpy.dtype size changed, may indicate binary incompatibility. Expected 96, got 88\n",
      "  return f(*args, **kwds)\n"
     ]
    }
   ],
   "source": [
    "import numpy as np\n",
    "import matplotlib as plt\n",
    "from sklearn import linear_model, datasets\n",
    "import pymysql\n",
    "from datetime import datetime, timedelta\n",
    "from sklearn.model_selection import train_test_split\n",
    "from sshtunnel import SSHTunnelForwarder\n",
    "import random\n",
    "import functools\n",
    "import pandas as pd"
   ]
  },
  {
   "cell_type": "code",
   "execution_count": 2,
   "metadata": {},
   "outputs": [],
   "source": [
    "with SSHTunnelForwarder(\n",
    "         ('1.212.234.245', 486),\n",
    "         ssh_password=\"vips\",\n",
    "         ssh_username=\"vips\",\n",
    "         remote_bind_address=('127.0.0.1', 3306)) as server:\n",
    "\n",
    "    conn = pymysql.connect(host='localhost',\n",
    "                           port=server.local_bind_port,\n",
    "                           user='root',\n",
    "                           passwd='qlqtmajrwk',\n",
    "                           db='dg',\n",
    "                           charset='utf8')\n",
    "\n",
    "    curs = conn.cursor(pymysql.cursors.DictCursor)\n",
    "    \n",
    "    sql = \"select * from dg.searchDB where (crp_cls = 'K' or crp_cls = 'Y')\"\n",
    "    curs.execute(sql)\n",
    "    rcp_table = curs.fetchall()\n",
    "\n",
    "server.stop()"
   ]
  },
  {
   "cell_type": "code",
   "execution_count": 4,
   "metadata": {},
   "outputs": [
    {
     "data": {
      "text/plain": [
       "1297986"
      ]
     },
     "execution_count": 4,
     "metadata": {},
     "output_type": "execute_result"
    }
   ],
   "source": [
    "len(rcp_table) #2018-08-02 오전 update 기준"
   ]
  },
  {
   "cell_type": "markdown",
   "metadata": {},
   "source": [
    "# Rcp Table"
   ]
  },
  {
   "cell_type": "code",
   "execution_count": 5,
   "metadata": {},
   "outputs": [],
   "source": [
    "rcp_pd = pd.DataFrame.from_dict(rcp_table)"
   ]
  },
  {
   "cell_type": "code",
   "execution_count": 6,
   "metadata": {
    "scrolled": false
   },
   "outputs": [
    {
     "data": {
      "text/html": [
       "<div>\n",
       "<style scoped>\n",
       "    .dataframe tbody tr th:only-of-type {\n",
       "        vertical-align: middle;\n",
       "    }\n",
       "\n",
       "    .dataframe tbody tr th {\n",
       "        vertical-align: top;\n",
       "    }\n",
       "\n",
       "    .dataframe thead th {\n",
       "        text-align: right;\n",
       "    }\n",
       "</style>\n",
       "<table border=\"1\" class=\"dataframe\">\n",
       "  <thead>\n",
       "    <tr style=\"text-align: right;\">\n",
       "      <th></th>\n",
       "      <th>crp_cd</th>\n",
       "      <th>crp_cls</th>\n",
       "      <th>crp_nm</th>\n",
       "      <th>flr_nm</th>\n",
       "      <th>rcp_dt</th>\n",
       "      <th>rcp_no</th>\n",
       "      <th>rcp_rt</th>\n",
       "      <th>rmk</th>\n",
       "      <th>rpt_cat</th>\n",
       "      <th>rpt_nm</th>\n",
       "    </tr>\n",
       "  </thead>\n",
       "  <tbody>\n",
       "    <tr>\n",
       "      <th>0</th>\n",
       "      <td>023150</td>\n",
       "      <td>Y</td>\n",
       "      <td>MH에탄올</td>\n",
       "      <td>MH에탄올</td>\n",
       "      <td>1999-03-25</td>\n",
       "      <td>19990325000001</td>\n",
       "      <td>None</td>\n",
       "      <td>정</td>\n",
       "      <td>E_1</td>\n",
       "      <td>사업보고서 (1998.12)</td>\n",
       "    </tr>\n",
       "    <tr>\n",
       "      <th>1</th>\n",
       "      <td>001140</td>\n",
       "      <td>Y</td>\n",
       "      <td>국보</td>\n",
       "      <td>국보</td>\n",
       "      <td>1999-03-25</td>\n",
       "      <td>19990325000003</td>\n",
       "      <td>None</td>\n",
       "      <td>정</td>\n",
       "      <td>E_1</td>\n",
       "      <td>사업보고서 (1998.12)</td>\n",
       "    </tr>\n",
       "    <tr>\n",
       "      <th>2</th>\n",
       "      <td>014160</td>\n",
       "      <td>Y</td>\n",
       "      <td>대영포장</td>\n",
       "      <td>대영포장</td>\n",
       "      <td>1999-03-25</td>\n",
       "      <td>19990325000008</td>\n",
       "      <td>None</td>\n",
       "      <td>정연</td>\n",
       "      <td>E_1</td>\n",
       "      <td>사업보고서 (1998.12)</td>\n",
       "    </tr>\n",
       "    <tr>\n",
       "      <th>3</th>\n",
       "      <td>002310</td>\n",
       "      <td>Y</td>\n",
       "      <td>아세아제지</td>\n",
       "      <td>아세아제지</td>\n",
       "      <td>1999-03-25</td>\n",
       "      <td>19990325000015</td>\n",
       "      <td>None</td>\n",
       "      <td>정</td>\n",
       "      <td>E_1</td>\n",
       "      <td>사업보고서 (1998.12)</td>\n",
       "    </tr>\n",
       "    <tr>\n",
       "      <th>4</th>\n",
       "      <td>015360</td>\n",
       "      <td>Y</td>\n",
       "      <td>예스코</td>\n",
       "      <td>예스코</td>\n",
       "      <td>1999-03-25</td>\n",
       "      <td>19990325000016</td>\n",
       "      <td>None</td>\n",
       "      <td>정</td>\n",
       "      <td>E_1</td>\n",
       "      <td>사업보고서 (1998.12)</td>\n",
       "    </tr>\n",
       "  </tbody>\n",
       "</table>\n",
       "</div>"
      ],
      "text/plain": [
       "   crp_cd crp_cls crp_nm flr_nm      rcp_dt          rcp_no rcp_rt rmk  \\\n",
       "0  023150       Y  MH에탄올  MH에탄올  1999-03-25  19990325000001   None   정   \n",
       "1  001140       Y     국보     국보  1999-03-25  19990325000003   None   정   \n",
       "2  014160       Y   대영포장   대영포장  1999-03-25  19990325000008   None  정연   \n",
       "3  002310       Y  아세아제지  아세아제지  1999-03-25  19990325000015   None   정   \n",
       "4  015360       Y    예스코    예스코  1999-03-25  19990325000016   None   정   \n",
       "\n",
       "  rpt_cat           rpt_nm  \n",
       "0     E_1  사업보고서 (1998.12)  \n",
       "1     E_1  사업보고서 (1998.12)  \n",
       "2     E_1  사업보고서 (1998.12)  \n",
       "3     E_1  사업보고서 (1998.12)  \n",
       "4     E_1  사업보고서 (1998.12)  "
      ]
     },
     "execution_count": 6,
     "metadata": {},
     "output_type": "execute_result"
    }
   ],
   "source": [
    "rcp_pd.head()"
   ]
  },
  {
   "cell_type": "code",
   "execution_count": 12,
   "metadata": {},
   "outputs": [],
   "source": [
    "rcp_pd = rcp_pd.drop(columns=['rpt_cat'])"
   ]
  },
  {
   "cell_type": "code",
   "execution_count": 13,
   "metadata": {
    "scrolled": true
   },
   "outputs": [
    {
     "data": {
      "text/html": [
       "<div>\n",
       "<style scoped>\n",
       "    .dataframe tbody tr th:only-of-type {\n",
       "        vertical-align: middle;\n",
       "    }\n",
       "\n",
       "    .dataframe tbody tr th {\n",
       "        vertical-align: top;\n",
       "    }\n",
       "\n",
       "    .dataframe thead th {\n",
       "        text-align: right;\n",
       "    }\n",
       "</style>\n",
       "<table border=\"1\" class=\"dataframe\">\n",
       "  <thead>\n",
       "    <tr style=\"text-align: right;\">\n",
       "      <th></th>\n",
       "      <th>crp_cd</th>\n",
       "      <th>crp_cls</th>\n",
       "      <th>crp_nm</th>\n",
       "      <th>flr_nm</th>\n",
       "      <th>rcp_dt</th>\n",
       "      <th>rcp_no</th>\n",
       "      <th>rcp_rt</th>\n",
       "      <th>rmk</th>\n",
       "      <th>rpt_nm</th>\n",
       "    </tr>\n",
       "  </thead>\n",
       "  <tbody>\n",
       "    <tr>\n",
       "      <th>0</th>\n",
       "      <td>023150</td>\n",
       "      <td>Y</td>\n",
       "      <td>MH에탄올</td>\n",
       "      <td>MH에탄올</td>\n",
       "      <td>1999-03-25</td>\n",
       "      <td>19990325000001</td>\n",
       "      <td>None</td>\n",
       "      <td>정</td>\n",
       "      <td>사업보고서 (1998.12)</td>\n",
       "    </tr>\n",
       "    <tr>\n",
       "      <th>1</th>\n",
       "      <td>001140</td>\n",
       "      <td>Y</td>\n",
       "      <td>국보</td>\n",
       "      <td>국보</td>\n",
       "      <td>1999-03-25</td>\n",
       "      <td>19990325000003</td>\n",
       "      <td>None</td>\n",
       "      <td>정</td>\n",
       "      <td>사업보고서 (1998.12)</td>\n",
       "    </tr>\n",
       "    <tr>\n",
       "      <th>2</th>\n",
       "      <td>014160</td>\n",
       "      <td>Y</td>\n",
       "      <td>대영포장</td>\n",
       "      <td>대영포장</td>\n",
       "      <td>1999-03-25</td>\n",
       "      <td>19990325000008</td>\n",
       "      <td>None</td>\n",
       "      <td>정연</td>\n",
       "      <td>사업보고서 (1998.12)</td>\n",
       "    </tr>\n",
       "    <tr>\n",
       "      <th>3</th>\n",
       "      <td>002310</td>\n",
       "      <td>Y</td>\n",
       "      <td>아세아제지</td>\n",
       "      <td>아세아제지</td>\n",
       "      <td>1999-03-25</td>\n",
       "      <td>19990325000015</td>\n",
       "      <td>None</td>\n",
       "      <td>정</td>\n",
       "      <td>사업보고서 (1998.12)</td>\n",
       "    </tr>\n",
       "    <tr>\n",
       "      <th>4</th>\n",
       "      <td>015360</td>\n",
       "      <td>Y</td>\n",
       "      <td>예스코</td>\n",
       "      <td>예스코</td>\n",
       "      <td>1999-03-25</td>\n",
       "      <td>19990325000016</td>\n",
       "      <td>None</td>\n",
       "      <td>정</td>\n",
       "      <td>사업보고서 (1998.12)</td>\n",
       "    </tr>\n",
       "  </tbody>\n",
       "</table>\n",
       "</div>"
      ],
      "text/plain": [
       "   crp_cd crp_cls crp_nm flr_nm      rcp_dt          rcp_no rcp_rt rmk  \\\n",
       "0  023150       Y  MH에탄올  MH에탄올  1999-03-25  19990325000001   None   정   \n",
       "1  001140       Y     국보     국보  1999-03-25  19990325000003   None   정   \n",
       "2  014160       Y   대영포장   대영포장  1999-03-25  19990325000008   None  정연   \n",
       "3  002310       Y  아세아제지  아세아제지  1999-03-25  19990325000015   None   정   \n",
       "4  015360       Y    예스코    예스코  1999-03-25  19990325000016   None   정   \n",
       "\n",
       "            rpt_nm  \n",
       "0  사업보고서 (1998.12)  \n",
       "1  사업보고서 (1998.12)  \n",
       "2  사업보고서 (1998.12)  \n",
       "3  사업보고서 (1998.12)  \n",
       "4  사업보고서 (1998.12)  "
      ]
     },
     "execution_count": 13,
     "metadata": {},
     "output_type": "execute_result"
    }
   ],
   "source": [
    "rcp_pd.head()"
   ]
  },
  {
   "cell_type": "code",
   "execution_count": 14,
   "metadata": {},
   "outputs": [],
   "source": [
    "def convertToKorean(x) :\n",
    "    if x == 'Y': return '유가증권'\n",
    "    elif x == 'K' : return '코스닥'\n",
    "    else: return '코넥스'"
   ]
  },
  {
   "cell_type": "code",
   "execution_count": 15,
   "metadata": {},
   "outputs": [],
   "source": [
    "rcp_pd['crp_cls'] = rcp_pd['crp_cls'].map(convertToKorean)"
   ]
  },
  {
   "cell_type": "code",
   "execution_count": 17,
   "metadata": {},
   "outputs": [
    {
     "data": {
      "text/html": [
       "<div>\n",
       "<style scoped>\n",
       "    .dataframe tbody tr th:only-of-type {\n",
       "        vertical-align: middle;\n",
       "    }\n",
       "\n",
       "    .dataframe tbody tr th {\n",
       "        vertical-align: top;\n",
       "    }\n",
       "\n",
       "    .dataframe thead th {\n",
       "        text-align: right;\n",
       "    }\n",
       "</style>\n",
       "<table border=\"1\" class=\"dataframe\">\n",
       "  <thead>\n",
       "    <tr style=\"text-align: right;\">\n",
       "      <th></th>\n",
       "      <th>crp_cd</th>\n",
       "      <th>crp_cls</th>\n",
       "      <th>crp_nm</th>\n",
       "      <th>flr_nm</th>\n",
       "      <th>rcp_dt</th>\n",
       "      <th>rcp_no</th>\n",
       "      <th>rcp_rt</th>\n",
       "      <th>rmk</th>\n",
       "      <th>rpt_nm</th>\n",
       "    </tr>\n",
       "  </thead>\n",
       "  <tbody>\n",
       "    <tr>\n",
       "      <th>1297981</th>\n",
       "      <td>080420</td>\n",
       "      <td>코스닥</td>\n",
       "      <td>모다이노칩</td>\n",
       "      <td>모다이노칩</td>\n",
       "      <td>2018-08-02</td>\n",
       "      <td>20180802900089</td>\n",
       "      <td>10:05</td>\n",
       "      <td>코</td>\n",
       "      <td>연결재무제표기준영업(잠정)실적(공정공시)</td>\n",
       "    </tr>\n",
       "    <tr>\n",
       "      <th>1297982</th>\n",
       "      <td>072770</td>\n",
       "      <td>코스닥</td>\n",
       "      <td>네오디안테크놀로지</td>\n",
       "      <td>네오디안테크놀로지</td>\n",
       "      <td>2018-08-02</td>\n",
       "      <td>20180802900119</td>\n",
       "      <td>10:45</td>\n",
       "      <td>코</td>\n",
       "      <td>주주총회소집결의</td>\n",
       "    </tr>\n",
       "    <tr>\n",
       "      <th>1297983</th>\n",
       "      <td>080160</td>\n",
       "      <td>코스닥</td>\n",
       "      <td>모두투어</td>\n",
       "      <td>모두투어</td>\n",
       "      <td>2018-08-02</td>\n",
       "      <td>20180802900120</td>\n",
       "      <td>10:44</td>\n",
       "      <td>코</td>\n",
       "      <td>기업설명회(IR)개최</td>\n",
       "    </tr>\n",
       "    <tr>\n",
       "      <th>1297984</th>\n",
       "      <td>072770</td>\n",
       "      <td>코스닥</td>\n",
       "      <td>네오디안테크놀로지</td>\n",
       "      <td>네오디안테크놀로지</td>\n",
       "      <td>2018-08-02</td>\n",
       "      <td>20180802900122</td>\n",
       "      <td>10:48</td>\n",
       "      <td>코</td>\n",
       "      <td>주식명의개서정지(주주명부폐쇄)</td>\n",
       "    </tr>\n",
       "    <tr>\n",
       "      <th>1297985</th>\n",
       "      <td>043590</td>\n",
       "      <td>코스닥</td>\n",
       "      <td>크로바하이텍</td>\n",
       "      <td>크로바하이텍</td>\n",
       "      <td>2018-08-02</td>\n",
       "      <td>20180802900130</td>\n",
       "      <td>11:29</td>\n",
       "      <td>코</td>\n",
       "      <td>유상증자1차발행가액결정</td>\n",
       "    </tr>\n",
       "  </tbody>\n",
       "</table>\n",
       "</div>"
      ],
      "text/plain": [
       "         crp_cd crp_cls     crp_nm     flr_nm      rcp_dt          rcp_no  \\\n",
       "1297981  080420     코스닥      모다이노칩      모다이노칩  2018-08-02  20180802900089   \n",
       "1297982  072770     코스닥  네오디안테크놀로지  네오디안테크놀로지  2018-08-02  20180802900119   \n",
       "1297983  080160     코스닥       모두투어       모두투어  2018-08-02  20180802900120   \n",
       "1297984  072770     코스닥  네오디안테크놀로지  네오디안테크놀로지  2018-08-02  20180802900122   \n",
       "1297985  043590     코스닥     크로바하이텍     크로바하이텍  2018-08-02  20180802900130   \n",
       "\n",
       "        rcp_rt rmk                  rpt_nm  \n",
       "1297981  10:05   코  연결재무제표기준영업(잠정)실적(공정공시)  \n",
       "1297982  10:45   코                주주총회소집결의  \n",
       "1297983  10:44   코             기업설명회(IR)개최  \n",
       "1297984  10:48   코        주식명의개서정지(주주명부폐쇄)  \n",
       "1297985  11:29   코            유상증자1차발행가액결정  "
      ]
     },
     "execution_count": 17,
     "metadata": {},
     "output_type": "execute_result"
    }
   ],
   "source": [
    "rcp_pd.tail()"
   ]
  },
  {
   "cell_type": "code",
   "execution_count": 18,
   "metadata": {},
   "outputs": [],
   "source": [
    "rcp_pd = rcp_pd.rename(columns = {'crp_cd' : '종목코드(고유번호)', 'crp_cls':'법인구분', 'crp_nm' : '종목명(법인명)', 'flr_nm' : '공시 제출인명', 'rcp_dt' : '공시 접수일자', 'rcp_no' : '공시 접수번호', 'rcp_rt' : '공시 접수시간', 'rmk' : '비고', 'rpt_nm' : '공시명'})"
   ]
  },
  {
   "cell_type": "code",
   "execution_count": 19,
   "metadata": {
    "scrolled": true
   },
   "outputs": [
    {
     "data": {
      "text/html": [
       "<div>\n",
       "<style scoped>\n",
       "    .dataframe tbody tr th:only-of-type {\n",
       "        vertical-align: middle;\n",
       "    }\n",
       "\n",
       "    .dataframe tbody tr th {\n",
       "        vertical-align: top;\n",
       "    }\n",
       "\n",
       "    .dataframe thead th {\n",
       "        text-align: right;\n",
       "    }\n",
       "</style>\n",
       "<table border=\"1\" class=\"dataframe\">\n",
       "  <thead>\n",
       "    <tr style=\"text-align: right;\">\n",
       "      <th></th>\n",
       "      <th>종목코드(고유번호)</th>\n",
       "      <th>법인구분</th>\n",
       "      <th>종목명(법인명)</th>\n",
       "      <th>공시 제출인명</th>\n",
       "      <th>공시 접수일자</th>\n",
       "      <th>공시 접수번호</th>\n",
       "      <th>공시 접수시간</th>\n",
       "      <th>비고</th>\n",
       "      <th>공시명</th>\n",
       "    </tr>\n",
       "  </thead>\n",
       "  <tbody>\n",
       "    <tr>\n",
       "      <th>0</th>\n",
       "      <td>023150</td>\n",
       "      <td>유가증권</td>\n",
       "      <td>MH에탄올</td>\n",
       "      <td>MH에탄올</td>\n",
       "      <td>1999-03-25</td>\n",
       "      <td>19990325000001</td>\n",
       "      <td>None</td>\n",
       "      <td>정</td>\n",
       "      <td>사업보고서 (1998.12)</td>\n",
       "    </tr>\n",
       "    <tr>\n",
       "      <th>1</th>\n",
       "      <td>001140</td>\n",
       "      <td>유가증권</td>\n",
       "      <td>국보</td>\n",
       "      <td>국보</td>\n",
       "      <td>1999-03-25</td>\n",
       "      <td>19990325000003</td>\n",
       "      <td>None</td>\n",
       "      <td>정</td>\n",
       "      <td>사업보고서 (1998.12)</td>\n",
       "    </tr>\n",
       "    <tr>\n",
       "      <th>2</th>\n",
       "      <td>014160</td>\n",
       "      <td>유가증권</td>\n",
       "      <td>대영포장</td>\n",
       "      <td>대영포장</td>\n",
       "      <td>1999-03-25</td>\n",
       "      <td>19990325000008</td>\n",
       "      <td>None</td>\n",
       "      <td>정연</td>\n",
       "      <td>사업보고서 (1998.12)</td>\n",
       "    </tr>\n",
       "    <tr>\n",
       "      <th>3</th>\n",
       "      <td>002310</td>\n",
       "      <td>유가증권</td>\n",
       "      <td>아세아제지</td>\n",
       "      <td>아세아제지</td>\n",
       "      <td>1999-03-25</td>\n",
       "      <td>19990325000015</td>\n",
       "      <td>None</td>\n",
       "      <td>정</td>\n",
       "      <td>사업보고서 (1998.12)</td>\n",
       "    </tr>\n",
       "    <tr>\n",
       "      <th>4</th>\n",
       "      <td>015360</td>\n",
       "      <td>유가증권</td>\n",
       "      <td>예스코</td>\n",
       "      <td>예스코</td>\n",
       "      <td>1999-03-25</td>\n",
       "      <td>19990325000016</td>\n",
       "      <td>None</td>\n",
       "      <td>정</td>\n",
       "      <td>사업보고서 (1998.12)</td>\n",
       "    </tr>\n",
       "  </tbody>\n",
       "</table>\n",
       "</div>"
      ],
      "text/plain": [
       "  종목코드(고유번호)  법인구분 종목명(법인명) 공시 제출인명     공시 접수일자         공시 접수번호 공시 접수시간  비고  \\\n",
       "0     023150  유가증권    MH에탄올   MH에탄올  1999-03-25  19990325000001    None   정   \n",
       "1     001140  유가증권       국보      국보  1999-03-25  19990325000003    None   정   \n",
       "2     014160  유가증권     대영포장    대영포장  1999-03-25  19990325000008    None  정연   \n",
       "3     002310  유가증권    아세아제지   아세아제지  1999-03-25  19990325000015    None   정   \n",
       "4     015360  유가증권      예스코     예스코  1999-03-25  19990325000016    None   정   \n",
       "\n",
       "               공시명  \n",
       "0  사업보고서 (1998.12)  \n",
       "1  사업보고서 (1998.12)  \n",
       "2  사업보고서 (1998.12)  \n",
       "3  사업보고서 (1998.12)  \n",
       "4  사업보고서 (1998.12)  "
      ]
     },
     "execution_count": 19,
     "metadata": {},
     "output_type": "execute_result"
    }
   ],
   "source": [
    "rcp_pd.head()"
   ]
  },
  {
   "cell_type": "code",
   "execution_count": 20,
   "metadata": {},
   "outputs": [
    {
     "data": {
      "text/plain": [
       "Index(['종목코드(고유번호)', '법인구분', '종목명(법인명)', '공시 제출인명', '공시 접수일자', '공시 접수번호',\n",
       "       '공시 접수시간', '비고', '공시명'],\n",
       "      dtype='object')"
      ]
     },
     "execution_count": 20,
     "metadata": {},
     "output_type": "execute_result"
    }
   ],
   "source": [
    "rcp_pd.columns"
   ]
  },
  {
   "cell_type": "code",
   "execution_count": 21,
   "metadata": {},
   "outputs": [],
   "source": [
    "cols = ['종목코드(고유번호)', '법인구분', '종목명(법인명)', '공시 접수번호', '공시명','공시 제출인명','공시 접수일자', \n",
    "       '공시 접수시간', '비고']\n",
    "rcp_pd = rcp_pd[cols]"
   ]
  },
  {
   "cell_type": "code",
   "execution_count": 23,
   "metadata": {},
   "outputs": [
    {
     "data": {
      "text/html": [
       "<div>\n",
       "<style scoped>\n",
       "    .dataframe tbody tr th:only-of-type {\n",
       "        vertical-align: middle;\n",
       "    }\n",
       "\n",
       "    .dataframe tbody tr th {\n",
       "        vertical-align: top;\n",
       "    }\n",
       "\n",
       "    .dataframe thead th {\n",
       "        text-align: right;\n",
       "    }\n",
       "</style>\n",
       "<table border=\"1\" class=\"dataframe\">\n",
       "  <thead>\n",
       "    <tr style=\"text-align: right;\">\n",
       "      <th></th>\n",
       "      <th>종목코드(고유번호)</th>\n",
       "      <th>법인구분</th>\n",
       "      <th>종목명(법인명)</th>\n",
       "      <th>공시 접수번호</th>\n",
       "      <th>공시명</th>\n",
       "      <th>공시 제출인명</th>\n",
       "      <th>공시 접수일자</th>\n",
       "      <th>공시 접수시간</th>\n",
       "      <th>비고</th>\n",
       "    </tr>\n",
       "  </thead>\n",
       "  <tbody>\n",
       "    <tr>\n",
       "      <th>1297981</th>\n",
       "      <td>080420</td>\n",
       "      <td>코스닥</td>\n",
       "      <td>모다이노칩</td>\n",
       "      <td>20180802900089</td>\n",
       "      <td>연결재무제표기준영업(잠정)실적(공정공시)</td>\n",
       "      <td>모다이노칩</td>\n",
       "      <td>2018-08-02</td>\n",
       "      <td>10:05</td>\n",
       "      <td>코</td>\n",
       "    </tr>\n",
       "    <tr>\n",
       "      <th>1297982</th>\n",
       "      <td>072770</td>\n",
       "      <td>코스닥</td>\n",
       "      <td>네오디안테크놀로지</td>\n",
       "      <td>20180802900119</td>\n",
       "      <td>주주총회소집결의</td>\n",
       "      <td>네오디안테크놀로지</td>\n",
       "      <td>2018-08-02</td>\n",
       "      <td>10:45</td>\n",
       "      <td>코</td>\n",
       "    </tr>\n",
       "    <tr>\n",
       "      <th>1297983</th>\n",
       "      <td>080160</td>\n",
       "      <td>코스닥</td>\n",
       "      <td>모두투어</td>\n",
       "      <td>20180802900120</td>\n",
       "      <td>기업설명회(IR)개최</td>\n",
       "      <td>모두투어</td>\n",
       "      <td>2018-08-02</td>\n",
       "      <td>10:44</td>\n",
       "      <td>코</td>\n",
       "    </tr>\n",
       "    <tr>\n",
       "      <th>1297984</th>\n",
       "      <td>072770</td>\n",
       "      <td>코스닥</td>\n",
       "      <td>네오디안테크놀로지</td>\n",
       "      <td>20180802900122</td>\n",
       "      <td>주식명의개서정지(주주명부폐쇄)</td>\n",
       "      <td>네오디안테크놀로지</td>\n",
       "      <td>2018-08-02</td>\n",
       "      <td>10:48</td>\n",
       "      <td>코</td>\n",
       "    </tr>\n",
       "    <tr>\n",
       "      <th>1297985</th>\n",
       "      <td>043590</td>\n",
       "      <td>코스닥</td>\n",
       "      <td>크로바하이텍</td>\n",
       "      <td>20180802900130</td>\n",
       "      <td>유상증자1차발행가액결정</td>\n",
       "      <td>크로바하이텍</td>\n",
       "      <td>2018-08-02</td>\n",
       "      <td>11:29</td>\n",
       "      <td>코</td>\n",
       "    </tr>\n",
       "  </tbody>\n",
       "</table>\n",
       "</div>"
      ],
      "text/plain": [
       "        종목코드(고유번호) 법인구분   종목명(법인명)         공시 접수번호                     공시명  \\\n",
       "1297981     080420  코스닥      모다이노칩  20180802900089  연결재무제표기준영업(잠정)실적(공정공시)   \n",
       "1297982     072770  코스닥  네오디안테크놀로지  20180802900119                주주총회소집결의   \n",
       "1297983     080160  코스닥       모두투어  20180802900120             기업설명회(IR)개최   \n",
       "1297984     072770  코스닥  네오디안테크놀로지  20180802900122        주식명의개서정지(주주명부폐쇄)   \n",
       "1297985     043590  코스닥     크로바하이텍  20180802900130            유상증자1차발행가액결정   \n",
       "\n",
       "           공시 제출인명     공시 접수일자 공시 접수시간 비고  \n",
       "1297981      모다이노칩  2018-08-02   10:05  코  \n",
       "1297982  네오디안테크놀로지  2018-08-02   10:45  코  \n",
       "1297983       모두투어  2018-08-02   10:44  코  \n",
       "1297984  네오디안테크놀로지  2018-08-02   10:48  코  \n",
       "1297985     크로바하이텍  2018-08-02   11:29  코  "
      ]
     },
     "execution_count": 23,
     "metadata": {},
     "output_type": "execute_result"
    }
   ],
   "source": [
    "rcp_pd.tail()"
   ]
  },
  {
   "cell_type": "code",
   "execution_count": 27,
   "metadata": {},
   "outputs": [
    {
     "data": {
      "text/html": [
       "<div>\n",
       "<style scoped>\n",
       "    .dataframe tbody tr th:only-of-type {\n",
       "        vertical-align: middle;\n",
       "    }\n",
       "\n",
       "    .dataframe tbody tr th {\n",
       "        vertical-align: top;\n",
       "    }\n",
       "\n",
       "    .dataframe thead th {\n",
       "        text-align: right;\n",
       "    }\n",
       "</style>\n",
       "<table border=\"1\" class=\"dataframe\">\n",
       "  <thead>\n",
       "    <tr style=\"text-align: right;\">\n",
       "      <th></th>\n",
       "      <th>종목코드(고유번호)</th>\n",
       "      <th>법인구분</th>\n",
       "      <th>종목명(법인명)</th>\n",
       "      <th>공시 접수번호</th>\n",
       "      <th>공시명</th>\n",
       "      <th>공시 제출인명</th>\n",
       "      <th>공시 접수일자</th>\n",
       "      <th>공시 접수시간</th>\n",
       "      <th>비고</th>\n",
       "    </tr>\n",
       "  </thead>\n",
       "  <tbody>\n",
       "    <tr>\n",
       "      <th>1297981</th>\n",
       "      <td>080420</td>\n",
       "      <td>코스닥</td>\n",
       "      <td>모다이노칩</td>\n",
       "      <td>20180802900089</td>\n",
       "      <td>연결재무제표기준영업(잠정)실적(공정공시)</td>\n",
       "      <td>모다이노칩</td>\n",
       "      <td>2018-08-02</td>\n",
       "      <td>10:05</td>\n",
       "      <td>코</td>\n",
       "    </tr>\n",
       "    <tr>\n",
       "      <th>1297982</th>\n",
       "      <td>072770</td>\n",
       "      <td>코스닥</td>\n",
       "      <td>네오디안테크놀로지</td>\n",
       "      <td>20180802900119</td>\n",
       "      <td>주주총회소집결의</td>\n",
       "      <td>네오디안테크놀로지</td>\n",
       "      <td>2018-08-02</td>\n",
       "      <td>10:45</td>\n",
       "      <td>코</td>\n",
       "    </tr>\n",
       "    <tr>\n",
       "      <th>1297983</th>\n",
       "      <td>080160</td>\n",
       "      <td>코스닥</td>\n",
       "      <td>모두투어</td>\n",
       "      <td>20180802900120</td>\n",
       "      <td>기업설명회(IR)개최</td>\n",
       "      <td>모두투어</td>\n",
       "      <td>2018-08-02</td>\n",
       "      <td>10:44</td>\n",
       "      <td>코</td>\n",
       "    </tr>\n",
       "    <tr>\n",
       "      <th>1297984</th>\n",
       "      <td>072770</td>\n",
       "      <td>코스닥</td>\n",
       "      <td>네오디안테크놀로지</td>\n",
       "      <td>20180802900122</td>\n",
       "      <td>주식명의개서정지(주주명부폐쇄)</td>\n",
       "      <td>네오디안테크놀로지</td>\n",
       "      <td>2018-08-02</td>\n",
       "      <td>10:48</td>\n",
       "      <td>코</td>\n",
       "    </tr>\n",
       "    <tr>\n",
       "      <th>1297985</th>\n",
       "      <td>043590</td>\n",
       "      <td>코스닥</td>\n",
       "      <td>크로바하이텍</td>\n",
       "      <td>20180802900130</td>\n",
       "      <td>유상증자1차발행가액결정</td>\n",
       "      <td>크로바하이텍</td>\n",
       "      <td>2018-08-02</td>\n",
       "      <td>11:29</td>\n",
       "      <td>코</td>\n",
       "    </tr>\n",
       "  </tbody>\n",
       "</table>\n",
       "</div>"
      ],
      "text/plain": [
       "        종목코드(고유번호) 법인구분   종목명(법인명)         공시 접수번호                     공시명  \\\n",
       "1297981     080420  코스닥      모다이노칩  20180802900089  연결재무제표기준영업(잠정)실적(공정공시)   \n",
       "1297982     072770  코스닥  네오디안테크놀로지  20180802900119                주주총회소집결의   \n",
       "1297983     080160  코스닥       모두투어  20180802900120             기업설명회(IR)개최   \n",
       "1297984     072770  코스닥  네오디안테크놀로지  20180802900122        주식명의개서정지(주주명부폐쇄)   \n",
       "1297985     043590  코스닥     크로바하이텍  20180802900130            유상증자1차발행가액결정   \n",
       "\n",
       "           공시 제출인명     공시 접수일자 공시 접수시간 비고  \n",
       "1297981      모다이노칩  2018-08-02   10:05  코  \n",
       "1297982  네오디안테크놀로지  2018-08-02   10:45  코  \n",
       "1297983       모두투어  2018-08-02   10:44  코  \n",
       "1297984  네오디안테크놀로지  2018-08-02   10:48  코  \n",
       "1297985     크로바하이텍  2018-08-02   11:29  코  "
      ]
     },
     "execution_count": 27,
     "metadata": {},
     "output_type": "execute_result"
    }
   ],
   "source": [
    "sample.tail()"
   ]
  },
  {
   "cell_type": "code",
   "execution_count": 24,
   "metadata": {},
   "outputs": [],
   "source": [
    "sample = rcp_pd.tail(100)"
   ]
  },
  {
   "cell_type": "code",
   "execution_count": 25,
   "metadata": {},
   "outputs": [],
   "source": [
    "sample.to_csv('공시_DB_샘플100.txt')"
   ]
  },
  {
   "cell_type": "code",
   "execution_count": 28,
   "metadata": {},
   "outputs": [
    {
     "data": {
      "text/plain": [
       "1297986"
      ]
     },
     "execution_count": 28,
     "metadata": {},
     "output_type": "execute_result"
    }
   ],
   "source": [
    "len(rcp_pd)"
   ]
  },
  {
   "cell_type": "code",
   "execution_count": 26,
   "metadata": {},
   "outputs": [],
   "source": [
    "rcp_pd.to_csv(\"공시.txt\")"
   ]
  },
  {
   "cell_type": "markdown",
   "metadata": {},
   "source": [
    "# Close Table"
   ]
  },
  {
   "cell_type": "code",
   "execution_count": 29,
   "metadata": {},
   "outputs": [],
   "source": [
    "with SSHTunnelForwarder(\n",
    "         ('1.212.234.245', 486),\n",
    "         ssh_password=\"vips\",\n",
    "         ssh_username=\"vips\",\n",
    "         remote_bind_address=('127.0.0.1', 3306)) as server:\n",
    "\n",
    "    conn = pymysql.connect(host='localhost',\n",
    "                           port=server.local_bind_port,\n",
    "                           user='root',\n",
    "                           passwd='qlqtmajrwk',\n",
    "                           db='dg',\n",
    "                           charset='utf8')\n",
    "\n",
    "    curs = conn.cursor(pymysql.cursors.DictCursor)\n",
    "    \n",
    "    sql2 = \"select * from dg.stockDB\"\n",
    "    curs.execute(sql2)\n",
    "    stock_table = curs.fetchall()\n",
    "    conn.commit()\n",
    "    conn.close()\n",
    "    \n",
    "    \n",
    "server.stop()"
   ]
  },
  {
   "cell_type": "code",
   "execution_count": 30,
   "metadata": {},
   "outputs": [],
   "source": [
    "close_pd = pd.DataFrame.from_dict(stock_table)"
   ]
  },
  {
   "cell_type": "code",
   "execution_count": 31,
   "metadata": {},
   "outputs": [
    {
     "data": {
      "text/html": [
       "<div>\n",
       "<style scoped>\n",
       "    .dataframe tbody tr th:only-of-type {\n",
       "        vertical-align: middle;\n",
       "    }\n",
       "\n",
       "    .dataframe tbody tr th {\n",
       "        vertical-align: top;\n",
       "    }\n",
       "\n",
       "    .dataframe thead th {\n",
       "        text-align: right;\n",
       "    }\n",
       "</style>\n",
       "<table border=\"1\" class=\"dataframe\">\n",
       "  <thead>\n",
       "    <tr style=\"text-align: right;\">\n",
       "      <th></th>\n",
       "      <th>close</th>\n",
       "      <th>crp_cd</th>\n",
       "      <th>date</th>\n",
       "      <th>datecd</th>\n",
       "      <th>diff</th>\n",
       "      <th>high</th>\n",
       "      <th>low</th>\n",
       "      <th>open</th>\n",
       "      <th>volume</th>\n",
       "    </tr>\n",
       "  </thead>\n",
       "  <tbody>\n",
       "    <tr>\n",
       "      <th>0</th>\n",
       "      <td>36000.0</td>\n",
       "      <td>000020</td>\n",
       "      <td>1996-06-25</td>\n",
       "      <td>19960625000020</td>\n",
       "      <td>0.0</td>\n",
       "      <td>38400.0</td>\n",
       "      <td>36000.0</td>\n",
       "      <td>37700.0</td>\n",
       "      <td>102200.0</td>\n",
       "    </tr>\n",
       "    <tr>\n",
       "      <th>1</th>\n",
       "      <td>9300.0</td>\n",
       "      <td>000040</td>\n",
       "      <td>1996-06-25</td>\n",
       "      <td>19960625000040</td>\n",
       "      <td>0.0</td>\n",
       "      <td>9390.0</td>\n",
       "      <td>9290.0</td>\n",
       "      <td>9390.0</td>\n",
       "      <td>1600.0</td>\n",
       "    </tr>\n",
       "    <tr>\n",
       "      <th>2</th>\n",
       "      <td>42000.0</td>\n",
       "      <td>000050</td>\n",
       "      <td>1996-06-25</td>\n",
       "      <td>19960625000050</td>\n",
       "      <td>0.0</td>\n",
       "      <td>42000.0</td>\n",
       "      <td>42000.0</td>\n",
       "      <td>42000.0</td>\n",
       "      <td>0.0</td>\n",
       "    </tr>\n",
       "    <tr>\n",
       "      <th>3</th>\n",
       "      <td>30500.0</td>\n",
       "      <td>000060</td>\n",
       "      <td>1996-06-25</td>\n",
       "      <td>19960625000060</td>\n",
       "      <td>0.0</td>\n",
       "      <td>31000.0</td>\n",
       "      <td>29700.0</td>\n",
       "      <td>30100.0</td>\n",
       "      <td>68220.0</td>\n",
       "    </tr>\n",
       "    <tr>\n",
       "      <th>4</th>\n",
       "      <td>24700.0</td>\n",
       "      <td>000070</td>\n",
       "      <td>1996-06-25</td>\n",
       "      <td>19960625000070</td>\n",
       "      <td>0.0</td>\n",
       "      <td>25600.0</td>\n",
       "      <td>24700.0</td>\n",
       "      <td>25500.0</td>\n",
       "      <td>16960.0</td>\n",
       "    </tr>\n",
       "  </tbody>\n",
       "</table>\n",
       "</div>"
      ],
      "text/plain": [
       "     close  crp_cd        date          datecd  diff     high      low  \\\n",
       "0  36000.0  000020  1996-06-25  19960625000020   0.0  38400.0  36000.0   \n",
       "1   9300.0  000040  1996-06-25  19960625000040   0.0   9390.0   9290.0   \n",
       "2  42000.0  000050  1996-06-25  19960625000050   0.0  42000.0  42000.0   \n",
       "3  30500.0  000060  1996-06-25  19960625000060   0.0  31000.0  29700.0   \n",
       "4  24700.0  000070  1996-06-25  19960625000070   0.0  25600.0  24700.0   \n",
       "\n",
       "      open    volume  \n",
       "0  37700.0  102200.0  \n",
       "1   9390.0    1600.0  \n",
       "2  42000.0       0.0  \n",
       "3  30100.0   68220.0  \n",
       "4  25500.0   16960.0  "
      ]
     },
     "execution_count": 31,
     "metadata": {},
     "output_type": "execute_result"
    }
   ],
   "source": [
    "close_pd.head()"
   ]
  },
  {
   "cell_type": "code",
   "execution_count": 32,
   "metadata": {},
   "outputs": [
    {
     "data": {
      "text/html": [
       "<div>\n",
       "<style scoped>\n",
       "    .dataframe tbody tr th:only-of-type {\n",
       "        vertical-align: middle;\n",
       "    }\n",
       "\n",
       "    .dataframe tbody tr th {\n",
       "        vertical-align: top;\n",
       "    }\n",
       "\n",
       "    .dataframe thead th {\n",
       "        text-align: right;\n",
       "    }\n",
       "</style>\n",
       "<table border=\"1\" class=\"dataframe\">\n",
       "  <thead>\n",
       "    <tr style=\"text-align: right;\">\n",
       "      <th></th>\n",
       "      <th>close</th>\n",
       "      <th>crp_cd</th>\n",
       "      <th>date</th>\n",
       "      <th>datecd</th>\n",
       "      <th>diff</th>\n",
       "      <th>high</th>\n",
       "      <th>low</th>\n",
       "      <th>open</th>\n",
       "      <th>volume</th>\n",
       "    </tr>\n",
       "  </thead>\n",
       "  <tbody>\n",
       "    <tr>\n",
       "      <th>6818445</th>\n",
       "      <td>7100.0</td>\n",
       "      <td>950110</td>\n",
       "      <td>2018-06-29</td>\n",
       "      <td>20180629950110</td>\n",
       "      <td>130.0</td>\n",
       "      <td>7100.0</td>\n",
       "      <td>6850.0</td>\n",
       "      <td>7020.0</td>\n",
       "      <td>13505.0</td>\n",
       "    </tr>\n",
       "    <tr>\n",
       "      <th>6818446</th>\n",
       "      <td>4645.0</td>\n",
       "      <td>950130</td>\n",
       "      <td>2018-06-29</td>\n",
       "      <td>20180629950130</td>\n",
       "      <td>5.0</td>\n",
       "      <td>4700.0</td>\n",
       "      <td>4590.0</td>\n",
       "      <td>4645.0</td>\n",
       "      <td>70458.0</td>\n",
       "    </tr>\n",
       "    <tr>\n",
       "      <th>6818447</th>\n",
       "      <td>5250.0</td>\n",
       "      <td>950140</td>\n",
       "      <td>2018-06-29</td>\n",
       "      <td>20180629950140</td>\n",
       "      <td>0.0</td>\n",
       "      <td>5350.0</td>\n",
       "      <td>5010.0</td>\n",
       "      <td>5240.0</td>\n",
       "      <td>183640.0</td>\n",
       "    </tr>\n",
       "    <tr>\n",
       "      <th>6818448</th>\n",
       "      <td>38400.0</td>\n",
       "      <td>950160</td>\n",
       "      <td>2018-06-29</td>\n",
       "      <td>20180629950160</td>\n",
       "      <td>1050.0</td>\n",
       "      <td>39300.0</td>\n",
       "      <td>36650.0</td>\n",
       "      <td>37600.0</td>\n",
       "      <td>199840.0</td>\n",
       "    </tr>\n",
       "    <tr>\n",
       "      <th>6818449</th>\n",
       "      <td>11700.0</td>\n",
       "      <td>950170</td>\n",
       "      <td>2018-06-29</td>\n",
       "      <td>20180629950170</td>\n",
       "      <td>100.0</td>\n",
       "      <td>12150.0</td>\n",
       "      <td>11300.0</td>\n",
       "      <td>11850.0</td>\n",
       "      <td>266087.0</td>\n",
       "    </tr>\n",
       "  </tbody>\n",
       "</table>\n",
       "</div>"
      ],
      "text/plain": [
       "           close  crp_cd        date          datecd    diff     high  \\\n",
       "6818445   7100.0  950110  2018-06-29  20180629950110   130.0   7100.0   \n",
       "6818446   4645.0  950130  2018-06-29  20180629950130     5.0   4700.0   \n",
       "6818447   5250.0  950140  2018-06-29  20180629950140     0.0   5350.0   \n",
       "6818448  38400.0  950160  2018-06-29  20180629950160  1050.0  39300.0   \n",
       "6818449  11700.0  950170  2018-06-29  20180629950170   100.0  12150.0   \n",
       "\n",
       "             low     open    volume  \n",
       "6818445   6850.0   7020.0   13505.0  \n",
       "6818446   4590.0   4645.0   70458.0  \n",
       "6818447   5010.0   5240.0  183640.0  \n",
       "6818448  36650.0  37600.0  199840.0  \n",
       "6818449  11300.0  11850.0  266087.0  "
      ]
     },
     "execution_count": 32,
     "metadata": {},
     "output_type": "execute_result"
    }
   ],
   "source": [
    "close_pd.tail()"
   ]
  },
  {
   "cell_type": "markdown",
   "metadata": {},
   "source": [
    "dt = pd.DatetimeIndex(close_pd.date)\n",
    "close_pd['year'] = dt.year\n",
    "close_pd['month'] = dt.month\n",
    "close_pd['day'] = dt.day\n",
    "close_pd['datecd'] = close_pd['year'].map(str)+close_pd['month'].map(str)+close_pd['day'].map(str)+close_pd['crp_cd']"
   ]
  },
  {
   "cell_type": "markdown",
   "metadata": {},
   "source": [
    "df['game_date'] = pd.to_datetime(df['game_date'])\n",
    "df['game_year'] = df['game_date'].dt.year\n",
    "df['game_month'] = df['game_date'].dt.month\n",
    "df['game_day'] = df['game_date'].dt.dayofweek"
   ]
  },
  {
   "cell_type": "code",
   "execution_count": 37,
   "metadata": {},
   "outputs": [],
   "source": [
    "close_pd = close_pd.rename(columns = {'crp_cd' : '종목코드(고유번호)', 'date':'날짜', 'diff' : '전일비', 'high' : '고가', 'low' : '저가', 'open' : '시가', 'volume' : '거래량', 'close' : '종가'})"
   ]
  },
  {
   "cell_type": "code",
   "execution_count": 38,
   "metadata": {},
   "outputs": [],
   "source": [
    "cols = ['종목코드(고유번호)', '날짜', '고가', '저가', '시가', '종가', '전일비', '거래량']\n",
    "close_pd = close_pd[cols]"
   ]
  },
  {
   "cell_type": "code",
   "execution_count": 41,
   "metadata": {},
   "outputs": [],
   "source": [
    "samp = close_pd.tail(100)"
   ]
  },
  {
   "cell_type": "code",
   "execution_count": null,
   "metadata": {},
   "outputs": [],
   "source": [
    "samp.head()"
   ]
  },
  {
   "cell_type": "code",
   "execution_count": null,
   "metadata": {},
   "outputs": [],
   "source": [
    "samp"
   ]
  },
  {
   "cell_type": "code",
   "execution_count": 43,
   "metadata": {},
   "outputs": [],
   "source": [
    "samp.to_csv(\"주가_DB_샘플100.txt\")"
   ]
  },
  {
   "cell_type": "code",
   "execution_count": 44,
   "metadata": {},
   "outputs": [],
   "source": [
    "close_pd.to_csv(\"주가.txt\")"
   ]
  },
  {
   "cell_type": "markdown",
   "metadata": {},
   "source": [
    "# to_csv"
   ]
  },
  {
   "cell_type": "code",
   "execution_count": 205,
   "metadata": {},
   "outputs": [],
   "source": [
    "conn = pymysql.connect(host='localhost', user='root', password='qlqtmajrwk',\n",
    "                       db='yejinyDB', charset='utf8')\n",
    " \n",
    "# Connection 으로부터 Dictoionary Cursor 생성\n",
    "curs = conn.cursor(pymysql.cursors.DictCursor)"
   ]
  },
  {
   "cell_type": "code",
   "execution_count": 209,
   "metadata": {
    "collapsed": true
   },
   "outputs": [
    {
     "ename": "InterfaceError",
     "evalue": "(0, '')",
     "output_type": "error",
     "traceback": [
      "\u001b[0;31m---------------------------------------------------------------------------\u001b[0m",
      "\u001b[0;31mInterfaceError\u001b[0m                            Traceback (most recent call last)",
      "\u001b[0;32m<ipython-input-209-ca51a5a06275>\u001b[0m in \u001b[0;36m<module>\u001b[0;34m()\u001b[0m\n\u001b[1;32m      1\u001b[0m \u001b[0msql\u001b[0m \u001b[0;34m=\u001b[0m \u001b[0;34m\"SELECT * FROM yejinyDB.Rcp where now_st != -1;\"\u001b[0m\u001b[0;34m\u001b[0m\u001b[0m\n\u001b[0;32m----> 2\u001b[0;31m \u001b[0mcurs\u001b[0m\u001b[0;34m.\u001b[0m\u001b[0mexecute\u001b[0m\u001b[0;34m(\u001b[0m\u001b[0msql\u001b[0m\u001b[0;34m)\u001b[0m\u001b[0;34m\u001b[0m\u001b[0m\n\u001b[0m\u001b[1;32m      3\u001b[0m \u001b[0mzziny_rcp_table\u001b[0m \u001b[0;34m=\u001b[0m \u001b[0mcurs\u001b[0m\u001b[0;34m.\u001b[0m\u001b[0mfetchall\u001b[0m\u001b[0;34m(\u001b[0m\u001b[0;34m)\u001b[0m\u001b[0;34m\u001b[0m\u001b[0m\n\u001b[1;32m      4\u001b[0m \u001b[0;34m\u001b[0m\u001b[0m\n\u001b[1;32m      5\u001b[0m \u001b[0mconn\u001b[0m\u001b[0;34m.\u001b[0m\u001b[0mcommit\u001b[0m\u001b[0;34m(\u001b[0m\u001b[0;34m)\u001b[0m\u001b[0;34m\u001b[0m\u001b[0m\n",
      "\u001b[0;32m~/.local/lib/python3.5/site-packages/pymysql/cursors.py\u001b[0m in \u001b[0;36mexecute\u001b[0;34m(self, query, args)\u001b[0m\n\u001b[1;32m    163\u001b[0m         \u001b[0mquery\u001b[0m \u001b[0;34m=\u001b[0m \u001b[0mself\u001b[0m\u001b[0;34m.\u001b[0m\u001b[0mmogrify\u001b[0m\u001b[0;34m(\u001b[0m\u001b[0mquery\u001b[0m\u001b[0;34m,\u001b[0m \u001b[0margs\u001b[0m\u001b[0;34m)\u001b[0m\u001b[0;34m\u001b[0m\u001b[0m\n\u001b[1;32m    164\u001b[0m \u001b[0;34m\u001b[0m\u001b[0m\n\u001b[0;32m--> 165\u001b[0;31m         \u001b[0mresult\u001b[0m \u001b[0;34m=\u001b[0m \u001b[0mself\u001b[0m\u001b[0;34m.\u001b[0m\u001b[0m_query\u001b[0m\u001b[0;34m(\u001b[0m\u001b[0mquery\u001b[0m\u001b[0;34m)\u001b[0m\u001b[0;34m\u001b[0m\u001b[0m\n\u001b[0m\u001b[1;32m    166\u001b[0m         \u001b[0mself\u001b[0m\u001b[0;34m.\u001b[0m\u001b[0m_executed\u001b[0m \u001b[0;34m=\u001b[0m \u001b[0mquery\u001b[0m\u001b[0;34m\u001b[0m\u001b[0m\n\u001b[1;32m    167\u001b[0m         \u001b[0;32mreturn\u001b[0m \u001b[0mresult\u001b[0m\u001b[0;34m\u001b[0m\u001b[0m\n",
      "\u001b[0;32m~/.local/lib/python3.5/site-packages/pymysql/cursors.py\u001b[0m in \u001b[0;36m_query\u001b[0;34m(self, q)\u001b[0m\n\u001b[1;32m    319\u001b[0m         \u001b[0mconn\u001b[0m \u001b[0;34m=\u001b[0m \u001b[0mself\u001b[0m\u001b[0;34m.\u001b[0m\u001b[0m_get_db\u001b[0m\u001b[0;34m(\u001b[0m\u001b[0;34m)\u001b[0m\u001b[0;34m\u001b[0m\u001b[0m\n\u001b[1;32m    320\u001b[0m         \u001b[0mself\u001b[0m\u001b[0;34m.\u001b[0m\u001b[0m_last_executed\u001b[0m \u001b[0;34m=\u001b[0m \u001b[0mq\u001b[0m\u001b[0;34m\u001b[0m\u001b[0m\n\u001b[0;32m--> 321\u001b[0;31m         \u001b[0mconn\u001b[0m\u001b[0;34m.\u001b[0m\u001b[0mquery\u001b[0m\u001b[0;34m(\u001b[0m\u001b[0mq\u001b[0m\u001b[0;34m)\u001b[0m\u001b[0;34m\u001b[0m\u001b[0m\n\u001b[0m\u001b[1;32m    322\u001b[0m         \u001b[0mself\u001b[0m\u001b[0;34m.\u001b[0m\u001b[0m_do_get_result\u001b[0m\u001b[0;34m(\u001b[0m\u001b[0;34m)\u001b[0m\u001b[0;34m\u001b[0m\u001b[0m\n\u001b[1;32m    323\u001b[0m         \u001b[0;32mreturn\u001b[0m \u001b[0mself\u001b[0m\u001b[0;34m.\u001b[0m\u001b[0mrowcount\u001b[0m\u001b[0;34m\u001b[0m\u001b[0m\n",
      "\u001b[0;32m~/.local/lib/python3.5/site-packages/pymysql/connections.py\u001b[0m in \u001b[0;36mquery\u001b[0;34m(self, sql, unbuffered)\u001b[0m\n\u001b[1;32m    857\u001b[0m             \u001b[0;32melse\u001b[0m\u001b[0;34m:\u001b[0m\u001b[0;34m\u001b[0m\u001b[0m\n\u001b[1;32m    858\u001b[0m                 \u001b[0msql\u001b[0m \u001b[0;34m=\u001b[0m \u001b[0msql\u001b[0m\u001b[0;34m.\u001b[0m\u001b[0mencode\u001b[0m\u001b[0;34m(\u001b[0m\u001b[0mself\u001b[0m\u001b[0;34m.\u001b[0m\u001b[0mencoding\u001b[0m\u001b[0;34m,\u001b[0m \u001b[0;34m'surrogateescape'\u001b[0m\u001b[0;34m)\u001b[0m\u001b[0;34m\u001b[0m\u001b[0m\n\u001b[0;32m--> 859\u001b[0;31m         \u001b[0mself\u001b[0m\u001b[0;34m.\u001b[0m\u001b[0m_execute_command\u001b[0m\u001b[0;34m(\u001b[0m\u001b[0mCOMMAND\u001b[0m\u001b[0;34m.\u001b[0m\u001b[0mCOM_QUERY\u001b[0m\u001b[0;34m,\u001b[0m \u001b[0msql\u001b[0m\u001b[0;34m)\u001b[0m\u001b[0;34m\u001b[0m\u001b[0m\n\u001b[0m\u001b[1;32m    860\u001b[0m         \u001b[0mself\u001b[0m\u001b[0;34m.\u001b[0m\u001b[0m_affected_rows\u001b[0m \u001b[0;34m=\u001b[0m \u001b[0mself\u001b[0m\u001b[0;34m.\u001b[0m\u001b[0m_read_query_result\u001b[0m\u001b[0;34m(\u001b[0m\u001b[0munbuffered\u001b[0m\u001b[0;34m=\u001b[0m\u001b[0munbuffered\u001b[0m\u001b[0;34m)\u001b[0m\u001b[0;34m\u001b[0m\u001b[0m\n\u001b[1;32m    861\u001b[0m         \u001b[0;32mreturn\u001b[0m \u001b[0mself\u001b[0m\u001b[0;34m.\u001b[0m\u001b[0m_affected_rows\u001b[0m\u001b[0;34m\u001b[0m\u001b[0m\n",
      "\u001b[0;32m~/.local/lib/python3.5/site-packages/pymysql/connections.py\u001b[0m in \u001b[0;36m_execute_command\u001b[0;34m(self, command, sql)\u001b[0m\n\u001b[1;32m   1073\u001b[0m     \u001b[0;32mdef\u001b[0m \u001b[0m_execute_command\u001b[0m\u001b[0;34m(\u001b[0m\u001b[0mself\u001b[0m\u001b[0;34m,\u001b[0m \u001b[0mcommand\u001b[0m\u001b[0;34m,\u001b[0m \u001b[0msql\u001b[0m\u001b[0;34m)\u001b[0m\u001b[0;34m:\u001b[0m\u001b[0;34m\u001b[0m\u001b[0m\n\u001b[1;32m   1074\u001b[0m         \u001b[0;32mif\u001b[0m \u001b[0;32mnot\u001b[0m \u001b[0mself\u001b[0m\u001b[0;34m.\u001b[0m\u001b[0m_sock\u001b[0m\u001b[0;34m:\u001b[0m\u001b[0;34m\u001b[0m\u001b[0m\n\u001b[0;32m-> 1075\u001b[0;31m             \u001b[0;32mraise\u001b[0m \u001b[0merr\u001b[0m\u001b[0;34m.\u001b[0m\u001b[0mInterfaceError\u001b[0m\u001b[0;34m(\u001b[0m\u001b[0;34m\"(0, '')\"\u001b[0m\u001b[0;34m)\u001b[0m\u001b[0;34m\u001b[0m\u001b[0m\n\u001b[0m\u001b[1;32m   1076\u001b[0m \u001b[0;34m\u001b[0m\u001b[0m\n\u001b[1;32m   1077\u001b[0m         \u001b[0;31m# If the last query was unbuffered, make sure it finishes before\u001b[0m\u001b[0;34m\u001b[0m\u001b[0;34m\u001b[0m\u001b[0m\n",
      "\u001b[0;31mInterfaceError\u001b[0m: (0, '')"
     ]
    }
   ],
   "source": [
    "sql = \"SELECT * FROM yejinyDB.Rcp where now_st != -1;\"\n",
    "curs.execute(sql)\n",
    "zziny_rcp_table = curs.fetchall()\n",
    "\n",
    "conn.commit()\n",
    "conn.close()\n",
    "    \n",
    "server.stop()"
   ]
  },
  {
   "cell_type": "code",
   "execution_count": 218,
   "metadata": {},
   "outputs": [],
   "source": [
    "zziny_rcp = pd.DataFrame.from_dict(zziny_rcp_table)"
   ]
  },
  {
   "cell_type": "code",
   "execution_count": 224,
   "metadata": {},
   "outputs": [],
   "source": [
    "zziny_rcp.to_csv('실시간공시실시간주가.csv', encoding='utf-8')"
   ]
  },
  {
   "cell_type": "code",
   "execution_count": 235,
   "metadata": {},
   "outputs": [
    {
     "data": {
      "text/html": [
       "<div>\n",
       "<style scoped>\n",
       "    .dataframe tbody tr th:only-of-type {\n",
       "        vertical-align: middle;\n",
       "    }\n",
       "\n",
       "    .dataframe tbody tr th {\n",
       "        vertical-align: top;\n",
       "    }\n",
       "\n",
       "    .dataframe thead th {\n",
       "        text-align: right;\n",
       "    }\n",
       "</style>\n",
       "<table border=\"1\" class=\"dataframe\">\n",
       "  <thead>\n",
       "    <tr style=\"text-align: right;\">\n",
       "      <th></th>\n",
       "      <th>close</th>\n",
       "      <th>crp_cd_x</th>\n",
       "      <th>date_x</th>\n",
       "      <th>datecd</th>\n",
       "      <th>diff</th>\n",
       "      <th>high</th>\n",
       "      <th>low</th>\n",
       "      <th>open</th>\n",
       "      <th>volume</th>\n",
       "      <th>year_x</th>\n",
       "      <th>...</th>\n",
       "      <th>now_volume</th>\n",
       "      <th>date_y</th>\n",
       "      <th>rcp_no</th>\n",
       "      <th>rmk</th>\n",
       "      <th>rpt_cat</th>\n",
       "      <th>rpt_link</th>\n",
       "      <th>rpt_nm</th>\n",
       "      <th>year_y</th>\n",
       "      <th>month_y</th>\n",
       "      <th>day_y</th>\n",
       "    </tr>\n",
       "  </thead>\n",
       "  <tbody>\n",
       "  </tbody>\n",
       "</table>\n",
       "<p>0 rows × 26 columns</p>\n",
       "</div>"
      ],
      "text/plain": [
       "Empty DataFrame\n",
       "Columns: [close, crp_cd_x, date_x, datecd, diff, high, low, open, volume, year_x, month_x, day_x, crp_cd_y, now_diff, now_st, now_trd, now_volume, date_y, rcp_no, rmk, rpt_cat, rpt_link, rpt_nm, year_y, month_y, day_y]\n",
       "Index: []\n",
       "\n",
       "[0 rows x 26 columns]"
      ]
     },
     "execution_count": 235,
     "metadata": {},
     "output_type": "execute_result"
    }
   ],
   "source": [
    "merged_pd"
   ]
  },
  {
   "cell_type": "code",
   "execution_count": 234,
   "metadata": {},
   "outputs": [],
   "source": [
    "merged_pd.to_csv('공시와회사merge.csv', encoding='utf-8')"
   ]
  },
  {
   "cell_type": "code",
   "execution_count": 241,
   "metadata": {},
   "outputs": [
    {
     "ename": "SyntaxError",
     "evalue": "invalid syntax (<ipython-input-241-b6b09a37e8ee>, line 1)",
     "output_type": "error",
     "traceback": [
      "\u001b[0;36m  File \u001b[0;32m\"<ipython-input-241-b6b09a37e8ee>\"\u001b[0;36m, line \u001b[0;32m1\u001b[0m\n\u001b[0;31m    close_pd = close_pd['year'=2017]\u001b[0m\n\u001b[0m                              ^\u001b[0m\n\u001b[0;31mSyntaxError\u001b[0m\u001b[0;31m:\u001b[0m invalid syntax\n"
     ]
    }
   ],
   "source": [
    "close_pd = close_pd['year'=2017]"
   ]
  },
  {
   "cell_type": "code",
   "execution_count": null,
   "metadata": {},
   "outputs": [],
   "source": []
  }
 ],
 "metadata": {
  "kernelspec": {
   "display_name": "Python 3",
   "language": "python",
   "name": "python3"
  },
  "language_info": {
   "codemirror_mode": {
    "name": "ipython",
    "version": 3
   },
   "file_extension": ".py",
   "mimetype": "text/x-python",
   "name": "python",
   "nbconvert_exporter": "python",
   "pygments_lexer": "ipython3",
   "version": "3.5.2"
  }
 },
 "nbformat": 4,
 "nbformat_minor": 2
}
