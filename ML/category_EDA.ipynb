{
 "cells": [
  {
   "cell_type": "code",
   "execution_count": 12,
   "metadata": {},
   "outputs": [],
   "source": [
    "import numpy as np\n",
    "import matplotlib as plt\n",
    "import pymysql\n",
    "from datetime import datetime, timedelta\n",
    "from sshtunnel import SSHTunnelForwarder\n",
    "import pandas as pd\n",
    "% matplotlib inline\n",
    "import seaborn as sns\n",
    "import pickle"
   ]
  },
  {
   "cell_type": "markdown",
   "metadata": {},
   "source": [
    "## 8/8 scikit-learning logistic regression"
   ]
  },
  {
   "cell_type": "code",
   "execution_count": 31,
   "metadata": {},
   "outputs": [],
   "source": [
    "#import dataframe\n",
    "df = pickle.load(open('df_for_ml.bin', 'rb'))"
   ]
  },
  {
   "cell_type": "code",
   "execution_count": 32,
   "metadata": {
    "scrolled": false
   },
   "outputs": [
    {
     "data": {
      "text/plain": [
       "1298247"
      ]
     },
     "execution_count": 32,
     "metadata": {},
     "output_type": "execute_result"
    }
   ],
   "source": [
    "len(df)"
   ]
  },
  {
   "cell_type": "code",
   "execution_count": 33,
   "metadata": {},
   "outputs": [
    {
     "data": {
      "text/html": [
       "<div>\n",
       "<style scoped>\n",
       "    .dataframe tbody tr th:only-of-type {\n",
       "        vertical-align: middle;\n",
       "    }\n",
       "\n",
       "    .dataframe tbody tr th {\n",
       "        vertical-align: top;\n",
       "    }\n",
       "\n",
       "    .dataframe thead th {\n",
       "        text-align: right;\n",
       "    }\n",
       "</style>\n",
       "<table border=\"1\" class=\"dataframe\">\n",
       "  <thead>\n",
       "    <tr style=\"text-align: right;\">\n",
       "      <th></th>\n",
       "      <th>crp_cd_x</th>\n",
       "      <th>crp_cls</th>\n",
       "      <th>crp_nm</th>\n",
       "      <th>rcp_dt</th>\n",
       "      <th>rcp_no</th>\n",
       "      <th>rpt_cat</th>\n",
       "      <th>rpt_nm</th>\n",
       "      <th>rcp_year</th>\n",
       "      <th>rcp_month</th>\n",
       "      <th>rcp_day</th>\n",
       "      <th>datecd</th>\n",
       "      <th>close</th>\n",
       "      <th>open</th>\n",
       "      <th>diff</th>\n",
       "      <th>high</th>\n",
       "      <th>low</th>\n",
       "      <th>open</th>\n",
       "      <th>volume</th>\n",
       "      <th>setting_y</th>\n",
       "    </tr>\n",
       "  </thead>\n",
       "  <tbody>\n",
       "    <tr>\n",
       "      <th>0</th>\n",
       "      <td>023150</td>\n",
       "      <td>Y</td>\n",
       "      <td>MH에탄올</td>\n",
       "      <td>1999-03-25</td>\n",
       "      <td>19990325000001</td>\n",
       "      <td>E_1</td>\n",
       "      <td>사업보고서 (1998.12)</td>\n",
       "      <td>1999</td>\n",
       "      <td>03</td>\n",
       "      <td>25</td>\n",
       "      <td>19990325023150</td>\n",
       "      <td>NaN</td>\n",
       "      <td>NaN</td>\n",
       "      <td>NaN</td>\n",
       "      <td>NaN</td>\n",
       "      <td>NaN</td>\n",
       "      <td>NaN</td>\n",
       "      <td>NaN</td>\n",
       "      <td>0</td>\n",
       "    </tr>\n",
       "    <tr>\n",
       "      <th>1</th>\n",
       "      <td>001140</td>\n",
       "      <td>Y</td>\n",
       "      <td>국보</td>\n",
       "      <td>1999-03-25</td>\n",
       "      <td>19990325000003</td>\n",
       "      <td>E_1</td>\n",
       "      <td>사업보고서 (1998.12)</td>\n",
       "      <td>1999</td>\n",
       "      <td>03</td>\n",
       "      <td>25</td>\n",
       "      <td>19990325001140</td>\n",
       "      <td>7800.0</td>\n",
       "      <td>7800.0</td>\n",
       "      <td>40.0</td>\n",
       "      <td>8000.0</td>\n",
       "      <td>7620.0</td>\n",
       "      <td>7800.0</td>\n",
       "      <td>10080.0</td>\n",
       "      <td>1</td>\n",
       "    </tr>\n",
       "    <tr>\n",
       "      <th>2</th>\n",
       "      <td>014160</td>\n",
       "      <td>Y</td>\n",
       "      <td>대영포장</td>\n",
       "      <td>1999-03-25</td>\n",
       "      <td>19990325000008</td>\n",
       "      <td>E_1</td>\n",
       "      <td>사업보고서 (1998.12)</td>\n",
       "      <td>1999</td>\n",
       "      <td>03</td>\n",
       "      <td>25</td>\n",
       "      <td>19990325014160</td>\n",
       "      <td>10500.0</td>\n",
       "      <td>11500.0</td>\n",
       "      <td>150.0</td>\n",
       "      <td>11700.0</td>\n",
       "      <td>10500.0</td>\n",
       "      <td>11500.0</td>\n",
       "      <td>454110.0</td>\n",
       "      <td>0</td>\n",
       "    </tr>\n",
       "    <tr>\n",
       "      <th>3</th>\n",
       "      <td>002310</td>\n",
       "      <td>Y</td>\n",
       "      <td>아세아제지</td>\n",
       "      <td>1999-03-25</td>\n",
       "      <td>19990325000015</td>\n",
       "      <td>E_1</td>\n",
       "      <td>사업보고서 (1998.12)</td>\n",
       "      <td>1999</td>\n",
       "      <td>03</td>\n",
       "      <td>25</td>\n",
       "      <td>19990325002310</td>\n",
       "      <td>10800.0</td>\n",
       "      <td>10550.0</td>\n",
       "      <td>300.0</td>\n",
       "      <td>11200.0</td>\n",
       "      <td>10500.0</td>\n",
       "      <td>10550.0</td>\n",
       "      <td>75860.0</td>\n",
       "      <td>1</td>\n",
       "    </tr>\n",
       "    <tr>\n",
       "      <th>4</th>\n",
       "      <td>015360</td>\n",
       "      <td>Y</td>\n",
       "      <td>예스코</td>\n",
       "      <td>1999-03-25</td>\n",
       "      <td>19990325000016</td>\n",
       "      <td>E_1</td>\n",
       "      <td>사업보고서 (1998.12)</td>\n",
       "      <td>1999</td>\n",
       "      <td>03</td>\n",
       "      <td>25</td>\n",
       "      <td>19990325015360</td>\n",
       "      <td>25400.0</td>\n",
       "      <td>24900.0</td>\n",
       "      <td>0.0</td>\n",
       "      <td>25600.0</td>\n",
       "      <td>24900.0</td>\n",
       "      <td>24900.0</td>\n",
       "      <td>6900.0</td>\n",
       "      <td>1</td>\n",
       "    </tr>\n",
       "  </tbody>\n",
       "</table>\n",
       "</div>"
      ],
      "text/plain": [
       "  crp_cd_x crp_cls crp_nm     rcp_dt          rcp_no rpt_cat           rpt_nm  \\\n",
       "0   023150       Y  MH에탄올 1999-03-25  19990325000001     E_1  사업보고서 (1998.12)   \n",
       "1   001140       Y     국보 1999-03-25  19990325000003     E_1  사업보고서 (1998.12)   \n",
       "2   014160       Y   대영포장 1999-03-25  19990325000008     E_1  사업보고서 (1998.12)   \n",
       "3   002310       Y  아세아제지 1999-03-25  19990325000015     E_1  사업보고서 (1998.12)   \n",
       "4   015360       Y    예스코 1999-03-25  19990325000016     E_1  사업보고서 (1998.12)   \n",
       "\n",
       "  rcp_year rcp_month rcp_day          datecd    close     open   diff  \\\n",
       "0     1999        03      25  19990325023150      NaN      NaN    NaN   \n",
       "1     1999        03      25  19990325001140   7800.0   7800.0   40.0   \n",
       "2     1999        03      25  19990325014160  10500.0  11500.0  150.0   \n",
       "3     1999        03      25  19990325002310  10800.0  10550.0  300.0   \n",
       "4     1999        03      25  19990325015360  25400.0  24900.0    0.0   \n",
       "\n",
       "      high      low     open    volume  setting_y  \n",
       "0      NaN      NaN      NaN       NaN          0  \n",
       "1   8000.0   7620.0   7800.0   10080.0          1  \n",
       "2  11700.0  10500.0  11500.0  454110.0          0  \n",
       "3  11200.0  10500.0  10550.0   75860.0          1  \n",
       "4  25600.0  24900.0  24900.0    6900.0          1  "
      ]
     },
     "execution_count": 33,
     "metadata": {},
     "output_type": "execute_result"
    }
   ],
   "source": [
    "df.head()"
   ]
  },
  {
   "cell_type": "code",
   "execution_count": 71,
   "metadata": {},
   "outputs": [
    {
     "data": {
      "text/plain": [
       "array(['E_1', 'E_3', 'GS', 'G_06', 'G_08', 'L1_03', 'T_1', 'I_09', 'B_25',\n",
       "       'I_07', 'L1_04', 'G_10', 'B_2', 'B_3', 'E_4', 'I_08', 'I_01',\n",
       "       'B_1', 'B_23', 'K_3', 'T_2', 'B_16', 'K_5', 'B_4', 'T_5', 'B_7',\n",
       "       'K_4', 'K_2', 'K_1', 'E_2', 'I_03', 'MS_04', 'B_5', 'I_10', 'I_17',\n",
       "       'B_6', 'I_06', 'I_12', 'B_8', 'T_3', 'K_7', 'T_4', 'H2_09', 'G_09',\n",
       "       'R_01', 'ET_01', 'G_04', 'N_01', 'N_03', 'R_02', 'R_03', 'B_9',\n",
       "       'B_10', 'B_21', 'G_01', 'G_02', 'B_24', 'B_22', 'L1_01', 'S_03',\n",
       "       'S_02', 'K_6', 'G_03', 'MS_01', 'H2_10', 'H2_13', 'C_03', 'H2_11',\n",
       "       'G_07', 'H2_03', 'H2_04', 'L1_02', 'C_01', 'H2_01', 'N_05', 'N_04',\n",
       "       'S_01', 'C_02', 'L2_04', 'L2_03', 'L2_05', 'B_13', 'G_11', 'H2_12',\n",
       "       'I_02', 'I_05', 'I_14', 'I_04', 'H2_02', 'I_15', 'I_16', 'H1_02',\n",
       "       'H1_09', 'H1_03', 'H1_05', 'H1_06', 'H1_08', 'H1_04', 'H1_07',\n",
       "       'H2_07', 'L2_06', 'R_04', 'R_05', 'H2_06', 'B_14', 'B_12', 'B_15',\n",
       "       'B_11', 'N_02', 'B_20', 'H2_05', 'I_20', 'B_07', 'B_03'],\n",
       "      dtype=object)"
      ]
     },
     "execution_count": 71,
     "metadata": {},
     "output_type": "execute_result"
    }
   ],
   "source": [
    "#df['rpt_cat'] = df['rpt_cat'].str.replace('-', '_')\n",
    "df.rpt_cat.unique()"
   ]
  },
  {
   "cell_type": "code",
   "execution_count": 72,
   "metadata": {},
   "outputs": [],
   "source": [
    "df['rpt_big'] = df['rpt_cat'].str[0:2]"
   ]
  },
  {
   "cell_type": "code",
   "execution_count": 74,
   "metadata": {
    "scrolled": true
   },
   "outputs": [
    {
     "data": {
      "text/plain": [
       "1           E\n",
       "2           E\n",
       "3           E\n",
       "4           E\n",
       "5           E\n",
       "8           E\n",
       "9           E\n",
       "10          E\n",
       "11          E\n",
       "12          E\n",
       "13          E\n",
       "14          E\n",
       "15          E\n",
       "16          E\n",
       "17          E\n",
       "18          E\n",
       "19          E\n",
       "20          E\n",
       "21          E\n",
       "22          E\n",
       "23          E\n",
       "24          E\n",
       "25          E\n",
       "26          E\n",
       "27          E\n",
       "28          E\n",
       "29          E\n",
       "30          E\n",
       "31          E\n",
       "32          E\n",
       "           ..\n",
       "1258928     K\n",
       "1258929     K\n",
       "1258930     S\n",
       "1258933     K\n",
       "1258939     K\n",
       "1258941     B\n",
       "1258945     G\n",
       "1258946     B\n",
       "1258948    GS\n",
       "1258949     K\n",
       "1258957    ET\n",
       "1258961     K\n",
       "1258968     K\n",
       "1258974     E\n",
       "1258975     E\n",
       "1258993     K\n",
       "1258996     K\n",
       "1258997     B\n",
       "1259001     K\n",
       "1259002     K\n",
       "1259003    H2\n",
       "1259008     B\n",
       "1259010     K\n",
       "1259012     K\n",
       "1259097     G\n",
       "1259099     G\n",
       "1259113     K\n",
       "1259114     B\n",
       "1259115     K\n",
       "1259121     B\n",
       "Name: rpt_big, Length: 772387, dtype: object"
      ]
     },
     "execution_count": 74,
     "metadata": {},
     "output_type": "execute_result"
    }
   ],
   "source": [
    "#df['rpt_big'] = df['rpt_big'].str.replace('_', '')\n",
    "df['rpt_big']"
   ]
  },
  {
   "cell_type": "code",
   "execution_count": 34,
   "metadata": {},
   "outputs": [],
   "source": [
    "df.dropna(inplace = True)"
   ]
  },
  {
   "cell_type": "code",
   "execution_count": 35,
   "metadata": {},
   "outputs": [
    {
     "data": {
      "text/plain": [
       "772387"
      ]
     },
     "execution_count": 35,
     "metadata": {},
     "output_type": "execute_result"
    }
   ],
   "source": [
    "#before dropna 1298247\n",
    "#after dropna 772387\n",
    "len(df)"
   ]
  },
  {
   "cell_type": "code",
   "execution_count": 37,
   "metadata": {},
   "outputs": [],
   "source": [
    "from sklearn.linear_model import LogisticRegression\n",
    "from sklearn.cross_validation import train_test_split"
   ]
  },
  {
   "cell_type": "code",
   "execution_count": 75,
   "metadata": {},
   "outputs": [],
   "source": [
    "data = df[['rpt_cat', 'setting_y']]"
   ]
  },
  {
   "cell_type": "code",
   "execution_count": 77,
   "metadata": {},
   "outputs": [
    {
     "data": {
      "text/plain": [
       "<matplotlib.axes._subplots.AxesSubplot at 0x7f120a441d68>"
      ]
     },
     "execution_count": 77,
     "metadata": {},
     "output_type": "execute_result"
    },
    {
     "data": {
      "image/png": "[encoded data removed]",
      "text/plain": [
       "<matplotlib.figure.Figure at 0x7f120a2d3ef0>"
      ]
     },
     "metadata": {},
     "output_type": "display_data"
    }
   ],
   "source": [
    "%matplotlib inline\n",
    "pd.crosstab(df.rpt_big, df.setting_y).plot(kind='bar')"
   ]
  },
  {
   "cell_type": "code",
   "execution_count": 82,
   "metadata": {},
   "outputs": [],
   "source": [
    "#기준 = 2008\n",
    "before = df.loc[lambda df : df.rcp_year < '2008', :]\n",
    "after = df.loc[lambda df : df.rcp_year > '2008', :]"
   ]
  },
  {
   "cell_type": "code",
   "execution_count": 84,
   "metadata": {},
   "outputs": [
    {
     "data": {
      "text/plain": [
       "<matplotlib.axes._subplots.AxesSubplot at 0x7f120a200320>"
      ]
     },
     "execution_count": 84,
     "metadata": {},
     "output_type": "execute_result"
    },
    {
     "data": {
      "image/png": "[encoded data removed]",
      "text/plain": [
       "<matplotlib.figure.Figure at 0x7f120a34f978>"
      ]
     },
     "metadata": {},
     "output_type": "display_data"
    }
   ],
   "source": [
    "pd.crosstab(before.rpt_big, before.setting_y).plot(kind='bar')"
   ]
  },
  {
   "cell_type": "code",
   "execution_count": 85,
   "metadata": {},
   "outputs": [
    {
     "data": {
      "text/plain": [
       "<matplotlib.axes._subplots.AxesSubplot at 0x7f120a191a58>"
      ]
     },
     "execution_count": 85,
     "metadata": {},
     "output_type": "execute_result"
    },
    {
     "data": {
      "image/png": "[encoded data removed]",
      "text/plain": [
       "<matplotlib.figure.Figure at 0x7f120a1e19b0>"
      ]
     },
     "metadata": {},
     "output_type": "display_data"
    }
   ],
   "source": [
    "pd.crosstab(after.rpt_big, after.setting_y).plot(kind='bar')"
   ]
  },
  {
   "cell_type": "code",
   "execution_count": 100,
   "metadata": {},
   "outputs": [],
   "source": [
    "#data갯수가 가장 많은 G\n",
    "G= df[df['rpt_cat'].str.contains('G')]\n",
    "G = G[G['rpt_cat'].str.contains('GS') == False]"
   ]
  },
  {
   "cell_type": "code",
   "execution_count": 101,
   "metadata": {},
   "outputs": [
    {
     "data": {
      "text/html": [
       "<div>\n",
       "<style scoped>\n",
       "    .dataframe tbody tr th:only-of-type {\n",
       "        vertical-align: middle;\n",
       "    }\n",
       "\n",
       "    .dataframe tbody tr th {\n",
       "        vertical-align: top;\n",
       "    }\n",
       "\n",
       "    .dataframe thead th {\n",
       "        text-align: right;\n",
       "    }\n",
       "</style>\n",
       "<table border=\"1\" class=\"dataframe\">\n",
       "  <thead>\n",
       "    <tr style=\"text-align: right;\">\n",
       "      <th></th>\n",
       "      <th>crp_cd_x</th>\n",
       "      <th>crp_cls</th>\n",
       "      <th>crp_nm</th>\n",
       "      <th>rcp_dt</th>\n",
       "      <th>rcp_no</th>\n",
       "      <th>rpt_cat</th>\n",
       "      <th>rpt_nm</th>\n",
       "      <th>rcp_year</th>\n",
       "      <th>rcp_month</th>\n",
       "      <th>rcp_day</th>\n",
       "      <th>datecd</th>\n",
       "      <th>close</th>\n",
       "      <th>open</th>\n",
       "      <th>diff</th>\n",
       "      <th>high</th>\n",
       "      <th>low</th>\n",
       "      <th>open</th>\n",
       "      <th>volume</th>\n",
       "      <th>setting_y</th>\n",
       "      <th>rpt_big</th>\n",
       "    </tr>\n",
       "  </thead>\n",
       "  <tbody>\n",
       "    <tr>\n",
       "      <th>1129</th>\n",
       "      <td>020400</td>\n",
       "      <td>K</td>\n",
       "      <td>대동금속</td>\n",
       "      <td>2000-03-06</td>\n",
       "      <td>20000306000022</td>\n",
       "      <td>G_06</td>\n",
       "      <td>일반투자자-주식등의대량보유(변동)보고서</td>\n",
       "      <td>2000</td>\n",
       "      <td>03</td>\n",
       "      <td>06</td>\n",
       "      <td>20000306020400</td>\n",
       "      <td>10350.0</td>\n",
       "      <td>12000.0</td>\n",
       "      <td>550.0</td>\n",
       "      <td>12200.0</td>\n",
       "      <td>9600.0</td>\n",
       "      <td>12000.0</td>\n",
       "      <td>20209.0</td>\n",
       "      <td>0</td>\n",
       "      <td>G</td>\n",
       "    </tr>\n",
       "    <tr>\n",
       "      <th>1131</th>\n",
       "      <td>001550</td>\n",
       "      <td>Y</td>\n",
       "      <td>조비</td>\n",
       "      <td>2000-03-06</td>\n",
       "      <td>20000306000025</td>\n",
       "      <td>G_08</td>\n",
       "      <td>임원ㆍ주요주주특정증권등소유상황보고서</td>\n",
       "      <td>2000</td>\n",
       "      <td>03</td>\n",
       "      <td>06</td>\n",
       "      <td>20000306001550</td>\n",
       "      <td>8700.0</td>\n",
       "      <td>9050.0</td>\n",
       "      <td>70.0</td>\n",
       "      <td>10050.0</td>\n",
       "      <td>8270.0</td>\n",
       "      <td>9050.0</td>\n",
       "      <td>95140.0</td>\n",
       "      <td>0</td>\n",
       "      <td>G</td>\n",
       "    </tr>\n",
       "    <tr>\n",
       "      <th>1132</th>\n",
       "      <td>001550</td>\n",
       "      <td>Y</td>\n",
       "      <td>조비</td>\n",
       "      <td>2000-03-06</td>\n",
       "      <td>20000306000026</td>\n",
       "      <td>G_06</td>\n",
       "      <td>일반투자자-주식등의대량보유(변동)보고서</td>\n",
       "      <td>2000</td>\n",
       "      <td>03</td>\n",
       "      <td>06</td>\n",
       "      <td>20000306001550</td>\n",
       "      <td>8700.0</td>\n",
       "      <td>9050.0</td>\n",
       "      <td>70.0</td>\n",
       "      <td>10050.0</td>\n",
       "      <td>8270.0</td>\n",
       "      <td>9050.0</td>\n",
       "      <td>95140.0</td>\n",
       "      <td>0</td>\n",
       "      <td>G</td>\n",
       "    </tr>\n",
       "    <tr>\n",
       "      <th>1135</th>\n",
       "      <td>016450</td>\n",
       "      <td>Y</td>\n",
       "      <td>한세예스24홀딩스</td>\n",
       "      <td>2000-03-07</td>\n",
       "      <td>20000307000032</td>\n",
       "      <td>G_08</td>\n",
       "      <td>임원ㆍ주요주주특정증권등소유상황보고서</td>\n",
       "      <td>2000</td>\n",
       "      <td>03</td>\n",
       "      <td>07</td>\n",
       "      <td>20000307016450</td>\n",
       "      <td>26750.0</td>\n",
       "      <td>28750.0</td>\n",
       "      <td>1900.0</td>\n",
       "      <td>28750.0</td>\n",
       "      <td>26600.0</td>\n",
       "      <td>28750.0</td>\n",
       "      <td>2840.0</td>\n",
       "      <td>0</td>\n",
       "      <td>G</td>\n",
       "    </tr>\n",
       "    <tr>\n",
       "      <th>1140</th>\n",
       "      <td>001550</td>\n",
       "      <td>Y</td>\n",
       "      <td>조비</td>\n",
       "      <td>2000-03-08</td>\n",
       "      <td>20000308000011</td>\n",
       "      <td>G_06</td>\n",
       "      <td>일반투자자-주식등의대량보유(변동)보고서</td>\n",
       "      <td>2000</td>\n",
       "      <td>03</td>\n",
       "      <td>08</td>\n",
       "      <td>20000308001550</td>\n",
       "      <td>9600.0</td>\n",
       "      <td>9100.0</td>\n",
       "      <td>500.0</td>\n",
       "      <td>10100.0</td>\n",
       "      <td>8600.0</td>\n",
       "      <td>9100.0</td>\n",
       "      <td>26920.0</td>\n",
       "      <td>1</td>\n",
       "      <td>G</td>\n",
       "    </tr>\n",
       "  </tbody>\n",
       "</table>\n",
       "</div>"
      ],
      "text/plain": [
       "     crp_cd_x crp_cls     crp_nm     rcp_dt          rcp_no rpt_cat  \\\n",
       "1129   020400       K       대동금속 2000-03-06  20000306000022    G_06   \n",
       "1131   001550       Y         조비 2000-03-06  20000306000025    G_08   \n",
       "1132   001550       Y         조비 2000-03-06  20000306000026    G_06   \n",
       "1135   016450       Y  한세예스24홀딩스 2000-03-07  20000307000032    G_08   \n",
       "1140   001550       Y         조비 2000-03-08  20000308000011    G_06   \n",
       "\n",
       "                     rpt_nm rcp_year rcp_month rcp_day          datecd  \\\n",
       "1129  일반투자자-주식등의대량보유(변동)보고서     2000        03      06  20000306020400   \n",
       "1131    임원ㆍ주요주주특정증권등소유상황보고서     2000        03      06  20000306001550   \n",
       "1132  일반투자자-주식등의대량보유(변동)보고서     2000        03      06  20000306001550   \n",
       "1135    임원ㆍ주요주주특정증권등소유상황보고서     2000        03      07  20000307016450   \n",
       "1140  일반투자자-주식등의대량보유(변동)보고서     2000        03      08  20000308001550   \n",
       "\n",
       "        close     open    diff     high      low     open   volume  setting_y  \\\n",
       "1129  10350.0  12000.0   550.0  12200.0   9600.0  12000.0  20209.0          0   \n",
       "1131   8700.0   9050.0    70.0  10050.0   8270.0   9050.0  95140.0          0   \n",
       "1132   8700.0   9050.0    70.0  10050.0   8270.0   9050.0  95140.0          0   \n",
       "1135  26750.0  28750.0  1900.0  28750.0  26600.0  28750.0   2840.0          0   \n",
       "1140   9600.0   9100.0   500.0  10100.0   8600.0   9100.0  26920.0          1   \n",
       "\n",
       "     rpt_big  \n",
       "1129       G  \n",
       "1131       G  \n",
       "1132       G  \n",
       "1135       G  \n",
       "1140       G  "
      ]
     },
     "execution_count": 101,
     "metadata": {},
     "output_type": "execute_result"
    }
   ],
   "source": [
    "G.head()"
   ]
  },
  {
   "cell_type": "code",
   "execution_count": 103,
   "metadata": {},
   "outputs": [
    {
     "data": {
      "text/plain": [
       "<matplotlib.axes._subplots.AxesSubplot at 0x7f121a162da0>"
      ]
     },
     "execution_count": 103,
     "metadata": {},
     "output_type": "execute_result"
    },
    {
     "data": {
      "image/png": "[encoded data removed]",
      "text/plain": [
       "<matplotlib.figure.Figure at 0x7f121a1a4828>"
      ]
     },
     "metadata": {},
     "output_type": "display_data"
    }
   ],
   "source": [
    "pd.crosstab(G.rpt_cat, G.setting_y).plot(kind='bar')"
   ]
  },
  {
   "cell_type": "code",
   "execution_count": 105,
   "metadata": {},
   "outputs": [],
   "source": [
    "before_G = G.loc[lambda G : G.rcp_year < '2008', :]"
   ]
  },
  {
   "cell_type": "code",
   "execution_count": 106,
   "metadata": {},
   "outputs": [
    {
     "data": {
      "text/plain": [
       "<matplotlib.axes._subplots.AxesSubplot at 0x7f1207556860>"
      ]
     },
     "execution_count": 106,
     "metadata": {},
     "output_type": "execute_result"
    },
    {
     "data": {
      "image/png": "[encoded data removed]",
      "text/plain": [
       "<matplotlib.figure.Figure at 0x7f121a156da0>"
      ]
     },
     "metadata": {},
     "output_type": "display_data"
    }
   ],
   "source": [
    "pd.crosstab(before_G.rpt_cat, before_G.setting_y).plot(kind='bar')"
   ]
  },
  {
   "cell_type": "code",
   "execution_count": null,
   "metadata": {},
   "outputs": [],
   "source": []
  }
 ],
 "metadata": {
  "kernelspec": {
   "display_name": "Python 3",
   "language": "python",
   "name": "python3"
  },
  "language_info": {
   "codemirror_mode": {
    "name": "ipython",
    "version": 3
   },
   "file_extension": ".py",
   "mimetype": "text/x-python",
   "name": "python",
   "nbconvert_exporter": "python",
   "pygments_lexer": "ipython3",
   "version": "3.5.2"
  }
 },
 "nbformat": 4,
 "nbformat_minor": 2
}
