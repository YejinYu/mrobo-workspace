{
 "cells": [
  {
   "cell_type": "code",
   "execution_count": 1,
   "metadata": {},
   "outputs": [],
   "source": [
    "import pymysql\n",
    "import requests\n",
    "import json\n",
    "import pandas as pd\n",
    "from datetime import datetime\n",
    "from time import sleep\n",
    "import sys"
   ]
  },
  {
   "cell_type": "code",
   "execution_count": 2,
   "metadata": {},
   "outputs": [],
   "source": [
    "def get_now(crp_cd):\n",
    "    URL = 'http://polling.finance.naver.com/api/realtime.nhn?query=SERVICE_ITEM:'+crp_cd\n",
    "    data = {'outer': {'inner': 'value'}}\n",
    "    res = requests.post(URL, data=json.dumps(data))\n",
    "    tmp = res.json()['result']['areas'][0]['datas'][0]\n",
    "    result = {'now_st':tmp['nv'], 'now_diff':tmp['sv']-tmp['nv'], 'now_volume':tmp['aq'], 'now_trd':tmp['aa']}\n",
    "    return result"
   ]
  },
  {
   "cell_type": "code",
   "execution_count": 3,
   "metadata": {},
   "outputs": [
    {
     "data": {
      "text/plain": [
       "{'now_diff': -3000,\n",
       " 'now_st': 124500,\n",
       " 'now_trd': 24566943500,\n",
       " 'now_volume': 198925}"
      ]
     },
     "execution_count": 3,
     "metadata": {},
     "output_type": "execute_result"
    }
   ],
   "source": [
    "get_now('005380')"
   ]
  }
 ],
 "metadata": {
  "kernelspec": {
   "display_name": "Python 3",
   "language": "python",
   "name": "python3"
  },
  "language_info": {
   "codemirror_mode": {
    "name": "ipython",
    "version": 3
   },
   "file_extension": ".py",
   "mimetype": "text/x-python",
   "name": "python",
   "nbconvert_exporter": "python",
   "pygments_lexer": "ipython3",
   "version": "3.5.2"
  }
 },
 "nbformat": 4,
 "nbformat_minor": 2
}
