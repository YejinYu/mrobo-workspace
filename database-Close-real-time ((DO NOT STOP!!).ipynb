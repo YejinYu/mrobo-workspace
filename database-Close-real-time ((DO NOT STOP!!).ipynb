{
 "cells": [
  {
   "cell_type": "code",
   "execution_count": 22,
   "metadata": {},
   "outputs": [],
   "source": [
    "from datetime import datetime\n",
    "from time import sleep\n",
    "import pymysql\n",
    "import pandas as pd\n",
    "import threading\n",
    "import requests\n",
    "import json\n",
    "import sys"
   ]
  },
  {
   "cell_type": "code",
   "execution_count": 11,
   "metadata": {},
   "outputs": [],
   "source": [
    "# MySQL Connection 연결 (DB 연결)\n",
    "def setting_db():\n",
    "    conn = pymysql.connect(host=\"localhost\", \n",
    "                       port=3306, user=\"root\", \n",
    "                       passwd=\"qlqtmajrwk\",\n",
    "                       db=\"yejinyDB\",\n",
    "                       charset=\"utf8\")\n",
    "    cursor = conn.cursor()# (pymysql.cursors.DictCursor) # 리스트로 받기(tuple은 conn.cursor())\n",
    "    return conn, cursor"
   ]
  },
  {
   "cell_type": "code",
   "execution_count": 42,
   "metadata": {},
   "outputs": [],
   "source": [
    "def get_now(crp_cd):\n",
    "    URL = 'http://polling.finance.naver.com/api/realtime.nhn?query=SERVICE_ITEM:'+crp_cd\n",
    "    data = {'outer': {'inner': 'value'}}\n",
    "    res = requests.post(URL, data=json.dumps(data))\n",
    "    tmp = res.json()['result']['areas'][0]['datas'][0]\n",
    "    try:\n",
    "        result = {'open':tmp['ov'], 'high':tmp['hv'], 'low':tmp['lv'], 'close':tmp['nv'], 'diff':tmp['nv']-tmp['sv'], 'volume':tmp['aq']}\n",
    "    except:\n",
    "        result = {'open':-1, 'high':-1, 'low':-1, 'close':-1, 'diff':-1, 'volume':-1}\n",
    "\n",
    "    return result"
   ]
  },
  {
   "cell_type": "code",
   "execution_count": 12,
   "metadata": {},
   "outputs": [],
   "source": [
    "#select crp_cd from Crp table\n",
    "conn, cursor = setting_db()\n",
    "sql = \"select crp_cd from Corp where crp_cls = 'Y' or crp_cls = 'K';\"\n",
    "cursor.execute(sql)\n",
    "rows = cursor.fetchall()\n",
    "conn.commit()\n",
    "conn.close()"
   ]
  },
  {
   "cell_type": "code",
   "execution_count": 14,
   "metadata": {},
   "outputs": [],
   "source": [
    "corp_list = []\n",
    "for i in range(0, len(rows)):\n",
    "    corp_list.append(rows[i][0])"
   ]
  },
  {
   "cell_type": "code",
   "execution_count": 30,
   "metadata": {},
   "outputs": [
    {
     "data": {
      "text/plain": [
       "2050"
      ]
     },
     "execution_count": 30,
     "metadata": {},
     "output_type": "execute_result"
    }
   ],
   "source": [
    "len(corp_list)"
   ]
  },
  {
   "cell_type": "code",
   "execution_count": 33,
   "metadata": {},
   "outputs": [
    {
     "data": {
      "text/plain": [
       "{'close': 10600,\n",
       " 'diff': -350,\n",
       " 'high': 11000,\n",
       " 'low': 10600,\n",
       " 'open': 11000,\n",
       " 'volume': 96685}"
      ]
     },
     "execution_count": 33,
     "metadata": {},
     "output_type": "execute_result"
    }
   ],
   "source": [
    "get_now(corp_list[0])"
   ]
  },
  {
   "cell_type": "code",
   "execution_count": 46,
   "metadata": {},
   "outputs": [],
   "source": [
    "def daily_Close_update():\n",
    "    conn, cursor = setting_db()\n",
    "    new = []\n",
    "    now_dt = datetime.now().strftime('%Y-%m-%d %H:%M:%S')\n",
    "\n",
    "    for i in range(0, len(corp_list)):\n",
    "        tmp = get_now(corp_list[i])\n",
    "        new.append([corp_list[i], now_dt, tmp['open'], tmp['high'], tmp['low'], tmp['close'], tmp['diff'], tmp['volume']])\n",
    "\n",
    "    sql = '''insert into Close(\n",
    "            crp_cd, today_dt, open, high, low, close, diff, volume)\n",
    "            values (%s, %s, %s, %s, %s, %s, %s, %s)'''\n",
    "\n",
    "    cursor.executemany(sql, new)\n",
    "    conn.commit()\n",
    "    print(now_dt + \"의 Close 데이터가 append 되었습니다.\")\n",
    "    conn.close()"
   ]
  },
  {
   "cell_type": "code",
   "execution_count": null,
   "metadata": {},
   "outputs": [
    {
     "name": "stdout",
     "output_type": "stream",
     "text": [
      "2018-07-22 21:00:51의 Close 데이터가 append 되었습니다.\n"
     ]
    }
   ],
   "source": [
    "while True:\n",
    "    daily_Close_update()\n",
    "    sleep(72000)"
   ]
  },
  {
   "cell_type": "code",
   "execution_count": null,
   "metadata": {},
   "outputs": [],
   "source": []
  }
 ],
 "metadata": {
  "kernelspec": {
   "display_name": "Python 3",
   "language": "python",
   "name": "python3"
  },
  "language_info": {
   "codemirror_mode": {
    "name": "ipython",
    "version": 3
   },
   "file_extension": ".py",
   "mimetype": "text/x-python",
   "name": "python",
   "nbconvert_exporter": "python",
   "pygments_lexer": "ipython3",
   "version": "3.5.2"
  }
 },
 "nbformat": 4,
 "nbformat_minor": 2
}
